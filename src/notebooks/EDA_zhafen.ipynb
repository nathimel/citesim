{
 "cells": [
  {
   "cell_type": "markdown",
   "metadata": {},
   "source": [
    "# Setup"
   ]
  },
  {
   "cell_type": "markdown",
   "metadata": {},
   "source": [
    "## Imports"
   ]
  },
  {
   "cell_type": "code",
   "execution_count": null,
   "metadata": {},
   "outputs": [],
   "source": [
    "import os"
   ]
  },
  {
   "cell_type": "code",
   "execution_count": null,
   "metadata": {},
   "outputs": [],
   "source": [
    "import numpy as np\n",
    "import pandas as pd"
   ]
  },
  {
   "cell_type": "code",
   "execution_count": null,
   "metadata": {},
   "outputs": [],
   "source": [
    "import matplotlib\n",
    "from matplotlib import patheffects\n",
    "import matplotlib.pyplot as plt\n",
    "import seaborn as sns"
   ]
  },
  {
   "cell_type": "markdown",
   "metadata": {},
   "source": [
    "## Parameters"
   ]
  },
  {
   "cell_type": "code",
   "execution_count": null,
   "metadata": {},
   "outputs": [],
   "source": [
    "keys = [\n",
    "    'Bacon2019',\n",
    "    'hafenLowredshiftLymanLimit2017',\n",
    "    'Imeletal2022',\n",
    "    'Ololube2012',\n",
    "    'Torres2013',\n",
    "    'West2003',\n",
    "]\n",
    "key = keys[1]\n",
    "librarian = 'S2'\n",
    "vectorizer = 'SciBERT'"
   ]
  },
  {
   "cell_type": "markdown",
   "metadata": {},
   "source": [
    "## Process Parameters"
   ]
  },
  {
   "cell_type": "code",
   "execution_count": null,
   "metadata": {},
   "outputs": [],
   "source": [
    "directory = os.path.join(\n",
    "    '../../outputs',\n",
    "    f'librarian={librarian}',\n",
    "    f'vectorizer={vectorizer}',\n",
    ")"
   ]
  },
  {
   "cell_type": "markdown",
   "metadata": {},
   "source": [
    "# Data Preprocessing"
   ]
  },
  {
   "cell_type": "code",
   "execution_count": null,
   "metadata": {},
   "outputs": [],
   "source": [
    "dfs = []\n",
    "for key in keys:\n",
    "    fp = os.path.join(directory, f'center={key}/all_data.csv')\n",
    "    df = pd.read_csv(fp)\n",
    "\n",
    "    # Density categorization\n",
    "    med_density = df['density'].median()\n",
    "    df['density_cat'] = (df['density'] > med_density).astype('category')\n",
    "    df['density_cat'] = df['density_cat'].cat.rename_categories({\n",
    "        True: '> median',\n",
    "        False: '< median',\n",
    "    })\n",
    "\n",
    "    # Center category\n",
    "    df['center'] = key\n",
    "\n",
    "    dfs.append(df)"
   ]
  },
  {
   "cell_type": "code",
   "execution_count": null,
   "metadata": {},
   "outputs": [],
   "source": [
    "# Combine\n",
    "df = pd.concat(dfs)"
   ]
  },
  {
   "cell_type": "code",
   "execution_count": null,
   "metadata": {},
   "outputs": [],
   "source": [
    "# Make a combined category\n",
    "df['label'] = (\n",
    "    df['center'].astype(str) + '_' + df['density_cat'].astype(str)\n",
    ").astype('category')"
   ]
  },
  {
   "cell_type": "code",
   "execution_count": null,
   "metadata": {},
   "outputs": [],
   "source": [
    "# Make a log scale version\n",
    "df['log_cpy'] = np.log10(df['citations_per_year'])\n",
    "df['log_cpy'] = df['log_cpy'].replace(-np.inf, np.nan)"
   ]
  },
  {
   "cell_type": "markdown",
   "metadata": {},
   "source": [
    "# Visualization"
   ]
  },
  {
   "cell_type": "code",
   "execution_count": null,
   "metadata": {},
   "outputs": [],
   "source": [
    "import matplotlib.transforms\n",
    "\n",
    "\n",
    "fig = plt.figure(figsize=(len(keys) * 2.5, 6))\n",
    "ax = plt.gca()\n",
    "\n",
    "sns.violinplot(\n",
    "    ax=ax,\n",
    "    data=df,\n",
    "    x='center',\n",
    "    y='log_cpy',\n",
    "    hue='density_cat',\n",
    "    split=True,\n",
    "    inner='quart',\n",
    "    dodge=True,\n",
    "    gap=0,\n",
    ")\n",
    "\n",
    "df_by_center = df.groupby('center')\n",
    "for i, key in enumerate(keys):\n",
    "\n",
    "    # Get the group\n",
    "    df_center = df_by_center.get_group(key)\n",
    "    n = df_center.shape[0]\n",
    "\n",
    "    # Median change\n",
    "    df_center_by_density = df_center.groupby('density_cat')\n",
    "    med_cpy = 10.**df_center_by_density['log_cpy'].median()\n",
    "    fraction_change = med_cpy['> median'] / med_cpy['< median']\n",
    "    median_change_str = (\n",
    "        r'$c_{>50} = '\n",
    "        f'{fraction_change:.2f}'\n",
    "        r'c_{<50}$'\n",
    "    )\n",
    "\n",
    "    # Median change in width\n",
    "    std_cpy = 10.**df_center_by_density['log_cpy'].std()\n",
    "    fraction_change = std_cpy['> median'] / std_cpy['< median']\n",
    "    std_change_str = (\n",
    "        r'$\\sigma_{>50} = '\n",
    "        f'{fraction_change:.2f}'\n",
    "        r'\\sigma_{<50}$'\n",
    "    )\n",
    "\n",
    "    text = ax.annotate(\n",
    "        text=f'n={n}\\n' + median_change_str + '\\n' + std_change_str,\n",
    "        xy=(i, 1),\n",
    "        xycoords=matplotlib.transforms.blended_transform_factory(\n",
    "            ax.transData,\n",
    "            ax.transAxes,\n",
    "        ),\n",
    "        xytext=(0, -5),\n",
    "        textcoords='offset points',\n",
    "        ha='center',\n",
    "        va='top',\n",
    "    )\n",
    "    text.set_path_effects([\n",
    "        patheffects.Stroke(linewidth=3, foreground='w'),\n",
    "        patheffects.Normal()\n",
    "    ])\n",
    "\n",
    "legend = ax.get_legend()\n",
    "legend.set_loc('upper center')\n",
    "legend.set_bbox_to_anchor((0.5, 0.75))\n",
    "legend.set_alignment('left')"
   ]
  },
  {
   "cell_type": "code",
   "execution_count": null,
   "metadata": {},
   "outputs": [],
   "source": []
  }
 ],
 "metadata": {
  "kernelspec": {
   "display_name": "llm",
   "language": "python",
   "name": "python3"
  },
  "language_info": {
   "codemirror_mode": {
    "name": "ipython",
    "version": 3
   },
   "file_extension": ".py",
   "mimetype": "text/x-python",
   "name": "python",
   "nbconvert_exporter": "python",
   "pygments_lexer": "ipython3",
   "version": "3.12.2"
  }
 },
 "nbformat": 4,
 "nbformat_minor": 2
}
