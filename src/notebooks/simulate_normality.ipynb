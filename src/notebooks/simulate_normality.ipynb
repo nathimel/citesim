{
 "cells": [
  {
   "cell_type": "code",
   "execution_count": 123,
   "metadata": {},
   "outputs": [],
   "source": [
    "import numpy as np\n",
    "import plotnine as pn\n",
    "import pandas as pd"
   ]
  },
  {
   "cell_type": "code",
   "execution_count": 124,
   "metadata": {},
   "outputs": [],
   "source": [
    "# Simulate an atlas as a collection of points\n",
    "# For simplicity use the real line."
   ]
  },
  {
   "cell_type": "code",
   "execution_count": 125,
   "metadata": {},
   "outputs": [],
   "source": [
    "# Then assign dates to each paper using exponential distribution,\n",
    "# such that newer papers are exponentially more likely"
   ]
  },
  {
   "cell_type": "code",
   "execution_count": 126,
   "metadata": {},
   "outputs": [],
   "source": [
    "# Then simulate calculating prior density\n",
    "# density = k / arccos( cos(p_i, p_k) )"
   ]
  },
  {
   "cell_type": "code",
   "execution_count": 127,
   "metadata": {},
   "outputs": [],
   "source": [
    "# Then plot the histogram of density. Is it normally distributed?"
   ]
  },
  {
   "cell_type": "markdown",
   "metadata": {},
   "source": [
    "Given that almost all of these steps are available in sciterra Atlas and Cartography, it's probably best to create dummy vectorizer and dummy publications.\n",
    "\n",
    "I.e. create serizalized identifiers, dummy abstracts, and a vectorizer that randomly generates a number between 0 and 1 (which is therefore automatically normed)."
   ]
  },
  {
   "cell_type": "code",
   "execution_count": 128,
   "metadata": {},
   "outputs": [
    {
     "data": {
      "text/plain": [
       "(128, 100)"
      ]
     },
     "execution_count": 128,
     "metadata": {},
     "output_type": "execute_result"
    }
   ],
   "source": [
    "from sciterra.vectorization.vectorizer import Vectorizer\n",
    "\n",
    "class DummyVectorizer(Vectorizer):\n",
    "    def embed_documents(self, docs: list[str], batch_size: int = 64) -> dict[str, np.ndarray]:\n",
    "        embedding_dim = 100\n",
    "        embeddings = np.array([[np.random.rand() for _ in range(embedding_dim)] for _ in range(len(docs))])\n",
    "        return {\n",
    "                \"embeddings\": embeddings,\n",
    "                \"success_indices\": np.arange(len(docs)),\n",
    "                \"fail_indices\": np.array([])\n",
    "            }\n",
    "\n",
    "# Test\n",
    "vec = DummyVectorizer()\n",
    "result = vec.embed_documents([\"dummy_text\"]*128)\n",
    "result['embeddings'].shape"
   ]
  },
  {
   "cell_type": "code",
   "execution_count": 129,
   "metadata": {},
   "outputs": [
    {
     "data": {
      "text/plain": [
       "{'_identifier': '0',\n",
       " '_abstract': None,\n",
       " '_publication_date': datetime.datetime(2022, 1, 1, 0, 0),\n",
       " '_citation_count': None,\n",
       " '_fields_of_study': None,\n",
       " '_citations': [],\n",
       " '_references': []}"
      ]
     },
     "execution_count": 129,
     "metadata": {},
     "output_type": "execute_result"
    }
   ],
   "source": [
    "# Generate dummy publications\n",
    "\n",
    "from sciterra import Publication\n",
    "from datetime import datetime\n",
    "\n",
    "def get_dummy_pubs(num_pubs: int, year: int, start_idx: int = 0) -> list[Publication]:\n",
    "    publications = [\n",
    "        Publication(\n",
    "            dict(\n",
    "                identifier=f\"{start_idx + idx}\",\n",
    "                publication_date=datetime(\n",
    "                    year=year,\n",
    "                    # Dummy month day\n",
    "                    month=1,\n",
    "                    day=1,\n",
    "                )\n",
    "            )\n",
    "        )\n",
    "        for idx in range(num_pubs)\n",
    "    ]\n",
    "    return publications\n",
    "\n",
    "# Test\n",
    "pubs = get_dummy_pubs(100, 2022)\n",
    "pubs[0].__dict__"
   ]
  },
  {
   "cell_type": "code",
   "execution_count": 140,
   "metadata": {},
   "outputs": [],
   "source": [
    "def exp_population_growth(initial_population, years):\n",
    "    doubling_time = 16\n",
    "    growth_rate = 2 ** (years / doubling_time)\n",
    "    final_population = initial_population * growth_rate\n",
    "    return int(final_population)\n",
    "\n",
    "def lin_population_growth(initial_population, years):\n",
    "    growth_rate = 10\n",
    "    final_population = initial_population + growth_rate * years\n",
    "    return final_population\n",
    "\n",
    "def log_population_growth(initial_population, years):\n",
    "    max_population = 10000\n",
    "    growth_rate = 0.1\n",
    "    final_population = max_population / (1 + ((max_population / initial_population) - 1) * np.exp(-growth_rate * years))\n",
    "    return final_population"
   ]
  },
  {
   "cell_type": "code",
   "execution_count": 131,
   "metadata": {},
   "outputs": [],
   "source": [
    "# Create population(s) of publications, dated \n",
    "initial_population = 100\n",
    "start = 1990\n",
    "end = 2020\n",
    "years = range(start, end+1)\n",
    "\n",
    "pubs: list[Publication] = []\n",
    "idx = 0\n",
    "for year in years:\n",
    "    # num_pubs = exp_population_growth(initial_population, year - start)\n",
    "    # num_pubs = lin_population_growth(initial_population, year - start)\n",
    "    num_pubs = log_population_growth(initial_population, year - start)\n",
    "    pubs.extend(get_dummy_pubs(num_pubs, year, idx))\n",
    "    idx += num_pubs\n"
   ]
  },
  {
   "cell_type": "code",
   "execution_count": 132,
   "metadata": {},
   "outputs": [
    {
     "data": {
      "text/plain": [
       "array([0.35346555, 0.37916951, 0.18042993, 0.99500273, 0.12060471,\n",
       "       0.46798299, 0.55903995, 0.71486701, 0.86267609, 0.42707342,\n",
       "       0.29531777, 0.07018515, 0.30084698, 0.59243023, 0.00491936,\n",
       "       0.59374035, 0.31347117, 0.48783479, 0.43864242, 0.26159047,\n",
       "       0.07417344, 0.82371909, 0.6365423 , 0.04328651, 0.83563904,\n",
       "       0.18771387, 0.22930493, 0.56888498, 0.20055128, 0.32058635,\n",
       "       0.01444195, 0.36004473, 0.91955261, 0.84685527, 0.12232817,\n",
       "       0.79933639, 0.92735663, 0.28980244, 0.84712914, 0.3402922 ,\n",
       "       0.45041309, 0.2104408 , 0.91567376, 0.3868247 , 0.60134814,\n",
       "       0.5234807 , 0.34791044, 0.62125964, 0.73118178, 0.42622951,\n",
       "       0.2524455 , 0.75395778, 0.44305986, 0.82281295, 0.31539593,\n",
       "       0.83828252, 0.51639009, 0.0995225 , 0.80210209, 0.53116966,\n",
       "       0.43029635, 0.48916642, 0.2351589 , 0.0349412 , 0.48308252,\n",
       "       0.15725543, 0.04945732, 0.45664753, 0.28053998, 0.14042789,\n",
       "       0.42116637, 0.66101059, 0.62090853, 0.08853281, 0.64322962,\n",
       "       0.17512683, 0.67411756, 0.18281428, 0.27076413, 0.65560627,\n",
       "       0.22779761, 0.83782728, 0.30025753, 0.1213414 , 0.54557507,\n",
       "       0.76090476, 0.88171602, 0.28427877, 0.34422768, 0.45809442,\n",
       "       0.9367028 , 0.24806486, 0.37362429, 0.80340303, 0.32714902,\n",
       "       0.21048394, 0.2657043 , 0.81866048, 0.24437695, 0.80927136])"
      ]
     },
     "execution_count": 132,
     "metadata": {},
     "output_type": "execute_result"
    }
   ],
   "source": [
    "vec = DummyVectorizer()\n",
    "embeddings = vec.embed_documents([\"dummy_doc\"]*len(pubs))[\"embeddings\"]\n",
    "embeddings[0]"
   ]
  },
  {
   "cell_type": "code",
   "execution_count": 133,
   "metadata": {},
   "outputs": [
    {
     "data": {
      "text/plain": [
       "7750"
      ]
     },
     "execution_count": 133,
     "metadata": {},
     "output_type": "execute_result"
    }
   ],
   "source": [
    "from sciterra import Atlas\n",
    "from sciterra.vectorization.projection import Projection\n",
    "\n",
    "proj = Projection(\n",
    "    identifier_to_index={pub.identifier:int(pub.identifier) for pub in pubs},\n",
    "    index_to_identifier=tuple([pub.identifier for pub in pubs]),\n",
    "    embeddings=embeddings,\n",
    ")\n",
    "\n",
    "atl = Atlas(\n",
    "    publications=pubs,\n",
    "    projection=proj,\n",
    ")\n",
    "len(atl)"
   ]
  },
  {
   "cell_type": "code",
   "execution_count": 134,
   "metadata": {},
   "outputs": [
    {
     "data": {
      "text/plain": [
       "(7750, 100)"
      ]
     },
     "execution_count": 134,
     "metadata": {},
     "output_type": "execute_result"
    }
   ],
   "source": [
    "embeddings.shape"
   ]
  },
  {
   "cell_type": "code",
   "execution_count": 135,
   "metadata": {},
   "outputs": [
    {
     "data": {
      "text/plain": [
       "(array([0.35346555, 0.37916951, 0.18042993, 0.99500273, 0.12060471,\n",
       "        0.46798299, 0.55903995, 0.71486701, 0.86267609, 0.42707342,\n",
       "        0.29531777, 0.07018515, 0.30084698, 0.59243023, 0.00491936,\n",
       "        0.59374035, 0.31347117, 0.48783479, 0.43864242, 0.26159047,\n",
       "        0.07417344, 0.82371909, 0.6365423 , 0.04328651, 0.83563904,\n",
       "        0.18771387, 0.22930493, 0.56888498, 0.20055128, 0.32058635,\n",
       "        0.01444195, 0.36004473, 0.91955261, 0.84685527, 0.12232817,\n",
       "        0.79933639, 0.92735663, 0.28980244, 0.84712914, 0.3402922 ,\n",
       "        0.45041309, 0.2104408 , 0.91567376, 0.3868247 , 0.60134814,\n",
       "        0.5234807 , 0.34791044, 0.62125964, 0.73118178, 0.42622951,\n",
       "        0.2524455 , 0.75395778, 0.44305986, 0.82281295, 0.31539593,\n",
       "        0.83828252, 0.51639009, 0.0995225 , 0.80210209, 0.53116966,\n",
       "        0.43029635, 0.48916642, 0.2351589 , 0.0349412 , 0.48308252,\n",
       "        0.15725543, 0.04945732, 0.45664753, 0.28053998, 0.14042789,\n",
       "        0.42116637, 0.66101059, 0.62090853, 0.08853281, 0.64322962,\n",
       "        0.17512683, 0.67411756, 0.18281428, 0.27076413, 0.65560627,\n",
       "        0.22779761, 0.83782728, 0.30025753, 0.1213414 , 0.54557507,\n",
       "        0.76090476, 0.88171602, 0.28427877, 0.34422768, 0.45809442,\n",
       "        0.9367028 , 0.24806486, 0.37362429, 0.80340303, 0.32714902,\n",
       "        0.21048394, 0.2657043 , 0.81866048, 0.24437695, 0.80927136]),\n",
       " array([0.43510655, 0.82901866, 0.79495876, 0.41957023, 0.42400664,\n",
       "        0.34901755, 0.40087856, 0.69470276, 0.29639198, 0.47465131,\n",
       "        0.20327501, 0.50187116, 0.83723719, 0.0213065 , 0.1656732 ,\n",
       "        0.06878721, 0.56528924, 0.67843552, 0.65744204, 0.35023234,\n",
       "        0.32799859, 0.58459664, 0.57128408, 0.51372775, 0.93537073,\n",
       "        0.3846495 , 0.05469715, 0.16752414, 0.36266684, 0.90347574,\n",
       "        0.96242976, 0.96385674, 0.82571686, 0.88723257, 0.78178418,\n",
       "        0.72540922, 0.1582945 , 0.07664384, 0.66837977, 0.86079058,\n",
       "        0.55491036, 0.49808396, 0.27033278, 0.11523176, 0.38677804,\n",
       "        0.63526846, 0.24570794, 0.96765422, 0.63715626, 0.87267576,\n",
       "        0.21009246, 0.9096832 , 0.17861263, 0.52645776, 0.29080638,\n",
       "        0.18512136, 0.63629763, 0.37104943, 0.60231616, 0.57280654,\n",
       "        0.3131596 , 0.02110226, 0.62028391, 0.43496222, 0.71298436,\n",
       "        0.28114902, 0.23616216, 0.06476615, 0.23423154, 0.70779991,\n",
       "        0.99302136, 0.98923991, 0.11915183, 0.95814385, 0.40149115,\n",
       "        0.48920218, 0.86544529, 0.32401802, 0.90223424, 0.14506258,\n",
       "        0.24380488, 0.90113584, 0.67854711, 0.74098702, 0.27820495,\n",
       "        0.74244139, 0.19408655, 0.57375917, 0.2127631 , 0.85095522,\n",
       "        0.43558735, 0.57155534, 0.25663403, 0.20425131, 0.42435419,\n",
       "        0.86567199, 0.36179178, 0.5409017 , 0.08661042, 0.22404239]))"
      ]
     },
     "execution_count": 135,
     "metadata": {},
     "output_type": "execute_result"
    }
   ],
   "source": [
    "embeddings[0], embeddings[-1]"
   ]
  },
  {
   "cell_type": "code",
   "execution_count": 136,
   "metadata": {},
   "outputs": [
    {
     "data": {
      "text/plain": [
       "array([1.        , 0.75543976, 0.71463373, ..., 0.71364207, 0.75249232,\n",
       "       0.76339048])"
      ]
     },
     "execution_count": 136,
     "metadata": {},
     "output_type": "execute_result"
    }
   ],
   "source": [
    "# sanity check: \n",
    "from sklearn.metrics.pairwise import cosine_similarity\n",
    "\n",
    "sims = cosine_similarity(embeddings, embeddings)\n",
    "sims[0]"
   ]
  },
  {
   "cell_type": "code",
   "execution_count": 137,
   "metadata": {},
   "outputs": [
    {
     "name": "stdout",
     "output_type": "stream",
     "text": [
      "computing cosine similarity for 7750 embeddings with batch size 1000.\n"
     ]
    },
    {
     "name": "stderr",
     "output_type": "stream",
     "text": [
      "100%|██████████| 8/8 [00:00<00:00,  9.60it/s]\n"
     ]
    },
    {
     "name": "stdout",
     "output_type": "stream",
     "text": [
      "Computing ['density'] for 7750 publications.\n"
     ]
    },
    {
     "name": "stderr",
     "output_type": "stream",
     "text": [
      "100%|██████████| 7750/7750 [00:01<00:00, 4020.18it/s] \n"
     ]
    }
   ],
   "source": [
    "# Use Cartographer to measure density. This might involve adding dummy publication dates :/\n",
    "\n",
    "from sciterra.mapping.cartography import Cartographer\n",
    "\n",
    "crt = Cartographer(vectorizer=vec)\n",
    "densities = crt.measure_topography(\n",
    "    atl,\n",
    ")"
   ]
  },
  {
   "cell_type": "code",
   "execution_count": 138,
   "metadata": {},
   "outputs": [
    {
     "data": {
      "text/html": [
       "<div>\n",
       "<style scoped>\n",
       "    .dataframe tbody tr th:only-of-type {\n",
       "        vertical-align: middle;\n",
       "    }\n",
       "\n",
       "    .dataframe tbody tr th {\n",
       "        vertical-align: top;\n",
       "    }\n",
       "\n",
       "    .dataframe thead th {\n",
       "        text-align: right;\n",
       "    }\n",
       "</style>\n",
       "<table border=\"1\" class=\"dataframe\">\n",
       "  <thead>\n",
       "    <tr style=\"text-align: right;\">\n",
       "      <th></th>\n",
       "      <th>density</th>\n",
       "    </tr>\n",
       "  </thead>\n",
       "  <tbody>\n",
       "    <tr>\n",
       "      <th>100</th>\n",
       "      <td>23.755131</td>\n",
       "    </tr>\n",
       "    <tr>\n",
       "      <th>101</th>\n",
       "      <td>24.155654</td>\n",
       "    </tr>\n",
       "    <tr>\n",
       "      <th>102</th>\n",
       "      <td>22.819804</td>\n",
       "    </tr>\n",
       "    <tr>\n",
       "      <th>103</th>\n",
       "      <td>22.796245</td>\n",
       "    </tr>\n",
       "    <tr>\n",
       "      <th>104</th>\n",
       "      <td>22.425112</td>\n",
       "    </tr>\n",
       "    <tr>\n",
       "      <th>...</th>\n",
       "      <td>...</td>\n",
       "    </tr>\n",
       "    <tr>\n",
       "      <th>7745</th>\n",
       "      <td>28.082803</td>\n",
       "    </tr>\n",
       "    <tr>\n",
       "      <th>7746</th>\n",
       "      <td>27.190347</td>\n",
       "    </tr>\n",
       "    <tr>\n",
       "      <th>7747</th>\n",
       "      <td>26.550689</td>\n",
       "    </tr>\n",
       "    <tr>\n",
       "      <th>7748</th>\n",
       "      <td>28.125486</td>\n",
       "    </tr>\n",
       "    <tr>\n",
       "      <th>7749</th>\n",
       "      <td>26.988575</td>\n",
       "    </tr>\n",
       "  </tbody>\n",
       "</table>\n",
       "<p>7650 rows × 1 columns</p>\n",
       "</div>"
      ],
      "text/plain": [
       "        density\n",
       "100   23.755131\n",
       "101   24.155654\n",
       "102   22.819804\n",
       "103   22.796245\n",
       "104   22.425112\n",
       "...         ...\n",
       "7745  28.082803\n",
       "7746  27.190347\n",
       "7747  26.550689\n",
       "7748  28.125486\n",
       "7749  26.988575\n",
       "\n",
       "[7650 rows x 1 columns]"
      ]
     },
     "execution_count": 138,
     "metadata": {},
     "output_type": "execute_result"
    }
   ],
   "source": [
    "# Plot density distribution\n",
    "data = pd.DataFrame(\n",
    "    densities,\n",
    "    columns=[\"density\"],\n",
    ")\n",
    "data.dropna(inplace=True)\n",
    "data"
   ]
  },
  {
   "cell_type": "code",
   "execution_count": 139,
   "metadata": {},
   "outputs": [
    {
     "name": "stderr",
     "output_type": "stream",
     "text": [
      "'stat_bin()' using 'bins = 56'. Pick better value with 'binwidth'.\n"
     ]
    },
    {
     "data": {
      "image/png": "[encoded data removed]",
      "text/plain": [
       "<Figure size 640x480 with 1 Axes>"
      ]
     },
     "metadata": {
      "image/png": {
       "height": 480,
       "width": 640
      }
     },
     "output_type": "display_data"
    },
    {
     "data": {
      "text/plain": [
       "<Figure Size: (640 x 480)>"
      ]
     },
     "execution_count": 139,
     "metadata": {},
     "output_type": "execute_result"
    }
   ],
   "source": [
    "(\n",
    "    pn.ggplot(\n",
    "        data,\n",
    "        pn.aes(x=\"density\")\n",
    "    )\n",
    "    + pn.geom_histogram()\n",
    ")"
   ]
  }
 ],
 "metadata": {
  "kernelspec": {
   "display_name": "citesim",
   "language": "python",
   "name": "python3"
  },
  "language_info": {
   "codemirror_mode": {
    "name": "ipython",
    "version": 3
   },
   "file_extension": ".py",
   "mimetype": "text/x-python",
   "name": "python",
   "nbconvert_exporter": "python",
   "pygments_lexer": "ipython3",
   "version": "3.10.13"
  }
 },
 "nbformat": 4,
 "nbformat_minor": 2
}
