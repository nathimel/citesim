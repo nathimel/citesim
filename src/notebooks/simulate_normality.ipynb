{
 "cells": [
  {
   "cell_type": "code",
   "execution_count": 59,
   "metadata": {},
   "outputs": [],
   "source": [
    "import numpy as np\n",
    "import plotnine as pn\n",
    "import pandas as pd"
   ]
  },
  {
   "cell_type": "code",
   "execution_count": 60,
   "metadata": {},
   "outputs": [],
   "source": [
    "# Simulate an atlas as a collection of points\n",
    "# For simplicity use the real line."
   ]
  },
  {
   "cell_type": "code",
   "execution_count": 61,
   "metadata": {},
   "outputs": [],
   "source": [
    "# Then assign dates to each paper using exponential distribution,\n",
    "# such that newer papers are exponentially more likely"
   ]
  },
  {
   "cell_type": "code",
   "execution_count": 62,
   "metadata": {},
   "outputs": [],
   "source": [
    "# Then simulate calculating prior density\n",
    "# density = k / arccos( cos(p_i, p_k) )"
   ]
  },
  {
   "cell_type": "code",
   "execution_count": 63,
   "metadata": {},
   "outputs": [],
   "source": [
    "# Then plot the histogram of density. Is it normally distributed?"
   ]
  },
  {
   "cell_type": "markdown",
   "metadata": {},
   "source": [
    "Given that almost all of these steps are available in sciterra Atlas and Cartography, it's probably best to create dummy vectorizer and dummy publications.\n",
    "\n",
    "I.e. create serizalized identifiers, dummy abstracts, and a vectorizer that randomly generates a number between 0 and 1 (which is therefore automatically normed)."
   ]
  },
  {
   "cell_type": "code",
   "execution_count": 64,
   "metadata": {},
   "outputs": [
    {
     "data": {
      "text/plain": [
       "(128, 20)"
      ]
     },
     "execution_count": 64,
     "metadata": {},
     "output_type": "execute_result"
    }
   ],
   "source": [
    "from sciterra.vectorization.vectorizer import Vectorizer\n",
    "\n",
    "class DummyVectorizer(Vectorizer):\n",
    "    def embed_documents(self, docs: list[str], batch_size: int = 64) -> dict[str, np.ndarray]:\n",
    "        # NOTE: the biggest predictor of skew in the distribution of density so far has actually been embedding dim! Low dimension leads to lognormal, anything 4 or higher leads to normal\n",
    "\n",
    "        # embedding_dim = 768\n",
    "        embedding_dim = 20 # for inspection\n",
    "\n",
    "        embeddings = np.array([[np.random.rand() for _ in range(embedding_dim)] for _ in range(len(docs))])\n",
    "        # norm to 1\n",
    "        # embeddings_normalized = embeddings / np.linalg.norm(embeddings, axis=1, keepdims=True)\n",
    "        return {\n",
    "                \"embeddings\": embeddings,\n",
    "                \"success_indices\": np.arange(len(docs)),\n",
    "                \"fail_indices\": np.array([])\n",
    "            }\n",
    "\n",
    "# Test\n",
    "vec = DummyVectorizer()\n",
    "result = vec.embed_documents([\"dummy_text\"]*128)\n",
    "result['embeddings'].shape"
   ]
  },
  {
   "cell_type": "code",
   "execution_count": 65,
   "metadata": {},
   "outputs": [
    {
     "data": {
      "text/plain": [
       "{'_identifier': '0',\n",
       " '_abstract': None,\n",
       " '_publication_date': datetime.datetime(2022, 1, 1, 0, 0),\n",
       " '_citation_count': None,\n",
       " '_fields_of_study': None,\n",
       " '_citations': [],\n",
       " '_references': []}"
      ]
     },
     "execution_count": 65,
     "metadata": {},
     "output_type": "execute_result"
    }
   ],
   "source": [
    "# Generate dummy publications\n",
    "\n",
    "from sciterra import Publication\n",
    "from datetime import datetime\n",
    "\n",
    "def get_dummy_pubs(num_pubs: int, year: int, start_idx: int = 0) -> list[Publication]:\n",
    "    publications = [\n",
    "        Publication(\n",
    "            dict(\n",
    "                identifier=f\"{start_idx + idx}\",\n",
    "                publication_date=datetime(\n",
    "                    year=year,\n",
    "                    # Dummy month day\n",
    "                    month=1,\n",
    "                    day=1,\n",
    "                )\n",
    "            )\n",
    "        )\n",
    "        for idx in range(num_pubs)\n",
    "    ]\n",
    "    return publications\n",
    "\n",
    "# Test\n",
    "pubs = get_dummy_pubs(100, 2022)\n",
    "pubs[0].__dict__"
   ]
  },
  {
   "cell_type": "code",
   "execution_count": 66,
   "metadata": {},
   "outputs": [],
   "source": [
    "def exp_population_growth(initial_population, years):\n",
    "    doubling_time = 16\n",
    "    growth_rate = 2 ** (years / doubling_time)\n",
    "    final_population = initial_population * growth_rate\n",
    "    return int(final_population)\n",
    "\n",
    "def lin_population_growth(initial_population, years):\n",
    "    growth_rate = 10\n",
    "    final_population = initial_population + growth_rate * years\n",
    "    return int(final_population)\n",
    "\n",
    "def log_population_growth(initial_population, years):\n",
    "    max_population = 1000\n",
    "    growth_rate = 0.1\n",
    "    final_population = max_population / (1 + ((max_population / initial_population) - 1) * np.exp(-growth_rate * years))\n",
    "    return int(final_population)"
   ]
  },
  {
   "cell_type": "code",
   "execution_count": 67,
   "metadata": {},
   "outputs": [],
   "source": [
    "# Create population(s) of publications, dated \n",
    "initial_population = 100\n",
    "start = 1990\n",
    "end = 2020\n",
    "years = range(start, end+1)\n",
    "\n",
    "pubs: list[Publication] = []\n",
    "idx = 0\n",
    "for year in years:\n",
    "    # num_pubs = exp_population_growth(initial_population, year - start)\n",
    "    # num_pubs = lin_population_growth(initial_population, year - start)\n",
    "    num_pubs = log_population_growth(initial_population, year - start)\n",
    "    pubs.extend(get_dummy_pubs(num_pubs, year, idx))\n",
    "    idx += num_pubs\n"
   ]
  },
  {
   "cell_type": "code",
   "execution_count": 68,
   "metadata": {},
   "outputs": [
    {
     "data": {
      "text/plain": [
       "array([0.96705366, 0.37299331, 0.80773106, 0.27052275, 0.75742759,\n",
       "       0.76885292, 0.9106275 , 0.93109864, 0.9614119 , 0.27038641,\n",
       "       0.42903783, 0.614362  , 0.16054125, 0.73519414, 0.86594934,\n",
       "       0.35498161, 0.86246536, 0.99005749, 0.63841037, 0.44259395])"
      ]
     },
     "execution_count": 68,
     "metadata": {},
     "output_type": "execute_result"
    }
   ],
   "source": [
    "vec = DummyVectorizer()\n",
    "embeddings = vec.embed_documents([\"dummy_doc\"]*len(pubs))[\"embeddings\"]\n",
    "embeddings[0]"
   ]
  },
  {
   "cell_type": "code",
   "execution_count": 69,
   "metadata": {},
   "outputs": [
    {
     "data": {
      "text/plain": [
       "11057"
      ]
     },
     "execution_count": 69,
     "metadata": {},
     "output_type": "execute_result"
    }
   ],
   "source": [
    "from sciterra import Atlas\n",
    "from sciterra.vectorization.projection import Projection\n",
    "\n",
    "proj = Projection(\n",
    "    identifier_to_index={pub.identifier:int(pub.identifier) for pub in pubs},\n",
    "    index_to_identifier=tuple([pub.identifier for pub in pubs]),\n",
    "    embeddings=embeddings,\n",
    ")\n",
    "\n",
    "atl = Atlas(\n",
    "    publications=pubs,\n",
    "    projection=proj,\n",
    ")\n",
    "len(atl)"
   ]
  },
  {
   "cell_type": "code",
   "execution_count": 70,
   "metadata": {},
   "outputs": [
    {
     "data": {
      "text/plain": [
       "(11057, 20)"
      ]
     },
     "execution_count": 70,
     "metadata": {},
     "output_type": "execute_result"
    }
   ],
   "source": [
    "embeddings.shape"
   ]
  },
  {
   "cell_type": "code",
   "execution_count": 71,
   "metadata": {},
   "outputs": [
    {
     "data": {
      "text/plain": [
       "(array([0.96705366, 0.37299331, 0.80773106, 0.27052275, 0.75742759,\n",
       "        0.76885292, 0.9106275 , 0.93109864, 0.9614119 , 0.27038641,\n",
       "        0.42903783, 0.614362  , 0.16054125, 0.73519414, 0.86594934,\n",
       "        0.35498161, 0.86246536, 0.99005749, 0.63841037, 0.44259395]),\n",
       " array([0.12632091, 0.37706709, 0.53746908, 0.37208639, 0.86468108,\n",
       "        0.29035776, 0.5319222 , 0.75471039, 0.48682859, 0.5465003 ,\n",
       "        0.0415384 , 0.54221865, 0.43153603, 0.0866256 , 0.15914943,\n",
       "        0.90776123, 0.42904644, 0.45255703, 0.62717805, 0.08308566]))"
      ]
     },
     "execution_count": 71,
     "metadata": {},
     "output_type": "execute_result"
    }
   ],
   "source": [
    "embeddings[0], embeddings[-1]"
   ]
  },
  {
   "cell_type": "code",
   "execution_count": 72,
   "metadata": {},
   "outputs": [
    {
     "data": {
      "text/plain": [
       "array([1.        , 0.76907584, 0.72405152, ..., 0.77031892, 0.8116369 ,\n",
       "       0.80878385])"
      ]
     },
     "execution_count": 72,
     "metadata": {},
     "output_type": "execute_result"
    }
   ],
   "source": [
    "# sanity check: \n",
    "from sklearn.metrics.pairwise import cosine_similarity\n",
    "\n",
    "sims = cosine_similarity(embeddings, embeddings)\n",
    "sims[0]"
   ]
  },
  {
   "cell_type": "code",
   "execution_count": 73,
   "metadata": {},
   "outputs": [
    {
     "name": "stdout",
     "output_type": "stream",
     "text": [
      "computing cosine similarity for 11057 embeddings with batch size 1000.\n"
     ]
    },
    {
     "name": "stderr",
     "output_type": "stream",
     "text": [
      "100%|██████████| 12/12 [00:03<00:00,  3.31it/s]\n"
     ]
    },
    {
     "name": "stdout",
     "output_type": "stream",
     "text": [
      "Computing ['density'] for 11057 publications.\n"
     ]
    },
    {
     "name": "stderr",
     "output_type": "stream",
     "text": [
      "100%|██████████| 11057/11057 [00:06<00:00, 1659.76it/s]\n"
     ]
    }
   ],
   "source": [
    "# Use Cartographer to measure density. This might involve adding dummy publication dates :/\n",
    "\n",
    "from sciterra.mapping.cartography import Cartographer\n",
    "\n",
    "crt = Cartographer(vectorizer=vec)\n",
    "densities = crt.measure_topography(\n",
    "    atl,\n",
    ")"
   ]
  },
  {
   "cell_type": "code",
   "execution_count": 74,
   "metadata": {},
   "outputs": [
    {
     "data": {
      "text/html": [
       "<div>\n",
       "<style scoped>\n",
       "    .dataframe tbody tr th:only-of-type {\n",
       "        vertical-align: middle;\n",
       "    }\n",
       "\n",
       "    .dataframe tbody tr th {\n",
       "        vertical-align: top;\n",
       "    }\n",
       "\n",
       "    .dataframe thead th {\n",
       "        text-align: right;\n",
       "    }\n",
       "</style>\n",
       "<table border=\"1\" class=\"dataframe\">\n",
       "  <thead>\n",
       "    <tr style=\"text-align: right;\">\n",
       "      <th></th>\n",
       "      <th>density</th>\n",
       "    </tr>\n",
       "  </thead>\n",
       "  <tbody>\n",
       "    <tr>\n",
       "      <th>100</th>\n",
       "      <td>24.793690</td>\n",
       "    </tr>\n",
       "    <tr>\n",
       "      <th>101</th>\n",
       "      <td>25.635066</td>\n",
       "    </tr>\n",
       "    <tr>\n",
       "      <th>102</th>\n",
       "      <td>22.303224</td>\n",
       "    </tr>\n",
       "    <tr>\n",
       "      <th>103</th>\n",
       "      <td>27.724183</td>\n",
       "    </tr>\n",
       "    <tr>\n",
       "      <th>104</th>\n",
       "      <td>25.762042</td>\n",
       "    </tr>\n",
       "    <tr>\n",
       "      <th>...</th>\n",
       "      <td>...</td>\n",
       "    </tr>\n",
       "    <tr>\n",
       "      <th>11052</th>\n",
       "      <td>41.603772</td>\n",
       "    </tr>\n",
       "    <tr>\n",
       "      <th>11053</th>\n",
       "      <td>39.513810</td>\n",
       "    </tr>\n",
       "    <tr>\n",
       "      <th>11054</th>\n",
       "      <td>37.867879</td>\n",
       "    </tr>\n",
       "    <tr>\n",
       "      <th>11055</th>\n",
       "      <td>42.009493</td>\n",
       "    </tr>\n",
       "    <tr>\n",
       "      <th>11056</th>\n",
       "      <td>38.118954</td>\n",
       "    </tr>\n",
       "  </tbody>\n",
       "</table>\n",
       "<p>10957 rows × 1 columns</p>\n",
       "</div>"
      ],
      "text/plain": [
       "         density\n",
       "100    24.793690\n",
       "101    25.635066\n",
       "102    22.303224\n",
       "103    27.724183\n",
       "104    25.762042\n",
       "...          ...\n",
       "11052  41.603772\n",
       "11053  39.513810\n",
       "11054  37.867879\n",
       "11055  42.009493\n",
       "11056  38.118954\n",
       "\n",
       "[10957 rows x 1 columns]"
      ]
     },
     "execution_count": 74,
     "metadata": {},
     "output_type": "execute_result"
    }
   ],
   "source": [
    "# Plot density distribution\n",
    "data = pd.DataFrame(\n",
    "    densities,\n",
    "    columns=[\"density\"],\n",
    ")\n",
    "data.dropna(inplace=True)\n",
    "data"
   ]
  },
  {
   "cell_type": "code",
   "execution_count": 75,
   "metadata": {},
   "outputs": [
    {
     "name": "stderr",
     "output_type": "stream",
     "text": [
      "'stat_bin()' using 'bins = 59'. Pick better value with 'binwidth'.\n"
     ]
    },
    {
     "data": {
      "image/png": "[encoded data removed]",
      "text/plain": [
       "<Figure size 640x480 with 1 Axes>"
      ]
     },
     "metadata": {
      "image/png": {
       "height": 480,
       "width": 640
      }
     },
     "output_type": "display_data"
    },
    {
     "data": {
      "text/plain": [
       "<Figure Size: (640 x 480)>"
      ]
     },
     "execution_count": 75,
     "metadata": {},
     "output_type": "execute_result"
    }
   ],
   "source": [
    "(\n",
    "    pn.ggplot(\n",
    "        data,\n",
    "        pn.aes(x=\"density\")\n",
    "    )\n",
    "    + pn.geom_histogram()\n",
    ")"
   ]
  },
  {
   "cell_type": "markdown",
   "metadata": {},
   "source": [
    "Next: simulate a more exploration-based/dirichlet process whereby each new publication added is close to the vector of a randomly sampled previous publication."
   ]
  },
  {
   "cell_type": "code",
   "execution_count": 76,
   "metadata": {},
   "outputs": [
    {
     "name": "stderr",
     "output_type": "stream",
     "text": [
      "pubs for gen 0: 100%|██████████| 1/1 [00:00<00:00, 11366.68it/s]\n",
      "pubs for gen 1: 100%|██████████| 101/101 [00:00<00:00, 90440.80it/s]\n",
      "pubs for gen 2: 100%|██████████| 201/201 [00:00<00:00, 69040.63it/s]\n",
      "pubs for gen 3: 100%|██████████| 301/301 [00:00<00:00, 56812.42it/s]\n",
      "pubs for gen 4: 100%|██████████| 401/401 [00:00<00:00, 89075.09it/s]\n",
      "pubs for gen 5: 100%|██████████| 501/501 [00:00<00:00, 90078.29it/s]\n",
      "pubs for gen 6: 100%|██████████| 601/601 [00:00<00:00, 91548.09it/s]\n",
      "pubs for gen 7: 100%|██████████| 701/701 [00:00<00:00, 100098.97it/s]\n",
      "pubs for gen 8: 100%|██████████| 801/801 [00:00<00:00, 97468.38it/s]\n",
      "pubs for gen 9: 100%|██████████| 901/901 [00:00<00:00, 102915.79it/s]\n",
      "100%|██████████| 10/10 [00:00<00:00, 108.19it/s]\n"
     ]
    },
    {
     "data": {
      "text/plain": [
       "4511"
      ]
     },
     "execution_count": 76,
     "metadata": {},
     "output_type": "execute_result"
    }
   ],
   "source": [
    "from tqdm import tqdm\n",
    "\n",
    "seed_size = 1\n",
    "initial_population = get_dummy_pubs(num_pubs=seed_size, year=1990)\n",
    "embeddings = vec.embed_documents([\"dummy_text\"]*len(initial_population))[\"embeddings\"]\n",
    "dim = embeddings.shape[1]\n",
    "\n",
    "for i, pub in enumerate(initial_population):\n",
    "    pub.embedding = embeddings[0]\n",
    "\n",
    "num_generations = 10\n",
    "pubs = initial_population\n",
    "\n",
    "sigma = 0.1\n",
    "\n",
    "for gen_idx in tqdm(range(num_generations)):\n",
    "    # lin pop growth was correct for plotting but it unintuitively gives an exponential total here so lets just do the simpler thing\n",
    "    # num_pubs = lin_population_growth(len(initial_population), gen_idx)\n",
    "    num_pubs = seed_size + gen_idx*100\n",
    "    old_pubs = np.random.choice(pubs, size=num_pubs)\n",
    "\n",
    "    new_pubs = []\n",
    "    for idx in tqdm(range(num_pubs), desc=f\"pubs for gen {gen_idx}\"):\n",
    "        pub = Publication(dict(\n",
    "            identifier=f\"dummy_pub_{gen_idx}_{idx}\",\n",
    "            publication_date=datetime(year=1990 + gen_idx, month=1, day=1),\n",
    "        ))\n",
    "        # Have to manually loop to add the embedding\n",
    "        eps = np.random.normal(loc=0, scale=sigma, size=dim)\n",
    "        new_emb = old_pubs[idx].embedding + eps\n",
    "        # Norm\n",
    "        # new_emb = new_emb / np.linalg.norm(new_emb)\n",
    "\n",
    "        pub.embedding = new_emb\n",
    "        new_pubs.append(pub)\n",
    "    pubs.extend(new_pubs)\n",
    "\n",
    "len(pubs)"
   ]
  },
  {
   "cell_type": "code",
   "execution_count": 77,
   "metadata": {},
   "outputs": [
    {
     "data": {
      "text/plain": [
       "4511"
      ]
     },
     "execution_count": 77,
     "metadata": {},
     "output_type": "execute_result"
    }
   ],
   "source": [
    "proj = Projection(\n",
    "    identifier_to_index={pub.identifier:idx for idx, pub in enumerate(pubs)},\n",
    "    index_to_identifier=tuple([pub.identifier for pub in pubs]),\n",
    "    embeddings=np.vstack([pub.embedding for pub in pubs]),\n",
    ")\n",
    "\n",
    "\n",
    "atl = Atlas(\n",
    "    publications=pubs,\n",
    "    projection=proj,\n",
    ")\n",
    "len(atl)"
   ]
  },
  {
   "cell_type": "code",
   "execution_count": 78,
   "metadata": {},
   "outputs": [
    {
     "name": "stdout",
     "output_type": "stream",
     "text": [
      "computing cosine similarity for 4511 embeddings with batch size 1000.\n"
     ]
    },
    {
     "name": "stderr",
     "output_type": "stream",
     "text": [
      "100%|██████████| 5/5 [00:00<00:00, 25.57it/s]\n"
     ]
    },
    {
     "name": "stdout",
     "output_type": "stream",
     "text": [
      "Computing ['density'] for 4511 publications.\n"
     ]
    },
    {
     "name": "stderr",
     "output_type": "stream",
     "text": [
      "100%|██████████| 4511/4511 [00:01<00:00, 4209.95it/s]\n"
     ]
    }
   ],
   "source": [
    "crt = Cartographer(vectorizer=vec)\n",
    "densities = crt.measure_topography(\n",
    "    atl,\n",
    ")\n",
    "\n",
    "# Plot density distribution\n",
    "data = pd.DataFrame(\n",
    "    densities,\n",
    "    columns=[\"density\"],\n",
    ")\n",
    "data.dropna(inplace=True)"
   ]
  },
  {
   "cell_type": "code",
   "execution_count": 79,
   "metadata": {},
   "outputs": [
    {
     "name": "stderr",
     "output_type": "stream",
     "text": [
      "'stat_bin()' using 'bins = 41'. Pick better value with 'binwidth'.\n"
     ]
    },
    {
     "data": {
      "image/png": "[encoded data removed]",
      "text/plain": [
       "<Figure size 640x480 with 1 Axes>"
      ]
     },
     "metadata": {
      "image/png": {
       "height": 480,
       "width": 640
      }
     },
     "output_type": "display_data"
    },
    {
     "data": {
      "text/plain": [
       "<Figure Size: (640 x 480)>"
      ]
     },
     "execution_count": 79,
     "metadata": {},
     "output_type": "execute_result"
    }
   ],
   "source": [
    "(\n",
    "    pn.ggplot(\n",
    "        data,\n",
    "        pn.aes(x=\"density\")\n",
    "    )\n",
    "    + pn.geom_histogram()\n",
    "    # + pn.xlim(0,1000)\n",
    ")"
   ]
  },
  {
   "cell_type": "code",
   "execution_count": 80,
   "metadata": {},
   "outputs": [
    {
     "ename": "ValueError",
     "evalue": "Shape of passed values is (4511, 20), indices imply (4511, 2)",
     "output_type": "error",
     "traceback": [
      "\u001b[0;31m---------------------------------------------------------------------------\u001b[0m",
      "\u001b[0;31mValueError\u001b[0m                                Traceback (most recent call last)",
      "Cell \u001b[0;32mIn[80], line 11\u001b[0m\n\u001b[1;32m      4\u001b[0m embeddings_2d \u001b[38;5;241m=\u001b[39m embeddings\n\u001b[1;32m      6\u001b[0m \u001b[38;5;66;03m# # Apply t-SNE if dim > 2\u001b[39;00m\n\u001b[1;32m      7\u001b[0m \u001b[38;5;66;03m# embeddings = embeddings / np.linalg.norm(embeddings, axis=1)[:, None]\u001b[39;00m\n\u001b[1;32m      8\u001b[0m \u001b[38;5;66;03m# tsne = TSNE(n_components=2, random_state=42)\u001b[39;00m\n\u001b[1;32m      9\u001b[0m \u001b[38;5;66;03m# embeddings_2d = tsne.fit_transform(embeddings)\u001b[39;00m\n\u001b[0;32m---> 11\u001b[0m data \u001b[38;5;241m=\u001b[39m \u001b[43mpd\u001b[49m\u001b[38;5;241;43m.\u001b[39;49m\u001b[43mDataFrame\u001b[49m\u001b[43m(\u001b[49m\n\u001b[1;32m     12\u001b[0m \u001b[43m    \u001b[49m\u001b[43membeddings_2d\u001b[49m\u001b[43m,\u001b[49m\n\u001b[1;32m     13\u001b[0m \u001b[43m    \u001b[49m\u001b[43mcolumns\u001b[49m\u001b[38;5;241;43m=\u001b[39;49m\u001b[43m[\u001b[49m\u001b[38;5;124;43m\"\u001b[39;49m\u001b[38;5;124;43mdim1\u001b[39;49m\u001b[38;5;124;43m\"\u001b[39;49m\u001b[43m,\u001b[49m\u001b[43m \u001b[49m\u001b[38;5;124;43m\"\u001b[39;49m\u001b[38;5;124;43mdim2\u001b[39;49m\u001b[38;5;124;43m\"\u001b[39;49m\u001b[43m]\u001b[49m\u001b[43m,\u001b[49m\n\u001b[1;32m     14\u001b[0m \u001b[43m)\u001b[49m\n\u001b[1;32m     15\u001b[0m data[\u001b[38;5;124m\"\u001b[39m\u001b[38;5;124myear\u001b[39m\u001b[38;5;124m\"\u001b[39m] \u001b[38;5;241m=\u001b[39m [pub\u001b[38;5;241m.\u001b[39mpublication_date\u001b[38;5;241m.\u001b[39myear \u001b[38;5;28;01mfor\u001b[39;00m pub \u001b[38;5;129;01min\u001b[39;00m pubs]\n\u001b[1;32m     16\u001b[0m (\n\u001b[1;32m     17\u001b[0m     pn\u001b[38;5;241m.\u001b[39mggplot(\n\u001b[1;32m     18\u001b[0m         data,\n\u001b[0;32m   (...)\u001b[0m\n\u001b[1;32m     26\u001b[0m     )\n\u001b[1;32m     27\u001b[0m )\n",
      "File \u001b[0;32m~/miniforge3/envs/citesim/lib/python3.10/site-packages/pandas/core/frame.py:782\u001b[0m, in \u001b[0;36mDataFrame.__init__\u001b[0;34m(self, data, index, columns, dtype, copy)\u001b[0m\n\u001b[1;32m    771\u001b[0m         mgr \u001b[38;5;241m=\u001b[39m dict_to_mgr(\n\u001b[1;32m    772\u001b[0m             \u001b[38;5;66;03m# error: Item \"ndarray\" of \"Union[ndarray, Series, Index]\" has no\u001b[39;00m\n\u001b[1;32m    773\u001b[0m             \u001b[38;5;66;03m# attribute \"name\"\u001b[39;00m\n\u001b[0;32m   (...)\u001b[0m\n\u001b[1;32m    779\u001b[0m             copy\u001b[38;5;241m=\u001b[39m_copy,\n\u001b[1;32m    780\u001b[0m         )\n\u001b[1;32m    781\u001b[0m     \u001b[38;5;28;01melse\u001b[39;00m:\n\u001b[0;32m--> 782\u001b[0m         mgr \u001b[38;5;241m=\u001b[39m \u001b[43mndarray_to_mgr\u001b[49m\u001b[43m(\u001b[49m\n\u001b[1;32m    783\u001b[0m \u001b[43m            \u001b[49m\u001b[43mdata\u001b[49m\u001b[43m,\u001b[49m\n\u001b[1;32m    784\u001b[0m \u001b[43m            \u001b[49m\u001b[43mindex\u001b[49m\u001b[43m,\u001b[49m\n\u001b[1;32m    785\u001b[0m \u001b[43m            \u001b[49m\u001b[43mcolumns\u001b[49m\u001b[43m,\u001b[49m\n\u001b[1;32m    786\u001b[0m \u001b[43m            \u001b[49m\u001b[43mdtype\u001b[49m\u001b[38;5;241;43m=\u001b[39;49m\u001b[43mdtype\u001b[49m\u001b[43m,\u001b[49m\n\u001b[1;32m    787\u001b[0m \u001b[43m            \u001b[49m\u001b[43mcopy\u001b[49m\u001b[38;5;241;43m=\u001b[39;49m\u001b[43mcopy\u001b[49m\u001b[43m,\u001b[49m\n\u001b[1;32m    788\u001b[0m \u001b[43m            \u001b[49m\u001b[43mtyp\u001b[49m\u001b[38;5;241;43m=\u001b[39;49m\u001b[43mmanager\u001b[49m\u001b[43m,\u001b[49m\n\u001b[1;32m    789\u001b[0m \u001b[43m        \u001b[49m\u001b[43m)\u001b[49m\n\u001b[1;32m    791\u001b[0m \u001b[38;5;66;03m# For data is list-like, or Iterable (will consume into list)\u001b[39;00m\n\u001b[1;32m    792\u001b[0m \u001b[38;5;28;01melif\u001b[39;00m is_list_like(data):\n",
      "File \u001b[0;32m~/miniforge3/envs/citesim/lib/python3.10/site-packages/pandas/core/internals/construction.py:336\u001b[0m, in \u001b[0;36mndarray_to_mgr\u001b[0;34m(values, index, columns, dtype, copy, typ)\u001b[0m\n\u001b[1;32m    331\u001b[0m \u001b[38;5;66;03m# _prep_ndarraylike ensures that values.ndim == 2 at this point\u001b[39;00m\n\u001b[1;32m    332\u001b[0m index, columns \u001b[38;5;241m=\u001b[39m _get_axes(\n\u001b[1;32m    333\u001b[0m     values\u001b[38;5;241m.\u001b[39mshape[\u001b[38;5;241m0\u001b[39m], values\u001b[38;5;241m.\u001b[39mshape[\u001b[38;5;241m1\u001b[39m], index\u001b[38;5;241m=\u001b[39mindex, columns\u001b[38;5;241m=\u001b[39mcolumns\n\u001b[1;32m    334\u001b[0m )\n\u001b[0;32m--> 336\u001b[0m \u001b[43m_check_values_indices_shape_match\u001b[49m\u001b[43m(\u001b[49m\u001b[43mvalues\u001b[49m\u001b[43m,\u001b[49m\u001b[43m \u001b[49m\u001b[43mindex\u001b[49m\u001b[43m,\u001b[49m\u001b[43m \u001b[49m\u001b[43mcolumns\u001b[49m\u001b[43m)\u001b[49m\n\u001b[1;32m    338\u001b[0m \u001b[38;5;28;01mif\u001b[39;00m typ \u001b[38;5;241m==\u001b[39m \u001b[38;5;124m\"\u001b[39m\u001b[38;5;124marray\u001b[39m\u001b[38;5;124m\"\u001b[39m:\n\u001b[1;32m    339\u001b[0m     \u001b[38;5;28;01mif\u001b[39;00m \u001b[38;5;28missubclass\u001b[39m(values\u001b[38;5;241m.\u001b[39mdtype\u001b[38;5;241m.\u001b[39mtype, \u001b[38;5;28mstr\u001b[39m):\n",
      "File \u001b[0;32m~/miniforge3/envs/citesim/lib/python3.10/site-packages/pandas/core/internals/construction.py:420\u001b[0m, in \u001b[0;36m_check_values_indices_shape_match\u001b[0;34m(values, index, columns)\u001b[0m\n\u001b[1;32m    418\u001b[0m passed \u001b[38;5;241m=\u001b[39m values\u001b[38;5;241m.\u001b[39mshape\n\u001b[1;32m    419\u001b[0m implied \u001b[38;5;241m=\u001b[39m (\u001b[38;5;28mlen\u001b[39m(index), \u001b[38;5;28mlen\u001b[39m(columns))\n\u001b[0;32m--> 420\u001b[0m \u001b[38;5;28;01mraise\u001b[39;00m \u001b[38;5;167;01mValueError\u001b[39;00m(\u001b[38;5;124mf\u001b[39m\u001b[38;5;124m\"\u001b[39m\u001b[38;5;124mShape of passed values is \u001b[39m\u001b[38;5;132;01m{\u001b[39;00mpassed\u001b[38;5;132;01m}\u001b[39;00m\u001b[38;5;124m, indices imply \u001b[39m\u001b[38;5;132;01m{\u001b[39;00mimplied\u001b[38;5;132;01m}\u001b[39;00m\u001b[38;5;124m\"\u001b[39m)\n",
      "\u001b[0;31mValueError\u001b[0m: Shape of passed values is (4511, 20), indices imply (4511, 2)"
     ]
    }
   ],
   "source": [
    "from sklearn.manifold import TSNE\n",
    "\n",
    "embeddings = np.vstack([pub.embedding for pub in pubs])\n",
    "embeddings_2d = embeddings\n",
    "\n",
    "# # Apply t-SNE if dim > 2\n",
    "embeddings = embeddings / np.linalg.norm(embeddings, axis=1)[:, None]\n",
    "tsne = TSNE(n_components=2, random_state=42)\n",
    "embeddings_2d = tsne.fit_transform(embeddings)\n",
    "\n",
    "data = pd.DataFrame(\n",
    "    embeddings_2d,\n",
    "    columns=[\"dim1\", \"dim2\"],\n",
    ")\n",
    "data[\"year\"] = [pub.publication_date.year for pub in pubs]\n",
    "(\n",
    "    pn.ggplot(\n",
    "        data,\n",
    "        mapping=pn.aes(x=\"dim1\", y=\"dim2\"),\n",
    "    )\n",
    "    + pn.geom_point(\n",
    "        alpha=0.1,\n",
    "        mapping=pn.aes(\n",
    "            color=\"year\",\n",
    "        ),\n",
    "    )\n",
    ")"
   ]
  },
  {
   "cell_type": "code",
   "execution_count": null,
   "metadata": {},
   "outputs": [
    {
     "name": "stderr",
     "output_type": "stream",
     "text": [
      "'stat_bin()' using 'bins = 25'. Pick better value with 'binwidth'.\n"
     ]
    },
    {
     "data": {
      "image/png": "[encoded data removed]",
      "text/plain": [
       "<Figure size 640x480 with 1 Axes>"
      ]
     },
     "metadata": {
      "image/png": {
       "height": 480,
       "width": 640
      }
     },
     "output_type": "display_data"
    },
    {
     "data": {
      "text/plain": [
       "<Figure Size: (640 x 480)>"
      ]
     },
     "execution_count": 55,
     "metadata": {},
     "output_type": "execute_result"
    }
   ],
   "source": [
    "# Sanity check: the distribution of dates matches the growth function we used\n",
    "\n",
    "(\n",
    "    pn.ggplot(\n",
    "        pd.DataFrame(data[\"year\"]),\n",
    "        pn.aes(x=\"year\")\n",
    "    )\n",
    "    + pn.geom_histogram()\n",
    ")"
   ]
  }
 ],
 "metadata": {
  "kernelspec": {
   "display_name": "citesim",
   "language": "python",
   "name": "python3"
  },
  "language_info": {
   "codemirror_mode": {
    "name": "ipython",
    "version": 3
   },
   "file_extension": ".py",
   "mimetype": "text/x-python",
   "name": "python",
   "nbconvert_exporter": "python",
   "pygments_lexer": "ipython3",
   "version": "3.10.13"
  }
 },
 "nbformat": 4,
 "nbformat_minor": 2
}
