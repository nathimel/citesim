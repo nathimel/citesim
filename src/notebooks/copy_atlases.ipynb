{
 "cells": [
  {
   "cell_type": "code",
   "execution_count": null,
   "metadata": {},
   "outputs": [],
   "source": [
    "from sciterra import Atlas\n",
    "from sciterra.vectorization import vectorizers\n",
    "\n",
    "import sys\n",
    "sys.path.append(\"/Users/nathanielimel/uci/projects/citesim/src\")\n",
    "\n",
    "from analysis.plot import atlas_to_measurements\n",
    "from analysis.plot import search_converged_ids"
   ]
  },
  {
   "cell_type": "code",
   "execution_count": null,
   "metadata": {},
   "outputs": [],
   "source": [
    "atlas_dirs = {\n",
    "    \"Physics\": \"/Users/nathanielimel/uci/projects/citesim/outputs/librarian=S2/vectorizer=SciBERT/center=hafenLowredshiftLymanLimit2017\",\n",
    "\n",
    "    \"Linguistics\": \"/Users/nathanielimel/uci/projects/citesim/outputs/librarian=S2/vectorizer=SciBERT/center=Imeletal2022\",\n",
    "\n",
    "    \"Medicine\": \"/Users/nathanielimel/uci/projects/citesim/outputs/librarian=S2/vectorizer=SciBERT/center=Torres2013\",\n",
    "\n",
    "    \"Education\": \"/Users/nathanielimel/uci/projects/citesim/outputs/librarian=S2/vectorizer=SciBERT/center=Ololube2012\",\n",
    "\n",
    "    \"Philosophy\": \"/Users/nathanielimel/uci/projects/citesim/outputs/librarian=S2/vectorizer=SciBERT/center=Bacon2019\",\n",
    "\n",
    "    \"Economics\": \"/Users/nathanielimel/uci/projects/citesim/outputs/librarian=S2/vectorizer=SciBERT/center=West2003\",\n",
    "\n",
    "    \"Materials Science\": \"/Users/nathanielimel/uci/projects/citesim/outputs/librarian=S2/vectorizer=SciBERT/center=Miele2022\",\n",
    "\n",
    "    \"Geology\": \"/Users/nathanielimel/uci/projects/citesim/outputs/librarian=S2/vectorizer=SciBERT/center=ForeroOrtega2021\",\n",
    "\n",
    "    \"Mathematics\": \"/Users/nathanielimel/uci/projects/citesim/outputs/librarian=S2/vectorizer=SciBERT/center=Andre2018\",\n",
    "\n",
    "}"
   ]
  },
  {
   "cell_type": "markdown",
   "metadata": {},
   "source": [
    "Set new vectorizer"
   ]
  },
  {
   "cell_type": "code",
   "execution_count": null,
   "metadata": {},
   "outputs": [],
   "source": [
    "new_vectorizer = \"BOW\""
   ]
  },
  {
   "cell_type": "code",
   "execution_count": null,
   "metadata": {},
   "outputs": [],
   "source": [
    "# Load the source atlas for the field\n",
    "field = \"Physics\"\n",
    "atl = Atlas.load(atlas_dirs[field])\n",
    "len(atl)"
   ]
  },
  {
   "cell_type": "code",
   "execution_count": null,
   "metadata": {},
   "outputs": [],
   "source": [
    "# Set the target atlas dir \n",
    "save_dir = atlas_dirs[field].replace(\"vectorizer=SciBERT\", f\"vectorizer={new_vectorizer}\")\n",
    "save_dir"
   ]
  },
  {
   "cell_type": "code",
   "execution_count": null,
   "metadata": {},
   "outputs": [],
   "source": [
    "\n",
    "if new_vectorizer == \"Word2Vec\" or new_vectorizer == \"BOW\":\n",
    "    # Create corpus for Word2Vec\n",
    "    import os\n",
    "\n",
    "    corpus_path = f\"{save_dir}/corpus.txt\"\n",
    "    model_path = f\"{save_dir}/w2v.model\"\n",
    "    overwrite = False\n",
    "\n",
    "    if not os.path.exists(corpus_path) or overwrite:\n",
    "        abstracts = \"\\n\".join([pub.abstract for pub in atl.publications.values()])\n",
    "        with open(corpus_path, \"w\") as f:\n",
    "            f.writelines(abstracts)\n",
    "\n",
    "    vectorizer_kwargs = dict(\n",
    "        corpus_path=corpus_path,\n",
    "        model_path=model_path,        \n",
    "    )\n",
    "else:\n",
    "    vectorizer_kwargs = dict(device=\"mps\")"
   ]
  },
  {
   "cell_type": "code",
   "execution_count": null,
   "metadata": {},
   "outputs": [],
   "source": [
    "# Initialize the vectorizer\n",
    "\n",
    "vectorizer = vectorizers[new_vectorizer](\n",
    "        **vectorizer_kwargs,\n",
    ")\n",
    "vectorizer"
   ]
  },
  {
   "cell_type": "code",
   "execution_count": null,
   "metadata": {},
   "outputs": [],
   "source": [
    "from sciterra import Cartographer\n",
    "from sciterra.vectorization.vectorizer import Vectorizer\n",
    "def copy_atlas(atl: Atlas, vectorizer: Vectorizer, **kwargs) -> Atlas:\n",
    "    \"\"\"Create a new atlas containing the publications of an old one, and having a projection with a different vectorizer.\"\"\"\n",
    "\n",
    "    atl_new = Atlas(\n",
    "        publications=list(atl.publications.values()),\n",
    "    )\n",
    "    crt = Cartographer(vectorizer=vectorizer)\n",
    "    atl_new = crt.project(atl_new, **kwargs)\n",
    "    return atl_new"
   ]
  },
  {
   "cell_type": "code",
   "execution_count": null,
   "metadata": {},
   "outputs": [],
   "source": [
    "# Not bad, gpt2 took < 2 hours\n",
    "atl_new: Atlas = copy_atlas(atl, vectorizer, batch_size=4) # try 4 if 8 leads to memory issues\n",
    "atl_new.projection"
   ]
  },
  {
   "cell_type": "code",
   "execution_count": null,
   "metadata": {},
   "outputs": [],
   "source": [
    "len(atl_new.projection)"
   ]
  },
  {
   "cell_type": "code",
   "execution_count": null,
   "metadata": {},
   "outputs": [],
   "source": [
    "# save the atlas\n",
    "# TODO: create an atlas.copy or from_atlas classmethod\n",
    "atl_new.center = atl.center\n",
    "atl_new.history = atl.history\n",
    "atl_new.save(save_dir)\n"
   ]
  },
  {
   "cell_type": "code",
   "execution_count": null,
   "metadata": {},
   "outputs": [],
   "source": [
    "# This step is necessary for word2vec which has failed embeddings\n",
    "\n",
    "# Take converged pubs that are in atlas\n",
    "converged_pub_ids = search_converged_ids(\n",
    "    atl, \n",
    "    num_pubs_added=1000,\n",
    ")\n",
    "converged_pub_ids = [id for id in converged_pub_ids if id in atl_new.ids]"
   ]
  },
  {
   "cell_type": "code",
   "execution_count": null,
   "metadata": {},
   "outputs": [],
   "source": [
    "# measure with diff vectorizer\n",
    "\n",
    "\n",
    "\n",
    "df = atlas_to_measurements(\n",
    "    atl_new,\n",
    "    vectorizer=vectorizer,\n",
    "    converged_pub_ids=converged_pub_ids,\n",
    "    fields_of_study=[field],\n",
    ")\n",
    "df\n"
   ]
  },
  {
   "cell_type": "code",
   "execution_count": null,
   "metadata": {},
   "outputs": [],
   "source": [
    "import os\n",
    "\n",
    "save_fn = \"all_data.csv\"\n",
    "save_fn = os.path.join(save_dir, save_fn)\n",
    "\n",
    "df.to_csv(save_fn, index=False)"
   ]
  }
 ],
 "metadata": {
  "kernelspec": {
   "display_name": "citesim",
   "language": "python",
   "name": "python3"
  },
  "language_info": {
   "codemirror_mode": {
    "name": "ipython",
    "version": 3
   },
   "file_extension": ".py",
   "mimetype": "text/x-python",
   "name": "python",
   "nbconvert_exporter": "python",
   "pygments_lexer": "ipython3",
   "version": "3.10.13"
  }
 },
 "nbformat": 4,
 "nbformat_minor": 2
}
