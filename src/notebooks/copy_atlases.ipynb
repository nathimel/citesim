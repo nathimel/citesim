{
 "cells": [
  {
   "cell_type": "code",
   "execution_count": 1,
   "metadata": {},
   "outputs": [
    {
     "name": "stderr",
     "output_type": "stream",
     "text": [
      "IProgress not found. Please update jupyter and ipywidgets. See https://ipywidgets.readthedocs.io/en/stable/user_install.html\n"
     ]
    }
   ],
   "source": [
    "from sciterra import Atlas\n",
    "from sciterra.vectorization import vectorizers\n",
    "\n",
    "import sys\n",
    "sys.path.append(\"/Users/nathanielimel/uci/projects/citesim/src\")\n",
    "\n",
    "from analysis.plot import atlas_to_measurements"
   ]
  },
  {
   "cell_type": "code",
   "execution_count": 2,
   "metadata": {},
   "outputs": [],
   "source": [
    "atlas_dirs = {\n",
    "    \"Physics\": \"/Users/nathanielimel/uci/projects/citesim/outputs/librarian=S2/vectorizer=SciBERT/center=hafenLowredshiftLymanLimit2017\",\n",
    "    \"Linguistics\": \"/Users/nathanielimel/uci/projects/citesim/outputs/librarian=S2/vectorizer=SciBERT/center=Imeletal2022\",\n",
    "    \"Medicine\": \"/Users/nathanielimel/uci/projects/citesim/outputs/librarian=S2/vectorizer=SciBERT/center=Torres2013\",\n",
    "    \"Education\": \"/Users/nathanielimel/uci/projects/citesim/outputs/librarian=S2/vectorizer=SciBERT/center=Ololube2012\",\n",
    "}"
   ]
  },
  {
   "cell_type": "code",
   "execution_count": 3,
   "metadata": {},
   "outputs": [
    {
     "data": {
      "text/plain": [
       "30385"
      ]
     },
     "execution_count": 3,
     "metadata": {},
     "output_type": "execute_result"
    }
   ],
   "source": [
    "# Load the source atlas for the field\n",
    "field = \"Physics\"\n",
    "atl = Atlas.load(atlas_dirs[field])\n",
    "len(atl)"
   ]
  },
  {
   "cell_type": "code",
   "execution_count": 4,
   "metadata": {},
   "outputs": [],
   "source": [
    "from sciterra import Cartographer\n",
    "def copy_atlas(atl: Atlas, vectorizer: str, **kwargs) -> Atlas:\n",
    "    \"\"\"Create a new atlas containing the publications of an old one, and having a projection with a different vectorizer.\"\"\"\n",
    "\n",
    "    atl_new = Atlas(\n",
    "        publications=list(atl.publications.values()),\n",
    "    )\n",
    "    crt = Cartographer(vectorizer=vectorizers[vectorizer](device=\"mps\"))\n",
    "    atl_new = crt.project(atl_new, **kwargs)\n",
    "    return atl_new"
   ]
  },
  {
   "cell_type": "code",
   "execution_count": 5,
   "metadata": {},
   "outputs": [
    {
     "name": "stdout",
     "output_type": "stream",
     "text": [
      "Using device: mps.\n"
     ]
    },
    {
     "name": "stderr",
     "output_type": "stream",
     "text": [
      "embedding documents: 30392it [1:49:45,  4.61it/s]                             \n"
     ]
    },
    {
     "data": {
      "text/plain": [
       "<sciterra.vectorization.projection.Projection at 0xa5e419390>"
      ]
     },
     "execution_count": 5,
     "metadata": {},
     "output_type": "execute_result"
    }
   ],
   "source": [
    "atl_new: Atlas = copy_atlas(atl, \"GPT2\")\n",
    "atl_new.projection"
   ]
  },
  {
   "cell_type": "code",
   "execution_count": 7,
   "metadata": {},
   "outputs": [
    {
     "data": {
      "text/plain": [
       "'/Users/nathanielimel/uci/projects/citesim/outputs/librarian=S2/vectorizer=GPT2/center=hafenLowredshiftLymanLimit2017'"
      ]
     },
     "execution_count": 7,
     "metadata": {},
     "output_type": "execute_result"
    }
   ],
   "source": [
    "# save to appropriate dir for analysis\n",
    "\n",
    "# This is our 'all data' csv\n",
    "\n",
    "# save_dir = \"/Users/nathanielimel/uci/projects/citesim/outputs/librarian=S2/vectorizer=SciBERT/center=hafenLowredshiftLymanLimit2017\".replace(\"vectorizer=SciBERT\", \"vectorizer=GPT2\")\n",
    "\n",
    "# save_dir = \"/Users/nathanielimel/uci/projects/citesim/outputs/librarian=S2/vectorizer=SciBERT/center=Imeletal2022\".replace(\"vectorizer=SciBERT\", \"vectorizer=GPT2\")\n",
    "\n",
    "# save_dir = \"/Users/nathanielimel/uci/projects/citesim/outputs/librarian=S2/vectorizer=SciBERT/center=Torres2013\".replace(\"vectorizer=SciBERT\", \"vectorizer=GPT2\")\n",
    "\n",
    "# save_dir = \"/Users/nathanielimel/uci/projects/citesim/outputs/librarian=S2/vectorizer=SciBERT/center=Ololube2012\".replace(\"vectorizer=SciBERT\", \"vectorizer=GPT2\")\n",
    "\n",
    "save_dir = atlas_dirs[field].replace(\"vectorizer=SciBERT\", \"vectorizer=GPT2\")\n",
    "\n",
    "save_dir"
   ]
  },
  {
   "cell_type": "code",
   "execution_count": 10,
   "metadata": {},
   "outputs": [
    {
     "name": "stderr",
     "output_type": "stream",
     "text": [
      "/Users/nathanielimel/uci/projects/sciterra/src/sciterra/mapping/atlas.py:114: UserWarning: Overwriting existing file at /Users/nathanielimel/uci/projects/citesim/outputs/librarian=S2/vectorizer=GPT2/center=hafenLowredshiftLymanLimit2017/publications.pkl.\n",
      "/Users/nathanielimel/uci/projects/sciterra/src/sciterra/mapping/atlas.py:114: UserWarning: Overwriting existing file at /Users/nathanielimel/uci/projects/citesim/outputs/librarian=S2/vectorizer=GPT2/center=hafenLowredshiftLymanLimit2017/projection.pkl.\n",
      "/Users/nathanielimel/uci/projects/sciterra/src/sciterra/mapping/atlas.py:114: UserWarning: Overwriting existing file at /Users/nathanielimel/uci/projects/citesim/outputs/librarian=S2/vectorizer=GPT2/center=hafenLowredshiftLymanLimit2017/bad_ids.pkl.\n",
      "/Users/nathanielimel/uci/projects/sciterra/src/sciterra/mapping/atlas.py:116: UserWarning: Writing to /Users/nathanielimel/uci/projects/citesim/outputs/librarian=S2/vectorizer=GPT2/center=hafenLowredshiftLymanLimit2017/history.pkl.\n",
      "/Users/nathanielimel/uci/projects/sciterra/src/sciterra/mapping/atlas.py:116: UserWarning: Writing to /Users/nathanielimel/uci/projects/citesim/outputs/librarian=S2/vectorizer=GPT2/center=hafenLowredshiftLymanLimit2017/center.pkl.\n"
     ]
    }
   ],
   "source": [
    "# save the atlas\n",
    "# TODO: create an atlas.copy or from_atlas classmethod\n",
    "atl_new.center = atl.center\n",
    "atl_new.history = atl.history\n",
    "atl_new.save(save_dir)\n"
   ]
  },
  {
   "cell_type": "code",
   "execution_count": 11,
   "metadata": {},
   "outputs": [
    {
     "name": "stdout",
     "output_type": "stream",
     "text": [
      "Using device: mps.\n",
      "Between update 64 and the final update (66) there were 1334 publications added to the Atlas.\n",
      "Convergence criterion dict_items([('num_pubs_added', 1000), ('kernel_size', 16)]) (=> index 64 out of 67 total updates) yields 14625 ids out of 30385 total ids.\n",
      "computing cosine similarity for 14625 embeddings with batch size 1000.\n"
     ]
    },
    {
     "name": "stderr",
     "output_type": "stream",
     "text": [
      "100%|██████████| 15/15 [00:05<00:00,  2.81it/s]\n"
     ]
    },
    {
     "name": "stdout",
     "output_type": "stream",
     "text": [
      "Computing ['density', 'edginess'] for 14625 publications.\n"
     ]
    },
    {
     "name": "stderr",
     "output_type": "stream",
     "text": [
      " 13%|█▎        | 1831/14625 [00:03<00:25, 502.13it/s]/Users/nathanielimel/uci/projects/sciterra/src/sciterra/mapping/topography.py:172: RuntimeWarning: invalid value encountered in divide\n",
      "100%|██████████| 14625/14625 [00:24<00:00, 585.75it/s]\n"
     ]
    },
    {
     "name": "stdout",
     "output_type": "stream",
     "text": [
      "There are 14605 total observations after filtering.\n"
     ]
    },
    {
     "data": {
      "text/html": [
       "<div>\n",
       "<style scoped>\n",
       "    .dataframe tbody tr th:only-of-type {\n",
       "        vertical-align: middle;\n",
       "    }\n",
       "\n",
       "    .dataframe tbody tr th {\n",
       "        vertical-align: top;\n",
       "    }\n",
       "\n",
       "    .dataframe thead th {\n",
       "        text-align: right;\n",
       "    }\n",
       "</style>\n",
       "<table border=\"1\" class=\"dataframe\">\n",
       "  <thead>\n",
       "    <tr style=\"text-align: right;\">\n",
       "      <th></th>\n",
       "      <th>density</th>\n",
       "      <th>edginess</th>\n",
       "      <th>citations_per_year</th>\n",
       "      <th>is_center</th>\n",
       "    </tr>\n",
       "  </thead>\n",
       "  <tbody>\n",
       "    <tr>\n",
       "      <th>0</th>\n",
       "      <td>1058.675939</td>\n",
       "      <td>0.977032</td>\n",
       "      <td>14.000000</td>\n",
       "      <td>False</td>\n",
       "    </tr>\n",
       "    <tr>\n",
       "      <th>1</th>\n",
       "      <td>1545.550332</td>\n",
       "      <td>0.814415</td>\n",
       "      <td>1.894737</td>\n",
       "      <td>False</td>\n",
       "    </tr>\n",
       "    <tr>\n",
       "      <th>2</th>\n",
       "      <td>186.395648</td>\n",
       "      <td>0.505732</td>\n",
       "      <td>21.714286</td>\n",
       "      <td>False</td>\n",
       "    </tr>\n",
       "    <tr>\n",
       "      <th>3</th>\n",
       "      <td>1501.911690</td>\n",
       "      <td>0.594145</td>\n",
       "      <td>1.500000</td>\n",
       "      <td>False</td>\n",
       "    </tr>\n",
       "    <tr>\n",
       "      <th>4</th>\n",
       "      <td>1846.261870</td>\n",
       "      <td>0.452021</td>\n",
       "      <td>3.363636</td>\n",
       "      <td>False</td>\n",
       "    </tr>\n",
       "    <tr>\n",
       "      <th>...</th>\n",
       "      <td>...</td>\n",
       "      <td>...</td>\n",
       "      <td>...</td>\n",
       "      <td>...</td>\n",
       "    </tr>\n",
       "    <tr>\n",
       "      <th>14620</th>\n",
       "      <td>1550.733908</td>\n",
       "      <td>0.644650</td>\n",
       "      <td>6.583333</td>\n",
       "      <td>False</td>\n",
       "    </tr>\n",
       "    <tr>\n",
       "      <th>14621</th>\n",
       "      <td>2126.263669</td>\n",
       "      <td>0.423650</td>\n",
       "      <td>7.062500</td>\n",
       "      <td>False</td>\n",
       "    </tr>\n",
       "    <tr>\n",
       "      <th>14622</th>\n",
       "      <td>2112.960384</td>\n",
       "      <td>0.694545</td>\n",
       "      <td>21.307692</td>\n",
       "      <td>False</td>\n",
       "    </tr>\n",
       "    <tr>\n",
       "      <th>14623</th>\n",
       "      <td>1581.126069</td>\n",
       "      <td>0.870435</td>\n",
       "      <td>4.333333</td>\n",
       "      <td>False</td>\n",
       "    </tr>\n",
       "    <tr>\n",
       "      <th>14624</th>\n",
       "      <td>735.556111</td>\n",
       "      <td>0.617098</td>\n",
       "      <td>9.000000</td>\n",
       "      <td>True</td>\n",
       "    </tr>\n",
       "  </tbody>\n",
       "</table>\n",
       "<p>14605 rows × 4 columns</p>\n",
       "</div>"
      ],
      "text/plain": [
       "           density  edginess  citations_per_year  is_center\n",
       "0      1058.675939  0.977032           14.000000      False\n",
       "1      1545.550332  0.814415            1.894737      False\n",
       "2       186.395648  0.505732           21.714286      False\n",
       "3      1501.911690  0.594145            1.500000      False\n",
       "4      1846.261870  0.452021            3.363636      False\n",
       "...            ...       ...                 ...        ...\n",
       "14620  1550.733908  0.644650            6.583333      False\n",
       "14621  2126.263669  0.423650            7.062500      False\n",
       "14622  2112.960384  0.694545           21.307692      False\n",
       "14623  1581.126069  0.870435            4.333333      False\n",
       "14624   735.556111  0.617098            9.000000       True\n",
       "\n",
       "[14605 rows x 4 columns]"
      ]
     },
     "execution_count": 11,
     "metadata": {},
     "output_type": "execute_result"
    }
   ],
   "source": [
    "# measure with diff vectorizer\n",
    "\n",
    "vectorizer = \"GPT2\"\n",
    "\n",
    "df = atlas_to_measurements(\n",
    "    atl_new,\n",
    "    vectorizer=vectorizers[vectorizer](device=\"mps\"),\n",
    "    fields_of_study=[field],\n",
    ")\n",
    "df\n",
    "\n",
    "# Okay, this is tricky; we're going to need to keep the identity of the papers when vectorizing; perhaps just by returning a column of identifiers."
   ]
  },
  {
   "cell_type": "code",
   "execution_count": null,
   "metadata": {},
   "outputs": [],
   "source": [
    "import os\n",
    "\n",
    "save_fn = \"all_data.csv\"\n",
    "save_fn = os.path.join(save_dir, save_fn)\n",
    "\n",
    "df.to_csv(save_fn, index=False)"
   ]
  },
  {
   "cell_type": "code",
   "execution_count": null,
   "metadata": {},
   "outputs": [],
   "source": [
    "# Now do it for the other settings, and refactor in the other notebook in order to compare\n",
    "\n",
    "# will we combine fields? If so, should probably only do so at the level of z-scored data."
   ]
  }
 ],
 "metadata": {
  "kernelspec": {
   "display_name": "citesim",
   "language": "python",
   "name": "python3"
  },
  "language_info": {
   "codemirror_mode": {
    "name": "ipython",
    "version": 3
   },
   "file_extension": ".py",
   "mimetype": "text/x-python",
   "name": "python",
   "nbconvert_exporter": "python",
   "pygments_lexer": "ipython3",
   "version": "3.10.13"
  }
 },
 "nbformat": 4,
 "nbformat_minor": 2
}
