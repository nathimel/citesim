{
 "cells": [
  {
   "cell_type": "code",
   "execution_count": 1,
   "metadata": {},
   "outputs": [
    {
     "name": "stderr",
     "output_type": "stream",
     "text": [
      "IProgress not found. Please update jupyter and ipywidgets. See https://ipywidgets.readthedocs.io/en/stable/user_install.html\n"
     ]
    }
   ],
   "source": [
    "from sciterra import Atlas\n",
    "from sciterra.vectorization import vectorizers\n",
    "\n",
    "import sys\n",
    "sys.path.append(\"/Users/nathanielimel/uci/projects/citesim/src\")\n",
    "\n",
    "from analysis.plot import atlas_to_measurements\n",
    "from analysis.plot import search_converged_ids"
   ]
  },
  {
   "cell_type": "code",
   "execution_count": 2,
   "metadata": {},
   "outputs": [],
   "source": [
    "atlas_dirs = {\n",
    "    \"Physics\": \"/Users/nathanielimel/uci/projects/citesim/outputs/librarian=S2/vectorizer=SciBERT/center=hafenLowredshiftLymanLimit2017\",\n",
    "\n",
    "    \"Linguistics\": \"/Users/nathanielimel/uci/projects/citesim/outputs/librarian=S2/vectorizer=SciBERT/center=Imeletal2022\",\n",
    "\n",
    "    \"Medicine\": \"/Users/nathanielimel/uci/projects/citesim/outputs/librarian=S2/vectorizer=SciBERT/center=Torres2013\",\n",
    "\n",
    "    \"Education\": \"/Users/nathanielimel/uci/projects/citesim/outputs/librarian=S2/vectorizer=SciBERT/center=Ololube2012\",\n",
    "\n",
    "    \"Philosophy\": \"/Users/nathanielimel/uci/projects/citesim/outputs/librarian=S2/vectorizer=SciBERT/center=Bacon2019\",\n",
    "\n",
    "    \"Economics\": \"/Users/nathanielimel/uci/projects/citesim/outputs/librarian=S2/vectorizer=SciBERT/center=West2003\",\n",
    "\n",
    "    \"Materials Science\": \"/Users/nathanielimel/uci/projects/citesim/outputs/librarian=S2/vectorizer=SciBERT/center=Miele2022\",\n",
    "\n",
    "    \"Geology\": \"/Users/nathanielimel/uci/projects/citesim/outputs/librarian=S2/vectorizer=SciBERT/center=ForeroOrtega2021\",\n",
    "\n",
    "    \"Mathematics\": \"/Users/nathanielimel/uci/projects/citesim/outputs/librarian=S2/vectorizer=SciBERT/center=Andre2018\",\n",
    "\n",
    "}"
   ]
  },
  {
   "cell_type": "markdown",
   "metadata": {},
   "source": [
    "Set new vectorizer"
   ]
  },
  {
   "cell_type": "code",
   "execution_count": 3,
   "metadata": {},
   "outputs": [],
   "source": [
    "new_vectorizer = \"BOW\""
   ]
  },
  {
   "cell_type": "code",
   "execution_count": 4,
   "metadata": {},
   "outputs": [
    {
     "data": {
      "text/plain": [
       "30223"
      ]
     },
     "execution_count": 4,
     "metadata": {},
     "output_type": "execute_result"
    }
   ],
   "source": [
    "# Load the source atlas for the field\n",
    "field = \"Geology\"\n",
    "atl = Atlas.load(atlas_dirs[field])\n",
    "len(atl)"
   ]
  },
  {
   "cell_type": "code",
   "execution_count": 5,
   "metadata": {},
   "outputs": [
    {
     "data": {
      "text/plain": [
       "'/Users/nathanielimel/uci/projects/citesim/outputs/librarian=S2/vectorizer=BOW/center=ForeroOrtega2021'"
      ]
     },
     "execution_count": 5,
     "metadata": {},
     "output_type": "execute_result"
    }
   ],
   "source": [
    "# Set the target atlas dir \n",
    "save_dir = atlas_dirs[field].replace(\"vectorizer=SciBERT\", f\"vectorizer={new_vectorizer}\")\n",
    "save_dir"
   ]
  },
  {
   "cell_type": "code",
   "execution_count": 6,
   "metadata": {},
   "outputs": [],
   "source": [
    "\n",
    "if new_vectorizer == \"Word2Vec\" or new_vectorizer == \"BOW\":\n",
    "    # Create corpus for Word2Vec\n",
    "    import os\n",
    "\n",
    "    corpus_path = f\"{save_dir}/corpus.txt\"\n",
    "    model_path = f\"{save_dir}/w2v.model\"\n",
    "    overwrite = False\n",
    "\n",
    "    if not os.path.exists(corpus_path) or overwrite:\n",
    "        abstracts = \"\\n\".join([pub.abstract for pub in atl.publications.values()])\n",
    "        with open(corpus_path, \"w\") as f:\n",
    "            f.writelines(abstracts)\n",
    "\n",
    "    vectorizer_kwargs = dict(\n",
    "        corpus_path=corpus_path,\n",
    "        model_path=model_path,        \n",
    "        min_count=5,\n",
    "    )\n",
    "else:\n",
    "    vectorizer_kwargs = dict(device=\"mps\")"
   ]
  },
  {
   "cell_type": "code",
   "execution_count": 7,
   "metadata": {},
   "outputs": [
    {
     "name": "stdout",
     "output_type": "stream",
     "text": [
      "Loading and tokenizing data from /Users/nathanielimel/uci/projects/citesim/outputs/librarian=S2/vectorizer=BOW/center=ForeroOrtega2021/corpus.txt for vocabulary and training...\n"
     ]
    },
    {
     "name": "stderr",
     "output_type": "stream",
     "text": [
      "tokenizing lines: 50203it [40:03, 20.89it/s] \n"
     ]
    },
    {
     "name": "stdout",
     "output_type": "stream",
     "text": [
      "Training Word2Vec model...\n",
      "Loaded corpus and trained model in 2533.67 seconds.\n",
      "Saving Word2Vec model at /Users/nathanielimel/uci/projects/citesim/outputs/librarian=S2/vectorizer=BOW/center=ForeroOrtega2021/w2v.model.\n"
     ]
    },
    {
     "data": {
      "text/plain": [
       "<sciterra.vectorization.bow.BOWVectorizer at 0x29e673f70>"
      ]
     },
     "execution_count": 7,
     "metadata": {},
     "output_type": "execute_result"
    }
   ],
   "source": [
    "# Initialize the vectorizer\n",
    "\n",
    "vectorizer = vectorizers[new_vectorizer](\n",
    "        **vectorizer_kwargs,\n",
    ")\n",
    "vectorizer"
   ]
  },
  {
   "cell_type": "code",
   "execution_count": 8,
   "metadata": {},
   "outputs": [],
   "source": [
    "from sciterra import Cartographer\n",
    "from sciterra.vectorization.vectorizer import Vectorizer\n",
    "def copy_atlas(atl: Atlas, vectorizer: Vectorizer, **kwargs) -> Atlas:\n",
    "    \"\"\"Create a new atlas containing the publications of an old one, and having a projection with a different vectorizer.\"\"\"\n",
    "\n",
    "    atl_new = Atlas(\n",
    "        publications=list(atl.publications.values()),\n",
    "    )\n",
    "    crt = Cartographer(vectorizer=vectorizer)\n",
    "    atl_new = crt.project(atl_new, **kwargs)\n",
    "    return atl_new"
   ]
  },
  {
   "cell_type": "code",
   "execution_count": 9,
   "metadata": {},
   "outputs": [
    {
     "name": "stderr",
     "output_type": "stream",
     "text": [
      "embedding documents: 100%|██████████| 30223/30223 [00:07<00:00, 4168.91it/s]\n"
     ]
    },
    {
     "data": {
      "text/plain": [
       "<sciterra.vectorization.projection.Projection at 0x2b46aa140>"
      ]
     },
     "execution_count": 9,
     "metadata": {},
     "output_type": "execute_result"
    }
   ],
   "source": [
    "# Not bad, gpt2 took < 2 hours\n",
    "atl_new: Atlas = copy_atlas(atl, vectorizer, batch_size=4) # try 4 if 8 leads to memory issues\n",
    "atl_new.projection"
   ]
  },
  {
   "cell_type": "code",
   "execution_count": 10,
   "metadata": {},
   "outputs": [
    {
     "data": {
      "text/plain": [
       "30144"
      ]
     },
     "execution_count": 10,
     "metadata": {},
     "output_type": "execute_result"
    }
   ],
   "source": [
    "len(atl_new.projection)"
   ]
  },
  {
   "cell_type": "code",
   "execution_count": 11,
   "metadata": {},
   "outputs": [
    {
     "name": "stderr",
     "output_type": "stream",
     "text": [
      "/Users/nathanielimel/uci/projects/sciterra/src/sciterra/mapping/atlas.py:120: UserWarning: Writing to /Users/nathanielimel/uci/projects/citesim/outputs/librarian=S2/vectorizer=BOW/center=ForeroOrtega2021/publications.pkl.\n",
      "/Users/nathanielimel/uci/projects/sciterra/src/sciterra/mapping/atlas.py:120: UserWarning: Writing to /Users/nathanielimel/uci/projects/citesim/outputs/librarian=S2/vectorizer=BOW/center=ForeroOrtega2021/projection.pkl.\n",
      "/Users/nathanielimel/uci/projects/sciterra/src/sciterra/mapping/atlas.py:120: UserWarning: Writing to /Users/nathanielimel/uci/projects/citesim/outputs/librarian=S2/vectorizer=BOW/center=ForeroOrtega2021/bad_ids.pkl.\n",
      "/Users/nathanielimel/uci/projects/sciterra/src/sciterra/mapping/atlas.py:120: UserWarning: Writing to /Users/nathanielimel/uci/projects/citesim/outputs/librarian=S2/vectorizer=BOW/center=ForeroOrtega2021/history.pkl.\n",
      "/Users/nathanielimel/uci/projects/sciterra/src/sciterra/mapping/atlas.py:120: UserWarning: Writing to /Users/nathanielimel/uci/projects/citesim/outputs/librarian=S2/vectorizer=BOW/center=ForeroOrtega2021/center.pkl.\n"
     ]
    }
   ],
   "source": [
    "# save the atlas\n",
    "# TODO: create an atlas.copy or from_atlas classmethod\n",
    "atl_new.center = atl.center\n",
    "atl_new.history = atl.history\n",
    "atl_new.save(save_dir)\n"
   ]
  },
  {
   "cell_type": "code",
   "execution_count": 12,
   "metadata": {},
   "outputs": [
    {
     "name": "stdout",
     "output_type": "stream",
     "text": [
      "Between update 132 and the final update (136) there were 1231 publications added to the Atlas.\n",
      "Convergence criterion dict_items([('num_pubs_added', 1000), ('kernel_size', 16)]) (=> index 132 out of 137 total updates) yields 14616 ids out of 30223 total ids.\n"
     ]
    }
   ],
   "source": [
    "# This step is necessary for word2vec which has failed embeddings\n",
    "\n",
    "# Take converged pubs that are in atlas\n",
    "converged_pub_ids = search_converged_ids(\n",
    "    atl, \n",
    "    num_pubs_added=1000,\n",
    ")\n",
    "converged_pub_ids = [id for id in converged_pub_ids if id in atl_new.ids]"
   ]
  },
  {
   "cell_type": "code",
   "execution_count": 13,
   "metadata": {},
   "outputs": [
    {
     "name": "stdout",
     "output_type": "stream",
     "text": [
      "computing cosine similarity for 14581 embeddings with batch size 1000.\n"
     ]
    },
    {
     "name": "stderr",
     "output_type": "stream",
     "text": [
      "100%|██████████| 15/15 [08:43<00:00, 34.88s/it]\n"
     ]
    },
    {
     "name": "stdout",
     "output_type": "stream",
     "text": [
      "Computing ['density', 'edginess'] for 14581 publications.\n"
     ]
    },
    {
     "name": "stderr",
     "output_type": "stream",
     "text": [
      "  0%|          | 0/14581 [00:00<?, ?it/s]/Users/nathanielimel/uci/projects/sciterra/src/sciterra/mapping/topography.py:168: RuntimeWarning: invalid value encountered in divide\n",
      "100%|██████████| 14581/14581 [00:40<00:00, 358.28it/s]\n",
      "/Users/nathanielimel/uci/projects/citesim/src/analysis/plot.py:220: UserWarning: The center publication is not within the set of converged publications.\n"
     ]
    },
    {
     "name": "stdout",
     "output_type": "stream",
     "text": [
      "There are 8288 total observations after filtering.\n"
     ]
    },
    {
     "data": {
      "text/html": [
       "<div>\n",
       "<style scoped>\n",
       "    .dataframe tbody tr th:only-of-type {\n",
       "        vertical-align: middle;\n",
       "    }\n",
       "\n",
       "    .dataframe tbody tr th {\n",
       "        vertical-align: top;\n",
       "    }\n",
       "\n",
       "    .dataframe thead th {\n",
       "        text-align: right;\n",
       "    }\n",
       "</style>\n",
       "<table border=\"1\" class=\"dataframe\">\n",
       "  <thead>\n",
       "    <tr style=\"text-align: right;\">\n",
       "      <th></th>\n",
       "      <th>density</th>\n",
       "      <th>edginess</th>\n",
       "      <th>references</th>\n",
       "      <th>citations_per_year</th>\n",
       "      <th>is_center</th>\n",
       "      <th>identifier</th>\n",
       "      <th>year</th>\n",
       "    </tr>\n",
       "  </thead>\n",
       "  <tbody>\n",
       "    <tr>\n",
       "      <th>0</th>\n",
       "      <td>12.816424</td>\n",
       "      <td>0.657398</td>\n",
       "      <td>35</td>\n",
       "      <td>1.400000</td>\n",
       "      <td>False</td>\n",
       "      <td>57d0d51c3a15e7f229a5b3a83b8a18babe116da0</td>\n",
       "      <td>2015</td>\n",
       "    </tr>\n",
       "    <tr>\n",
       "      <th>1</th>\n",
       "      <td>14.605489</td>\n",
       "      <td>0.574547</td>\n",
       "      <td>50</td>\n",
       "      <td>5.333333</td>\n",
       "      <td>False</td>\n",
       "      <td>04fafa3eb4b7ffb2f68b2615ddf4aff2b02348fe</td>\n",
       "      <td>2014</td>\n",
       "    </tr>\n",
       "    <tr>\n",
       "      <th>3</th>\n",
       "      <td>13.477564</td>\n",
       "      <td>0.656371</td>\n",
       "      <td>69</td>\n",
       "      <td>3.625000</td>\n",
       "      <td>False</td>\n",
       "      <td>b212fdfa258b30082525e57e980d041592bf47be</td>\n",
       "      <td>2012</td>\n",
       "    </tr>\n",
       "    <tr>\n",
       "      <th>4</th>\n",
       "      <td>14.143324</td>\n",
       "      <td>0.664589</td>\n",
       "      <td>32</td>\n",
       "      <td>1.400000</td>\n",
       "      <td>False</td>\n",
       "      <td>59729f67c63dfd3e5d3d535bda173c3474eb0d64</td>\n",
       "      <td>2015</td>\n",
       "    </tr>\n",
       "    <tr>\n",
       "      <th>7</th>\n",
       "      <td>14.335489</td>\n",
       "      <td>0.763988</td>\n",
       "      <td>13</td>\n",
       "      <td>0.714286</td>\n",
       "      <td>False</td>\n",
       "      <td>df0b98de865966ed596fa236c9b882ce84968edc</td>\n",
       "      <td>2013</td>\n",
       "    </tr>\n",
       "    <tr>\n",
       "      <th>...</th>\n",
       "      <td>...</td>\n",
       "      <td>...</td>\n",
       "      <td>...</td>\n",
       "      <td>...</td>\n",
       "      <td>...</td>\n",
       "      <td>...</td>\n",
       "      <td>...</td>\n",
       "    </tr>\n",
       "    <tr>\n",
       "      <th>14573</th>\n",
       "      <td>14.456651</td>\n",
       "      <td>0.645458</td>\n",
       "      <td>16</td>\n",
       "      <td>0.500000</td>\n",
       "      <td>False</td>\n",
       "      <td>d7132b0b4e90701427d654b375b75a3aa17e01ee</td>\n",
       "      <td>2018</td>\n",
       "    </tr>\n",
       "    <tr>\n",
       "      <th>14574</th>\n",
       "      <td>12.925983</td>\n",
       "      <td>0.638020</td>\n",
       "      <td>182</td>\n",
       "      <td>1.882353</td>\n",
       "      <td>False</td>\n",
       "      <td>2e5b74e04ccca8306d7fbf5834786a340769a8cb</td>\n",
       "      <td>2003</td>\n",
       "    </tr>\n",
       "    <tr>\n",
       "      <th>14575</th>\n",
       "      <td>13.725363</td>\n",
       "      <td>0.709486</td>\n",
       "      <td>70</td>\n",
       "      <td>1.736842</td>\n",
       "      <td>False</td>\n",
       "      <td>6a609348b16f68036c3cf56d8f43f34f8d2ac4db</td>\n",
       "      <td>2001</td>\n",
       "    </tr>\n",
       "    <tr>\n",
       "      <th>14577</th>\n",
       "      <td>12.790771</td>\n",
       "      <td>0.789096</td>\n",
       "      <td>47</td>\n",
       "      <td>0.529412</td>\n",
       "      <td>False</td>\n",
       "      <td>0f9ab27d0f3aee27c9a4ec52c23b55ddcd0940ed</td>\n",
       "      <td>2003</td>\n",
       "    </tr>\n",
       "    <tr>\n",
       "      <th>14580</th>\n",
       "      <td>14.870428</td>\n",
       "      <td>0.705722</td>\n",
       "      <td>73</td>\n",
       "      <td>6.666667</td>\n",
       "      <td>False</td>\n",
       "      <td>a6da7e29437f0aa00a89fc746d4bd33328ee0a03</td>\n",
       "      <td>2017</td>\n",
       "    </tr>\n",
       "  </tbody>\n",
       "</table>\n",
       "<p>8288 rows × 7 columns</p>\n",
       "</div>"
      ],
      "text/plain": [
       "         density  edginess  references  citations_per_year  is_center  \\\n",
       "0      12.816424  0.657398          35            1.400000      False   \n",
       "1      14.605489  0.574547          50            5.333333      False   \n",
       "3      13.477564  0.656371          69            3.625000      False   \n",
       "4      14.143324  0.664589          32            1.400000      False   \n",
       "7      14.335489  0.763988          13            0.714286      False   \n",
       "...          ...       ...         ...                 ...        ...   \n",
       "14573  14.456651  0.645458          16            0.500000      False   \n",
       "14574  12.925983  0.638020         182            1.882353      False   \n",
       "14575  13.725363  0.709486          70            1.736842      False   \n",
       "14577  12.790771  0.789096          47            0.529412      False   \n",
       "14580  14.870428  0.705722          73            6.666667      False   \n",
       "\n",
       "                                     identifier  year  \n",
       "0      57d0d51c3a15e7f229a5b3a83b8a18babe116da0  2015  \n",
       "1      04fafa3eb4b7ffb2f68b2615ddf4aff2b02348fe  2014  \n",
       "3      b212fdfa258b30082525e57e980d041592bf47be  2012  \n",
       "4      59729f67c63dfd3e5d3d535bda173c3474eb0d64  2015  \n",
       "7      df0b98de865966ed596fa236c9b882ce84968edc  2013  \n",
       "...                                         ...   ...  \n",
       "14573  d7132b0b4e90701427d654b375b75a3aa17e01ee  2018  \n",
       "14574  2e5b74e04ccca8306d7fbf5834786a340769a8cb  2003  \n",
       "14575  6a609348b16f68036c3cf56d8f43f34f8d2ac4db  2001  \n",
       "14577  0f9ab27d0f3aee27c9a4ec52c23b55ddcd0940ed  2003  \n",
       "14580  a6da7e29437f0aa00a89fc746d4bd33328ee0a03  2017  \n",
       "\n",
       "[8288 rows x 7 columns]"
      ]
     },
     "execution_count": 13,
     "metadata": {},
     "output_type": "execute_result"
    }
   ],
   "source": [
    "# measure with diff vectorizer\n",
    "\n",
    "\n",
    "\n",
    "df = atlas_to_measurements(\n",
    "    atl_new,\n",
    "    vectorizer=vectorizer,\n",
    "    converged_pub_ids=converged_pub_ids,\n",
    "    fields_of_study=[field],\n",
    ")\n",
    "df\n"
   ]
  },
  {
   "cell_type": "code",
   "execution_count": 14,
   "metadata": {},
   "outputs": [],
   "source": [
    "import os\n",
    "\n",
    "save_fn = \"all_data.csv\"\n",
    "save_fn = os.path.join(save_dir, save_fn)\n",
    "\n",
    "df.to_csv(save_fn, index=False)"
   ]
  }
 ],
 "metadata": {
  "kernelspec": {
   "display_name": "citesim",
   "language": "python",
   "name": "python3"
  },
  "language_info": {
   "codemirror_mode": {
    "name": "ipython",
    "version": 3
   },
   "file_extension": ".py",
   "mimetype": "text/x-python",
   "name": "python",
   "nbconvert_exporter": "python",
   "pygments_lexer": "ipython3",
   "version": "3.10.13"
  }
 },
 "nbformat": 4,
 "nbformat_minor": 2
}
