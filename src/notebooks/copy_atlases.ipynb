{
 "cells": [
  {
   "cell_type": "code",
   "execution_count": 1,
   "metadata": {},
   "outputs": [
    {
     "name": "stderr",
     "output_type": "stream",
     "text": [
      "IProgress not found. Please update jupyter and ipywidgets. See https://ipywidgets.readthedocs.io/en/stable/user_install.html\n"
     ]
    }
   ],
   "source": [
    "from sciterra import Atlas\n",
    "from sciterra.vectorization import vectorizers\n",
    "\n",
    "import sys\n",
    "sys.path.append(\"/Users/nathanielimel/uci/projects/citesim/src\")\n",
    "\n",
    "from analysis.plot import atlas_to_measurements"
   ]
  },
  {
   "cell_type": "code",
   "execution_count": 2,
   "metadata": {},
   "outputs": [],
   "source": [
    "atlas_dirs = {\n",
    "    \"Physics\": \"/Users/nathanielimel/uci/projects/citesim/outputs/librarian=S2/vectorizer=SciBERT/center=hafenLowredshiftLymanLimit2017\",\n",
    "\n",
    "    \"Linguistics\": \"/Users/nathanielimel/uci/projects/citesim/outputs/librarian=S2/vectorizer=SciBERT/center=Imeletal2022\",\n",
    "\n",
    "    \"Medicine\": \"/Users/nathanielimel/uci/projects/citesim/outputs/librarian=S2/vectorizer=SciBERT/center=Torres2013\",\n",
    "\n",
    "    \"Education\": \"/Users/nathanielimel/uci/projects/citesim/outputs/librarian=S2/vectorizer=SciBERT/center=Ololube2012\",\n",
    "\n",
    "    \"Philosophy\": \"/Users/nathanielimel/uci/projects/citesim/outputs/librarian=S2/vectorizer=SciBERT/center=Bacon2019\",\n",
    "\n",
    "    \"Economics\": \"/Users/nathanielimel/uci/projects/citesim/outputs/librarian=S2/vectorizer=SciBERT/center=West2003\",\n",
    "\n",
    "    \"Materials Science\": \"/Users/nathanielimel/uci/projects/citesim/outputs/librarian=S2/vectorizer=SciBERT/center=Miele2022\",\n",
    "\n",
    "    \"Geology\": \"/Users/nathanielimel/uci/projects/citesim/outputs/librarian=S2/vectorizer=SciBERT/center=ForeroOrtega2021\",\n",
    "\n",
    "    \"Mathematics\": \"/Users/nathanielimel/uci/projects/citesim/outputs/librarian=S2/vectorizer=SciBERT/center=Andre2018\",\n",
    "\n",
    "}"
   ]
  },
  {
   "cell_type": "markdown",
   "metadata": {},
   "source": [
    "Set new vectorizer"
   ]
  },
  {
   "cell_type": "code",
   "execution_count": 3,
   "metadata": {},
   "outputs": [],
   "source": [
    "new_vectorizer = \"SBERT\""
   ]
  },
  {
   "cell_type": "code",
   "execution_count": 12,
   "metadata": {},
   "outputs": [
    {
     "data": {
      "text/plain": [
       "25459"
      ]
     },
     "execution_count": 12,
     "metadata": {},
     "output_type": "execute_result"
    }
   ],
   "source": [
    "# Load the source atlas for the field\n",
    "field = \"Physics\"\n",
    "atl = Atlas.load(atlas_dirs[field])\n",
    "len(atl)"
   ]
  },
  {
   "cell_type": "code",
   "execution_count": 5,
   "metadata": {},
   "outputs": [],
   "source": [
    "from sciterra import Cartographer\n",
    "def copy_atlas(atl: Atlas, vectorizer: str, **kwargs) -> Atlas:\n",
    "    \"\"\"Create a new atlas containing the publications of an old one, and having a projection with a different vectorizer.\"\"\"\n",
    "\n",
    "    atl_new = Atlas(\n",
    "        publications=list(atl.publications.values()),\n",
    "    )\n",
    "    crt = Cartographer(vectorizer=vectorizers[vectorizer](device=\"mps\"))\n",
    "    atl_new = crt.project(atl_new, **kwargs)\n",
    "    return atl_new"
   ]
  },
  {
   "cell_type": "code",
   "execution_count": 6,
   "metadata": {},
   "outputs": [
    {
     "name": "stdout",
     "output_type": "stream",
     "text": [
      "Using device: mps.\n"
     ]
    },
    {
     "name": "stderr",
     "output_type": "stream",
     "text": [
      "embedding documents: 30300it [39:03, 12.93it/s]                           \n"
     ]
    },
    {
     "data": {
      "text/plain": [
       "<sciterra.vectorization.projection.Projection at 0x3237a3910>"
      ]
     },
     "execution_count": 6,
     "metadata": {},
     "output_type": "execute_result"
    }
   ],
   "source": [
    "atl_new: Atlas = copy_atlas(atl, new_vectorizer, batch_size=300)\n",
    "atl_new.projection"
   ]
  },
  {
   "cell_type": "code",
   "execution_count": 8,
   "metadata": {},
   "outputs": [
    {
     "data": {
      "text/plain": [
       "'/Users/nathanielimel/uci/projects/citesim/outputs/librarian=S2/vectorizer=SBERT/center=West2003'"
      ]
     },
     "execution_count": 8,
     "metadata": {},
     "output_type": "execute_result"
    }
   ],
   "source": [
    "# save to appropriate dir for analysis\n",
    "save_dir = atlas_dirs[field].replace(\"vectorizer=SciBERT\", f\"vectorizer={new_vectorizer}\")\n",
    "save_dir"
   ]
  },
  {
   "cell_type": "code",
   "execution_count": 9,
   "metadata": {},
   "outputs": [
    {
     "name": "stderr",
     "output_type": "stream",
     "text": [
      "/Users/nathanielimel/uci/projects/sciterra/src/sciterra/mapping/atlas.py:116: UserWarning: Writing to /Users/nathanielimel/uci/projects/citesim/outputs/librarian=S2/vectorizer=SBERT/center=West2003/publications.pkl.\n",
      "/Users/nathanielimel/uci/projects/sciterra/src/sciterra/mapping/atlas.py:116: UserWarning: Writing to /Users/nathanielimel/uci/projects/citesim/outputs/librarian=S2/vectorizer=SBERT/center=West2003/projection.pkl.\n",
      "/Users/nathanielimel/uci/projects/sciterra/src/sciterra/mapping/atlas.py:116: UserWarning: Writing to /Users/nathanielimel/uci/projects/citesim/outputs/librarian=S2/vectorizer=SBERT/center=West2003/bad_ids.pkl.\n",
      "/Users/nathanielimel/uci/projects/sciterra/src/sciterra/mapping/atlas.py:116: UserWarning: Writing to /Users/nathanielimel/uci/projects/citesim/outputs/librarian=S2/vectorizer=SBERT/center=West2003/history.pkl.\n",
      "/Users/nathanielimel/uci/projects/sciterra/src/sciterra/mapping/atlas.py:116: UserWarning: Writing to /Users/nathanielimel/uci/projects/citesim/outputs/librarian=S2/vectorizer=SBERT/center=West2003/center.pkl.\n"
     ]
    }
   ],
   "source": [
    "# save the atlas\n",
    "# TODO: create an atlas.copy or from_atlas classmethod\n",
    "atl_new.center = atl.center\n",
    "atl_new.history = atl.history\n",
    "atl_new.save(save_dir)\n"
   ]
  },
  {
   "cell_type": "code",
   "execution_count": 10,
   "metadata": {},
   "outputs": [
    {
     "name": "stdout",
     "output_type": "stream",
     "text": [
      "Using device: mps.\n",
      "Between update 113 and the final update (116) there were 1055 publications added to the Atlas.\n",
      "Convergence criterion dict_items([('num_pubs_added', 1000), ('kernel_size', 16)]) (=> index 113 out of 117 total updates) yields 19871 ids out of 30203 total ids.\n",
      "computing cosine similarity for 19871 embeddings with batch size 1000.\n"
     ]
    },
    {
     "name": "stderr",
     "output_type": "stream",
     "text": [
      "100%|██████████| 20/20 [00:07<00:00,  2.84it/s]\n"
     ]
    },
    {
     "name": "stdout",
     "output_type": "stream",
     "text": [
      "Computing ['density', 'edginess'] for 19871 publications.\n"
     ]
    },
    {
     "name": "stderr",
     "output_type": "stream",
     "text": [
      "  6%|▌         | 1140/19871 [00:01<00:28, 666.51it/s]/Users/nathanielimel/uci/projects/sciterra/src/sciterra/mapping/topography.py:172: RuntimeWarning: invalid value encountered in divide\n",
      "100%|██████████| 19871/19871 [00:27<00:00, 719.42it/s]"
     ]
    },
    {
     "name": "stdout",
     "output_type": "stream",
     "text": [
      "There are 14278 total observations after filtering.\n"
     ]
    },
    {
     "name": "stderr",
     "output_type": "stream",
     "text": [
      "\n",
      "/Users/nathanielimel/uci/projects/citesim/src/analysis/plot.py:213: UserWarning: The center publication is not within the set of converged publications.\n"
     ]
    },
    {
     "data": {
      "text/html": [
       "<div>\n",
       "<style scoped>\n",
       "    .dataframe tbody tr th:only-of-type {\n",
       "        vertical-align: middle;\n",
       "    }\n",
       "\n",
       "    .dataframe tbody tr th {\n",
       "        vertical-align: top;\n",
       "    }\n",
       "\n",
       "    .dataframe thead th {\n",
       "        text-align: right;\n",
       "    }\n",
       "</style>\n",
       "<table border=\"1\" class=\"dataframe\">\n",
       "  <thead>\n",
       "    <tr style=\"text-align: right;\">\n",
       "      <th></th>\n",
       "      <th>density</th>\n",
       "      <th>edginess</th>\n",
       "      <th>references</th>\n",
       "      <th>citations_per_year</th>\n",
       "      <th>is_center</th>\n",
       "      <th>identifier</th>\n",
       "      <th>year</th>\n",
       "    </tr>\n",
       "  </thead>\n",
       "  <tbody>\n",
       "    <tr>\n",
       "      <th>2</th>\n",
       "      <td>17.581009</td>\n",
       "      <td>0.636703</td>\n",
       "      <td>10</td>\n",
       "      <td>0.100000</td>\n",
       "      <td>False</td>\n",
       "      <td>97bfa3e1ddd14a234096b2b19af36d3f7499030a</td>\n",
       "      <td>2010</td>\n",
       "    </tr>\n",
       "    <tr>\n",
       "      <th>3</th>\n",
       "      <td>15.033812</td>\n",
       "      <td>0.727116</td>\n",
       "      <td>41</td>\n",
       "      <td>0.600000</td>\n",
       "      <td>False</td>\n",
       "      <td>1dcf896e45a1ad6911a70fab88c69af5fb41ee16</td>\n",
       "      <td>2010</td>\n",
       "    </tr>\n",
       "    <tr>\n",
       "      <th>7</th>\n",
       "      <td>17.166090</td>\n",
       "      <td>0.648202</td>\n",
       "      <td>20</td>\n",
       "      <td>0.000000</td>\n",
       "      <td>False</td>\n",
       "      <td>67a38e92b8cc4f52cfec8a48d41e87731d484c84</td>\n",
       "      <td>2015</td>\n",
       "    </tr>\n",
       "    <tr>\n",
       "      <th>8</th>\n",
       "      <td>15.303249</td>\n",
       "      <td>0.626470</td>\n",
       "      <td>93</td>\n",
       "      <td>0.111111</td>\n",
       "      <td>False</td>\n",
       "      <td>a606b2d2625737e8502a98f8895bf7c0a847f14f</td>\n",
       "      <td>2011</td>\n",
       "    </tr>\n",
       "    <tr>\n",
       "      <th>9</th>\n",
       "      <td>15.186021</td>\n",
       "      <td>0.675494</td>\n",
       "      <td>25</td>\n",
       "      <td>0.125000</td>\n",
       "      <td>False</td>\n",
       "      <td>caab5b62fbb44255e2a7512d5f35499d75d89837</td>\n",
       "      <td>2004</td>\n",
       "    </tr>\n",
       "    <tr>\n",
       "      <th>...</th>\n",
       "      <td>...</td>\n",
       "      <td>...</td>\n",
       "      <td>...</td>\n",
       "      <td>...</td>\n",
       "      <td>...</td>\n",
       "      <td>...</td>\n",
       "      <td>...</td>\n",
       "    </tr>\n",
       "    <tr>\n",
       "      <th>19858</th>\n",
       "      <td>16.447217</td>\n",
       "      <td>0.679380</td>\n",
       "      <td>4</td>\n",
       "      <td>0.000000</td>\n",
       "      <td>False</td>\n",
       "      <td>aa8a43e40dbc8c13a1c7934609eee7988588546f</td>\n",
       "      <td>2018</td>\n",
       "    </tr>\n",
       "    <tr>\n",
       "      <th>19859</th>\n",
       "      <td>16.315063</td>\n",
       "      <td>0.623282</td>\n",
       "      <td>47</td>\n",
       "      <td>0.315789</td>\n",
       "      <td>False</td>\n",
       "      <td>5b9ec9f9b6b297363632c484094334680af4683c</td>\n",
       "      <td>2001</td>\n",
       "    </tr>\n",
       "    <tr>\n",
       "      <th>19861</th>\n",
       "      <td>16.497802</td>\n",
       "      <td>0.698506</td>\n",
       "      <td>14</td>\n",
       "      <td>0.636364</td>\n",
       "      <td>False</td>\n",
       "      <td>d5d0da0ed872f5a8e37b9158c576957377f8943d</td>\n",
       "      <td>2009</td>\n",
       "    </tr>\n",
       "    <tr>\n",
       "      <th>19862</th>\n",
       "      <td>16.972609</td>\n",
       "      <td>0.656038</td>\n",
       "      <td>3</td>\n",
       "      <td>0.333333</td>\n",
       "      <td>False</td>\n",
       "      <td>27cd4a98a6828d5489d093ee3e2627560c1d3644</td>\n",
       "      <td>2014</td>\n",
       "    </tr>\n",
       "    <tr>\n",
       "      <th>19868</th>\n",
       "      <td>16.445323</td>\n",
       "      <td>0.651242</td>\n",
       "      <td>51</td>\n",
       "      <td>0.000000</td>\n",
       "      <td>False</td>\n",
       "      <td>d52c8ea3b0df344aa555cd715005cadc3d259086</td>\n",
       "      <td>2007</td>\n",
       "    </tr>\n",
       "  </tbody>\n",
       "</table>\n",
       "<p>14278 rows × 7 columns</p>\n",
       "</div>"
      ],
      "text/plain": [
       "         density  edginess  references  citations_per_year  is_center  \\\n",
       "2      17.581009  0.636703          10            0.100000      False   \n",
       "3      15.033812  0.727116          41            0.600000      False   \n",
       "7      17.166090  0.648202          20            0.000000      False   \n",
       "8      15.303249  0.626470          93            0.111111      False   \n",
       "9      15.186021  0.675494          25            0.125000      False   \n",
       "...          ...       ...         ...                 ...        ...   \n",
       "19858  16.447217  0.679380           4            0.000000      False   \n",
       "19859  16.315063  0.623282          47            0.315789      False   \n",
       "19861  16.497802  0.698506          14            0.636364      False   \n",
       "19862  16.972609  0.656038           3            0.333333      False   \n",
       "19868  16.445323  0.651242          51            0.000000      False   \n",
       "\n",
       "                                     identifier  year  \n",
       "2      97bfa3e1ddd14a234096b2b19af36d3f7499030a  2010  \n",
       "3      1dcf896e45a1ad6911a70fab88c69af5fb41ee16  2010  \n",
       "7      67a38e92b8cc4f52cfec8a48d41e87731d484c84  2015  \n",
       "8      a606b2d2625737e8502a98f8895bf7c0a847f14f  2011  \n",
       "9      caab5b62fbb44255e2a7512d5f35499d75d89837  2004  \n",
       "...                                         ...   ...  \n",
       "19858  aa8a43e40dbc8c13a1c7934609eee7988588546f  2018  \n",
       "19859  5b9ec9f9b6b297363632c484094334680af4683c  2001  \n",
       "19861  d5d0da0ed872f5a8e37b9158c576957377f8943d  2009  \n",
       "19862  27cd4a98a6828d5489d093ee3e2627560c1d3644  2014  \n",
       "19868  d52c8ea3b0df344aa555cd715005cadc3d259086  2007  \n",
       "\n",
       "[14278 rows x 7 columns]"
      ]
     },
     "execution_count": 10,
     "metadata": {},
     "output_type": "execute_result"
    }
   ],
   "source": [
    "# measure with diff vectorizer\n",
    "\n",
    "\n",
    "df = atlas_to_measurements(\n",
    "    atl_new,\n",
    "    vectorizer=vectorizers[new_vectorizer](device=\"mps\"),\n",
    "    fields_of_study=[field],\n",
    ")\n",
    "df\n",
    "\n",
    "# Okay, this is tricky; we're going to need to keep the identity of the papers when vectorizing; perhaps just by returning a column of identifiers."
   ]
  },
  {
   "cell_type": "code",
   "execution_count": 11,
   "metadata": {},
   "outputs": [],
   "source": [
    "import os\n",
    "\n",
    "save_fn = \"all_data.csv\"\n",
    "save_fn = os.path.join(save_dir, save_fn)\n",
    "\n",
    "df.to_csv(save_fn, index=False)"
   ]
  },
  {
   "cell_type": "code",
   "execution_count": null,
   "metadata": {},
   "outputs": [],
   "source": [
    "# Now do it for the other settings, and refactor in the other notebook in order to compare\n",
    "\n",
    "# will we combine fields? If so, should probably only do so at the level of z-scored data."
   ]
  }
 ],
 "metadata": {
  "kernelspec": {
   "display_name": "citesim",
   "language": "python",
   "name": "python3"
  },
  "language_info": {
   "codemirror_mode": {
    "name": "ipython",
    "version": 3
   },
   "file_extension": ".py",
   "mimetype": "text/x-python",
   "name": "python",
   "nbconvert_exporter": "python",
   "pygments_lexer": "ipython3",
   "version": "3.10.13"
  }
 },
 "nbformat": 4,
 "nbformat_minor": 2
}
