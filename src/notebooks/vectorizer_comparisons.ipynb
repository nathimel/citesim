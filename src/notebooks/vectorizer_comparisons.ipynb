{
 "cells": [
  {
   "cell_type": "markdown",
   "metadata": {},
   "source": [
    "# Setup\n"
   ]
  },
  {
   "cell_type": "markdown",
   "metadata": {},
   "source": [
    "## Imports\n"
   ]
  },
  {
   "cell_type": "code",
   "execution_count": null,
   "metadata": {},
   "outputs": [],
   "source": [
    "import os"
   ]
  },
  {
   "cell_type": "code",
   "execution_count": null,
   "metadata": {},
   "outputs": [],
   "source": [
    "import numpy as np\n",
    "import pandas as pd"
   ]
  },
  {
   "cell_type": "code",
   "execution_count": null,
   "metadata": {},
   "outputs": [],
   "source": [
    "import matplotlib\n",
    "from matplotlib import patheffects\n",
    "import matplotlib.pyplot as plt\n",
    "import seaborn as sns"
   ]
  },
  {
   "cell_type": "markdown",
   "metadata": {},
   "source": [
    "## Parameters\n"
   ]
  },
  {
   "cell_type": "code",
   "execution_count": null,
   "metadata": {},
   "outputs": [],
   "source": [
    "config = {\n",
    "    \"dir\": \"../../outputs/librarian=S2\",\n",
    "    \"bins\": 16,\n",
    "    \"min_bin_percentile\": 1,\n",
    "    \"min_diff\": 2,\n",
    "    \"left_density\": \"SciBERT\",\n",
    "    \"right_density\": \"Word2Vec\",\n",
    "}"
   ]
  },
  {
   "cell_type": "markdown",
   "metadata": {},
   "source": [
    "# Data Preprocessing\n"
   ]
  },
  {
   "cell_type": "code",
   "execution_count": null,
   "metadata": {},
   "outputs": [],
   "source": [
    "# Ensure we don't have any old dataframes\n",
    "try:\n",
    "    del df_combined\n",
    "except NameError:\n",
    "    pass\n",
    "# Main loop\n",
    "for i, vectorizer_dir in enumerate(os.listdir(config[\"dir\"])):\n",
    "\n",
    "    # Combine same vectorizer, different centers\n",
    "    dfs = []\n",
    "    for j, center_dir in enumerate(\n",
    "        os.listdir(os.path.join(config[\"dir\"], vectorizer_dir))\n",
    "    ):\n",
    "        # Open\n",
    "        fp = os.path.join(config[\"dir\"], vectorizer_dir, center_dir, \"all_data.csv\")\n",
    "        df = pd.read_csv(fp)\n",
    "\n",
    "        # Skip dfs with no identifier\n",
    "        try:\n",
    "            df = df.set_index(\"identifier\")\n",
    "        except KeyError:\n",
    "            continue\n",
    "\n",
    "        # Add df to list\n",
    "        dfs.append(df)\n",
    "\n",
    "    # Combine across centers\n",
    "    if len(dfs) == 0:\n",
    "        continue\n",
    "    df = pd.concat(dfs)\n",
    "\n",
    "    # Rename columns\n",
    "    vectorizer = vectorizer_dir.split(\"=\")[-1]\n",
    "    for col in [\"density\", \"edginess\"]:\n",
    "        df[f\"{col}_{vectorizer}\"] = df[col]\n",
    "        del df[col]\n",
    "\n",
    "    # Combine across vectorizers\n",
    "    try:\n",
    "        df_combined = df_combined.join(\n",
    "            df.drop(columns=[\"citations_per_year\", \"year\", \"references\", \"is_center\"]),\n",
    "            how=\"left\",\n",
    "        )\n",
    "    except NameError:\n",
    "        df_combined = df"
   ]
  },
  {
   "cell_type": "code",
   "execution_count": null,
   "metadata": {},
   "outputs": [],
   "source": [
    "# Drop rows with missing data or duplicates\n",
    "df_combined = df_combined.dropna(\n",
    "    axis=\"index\",\n",
    "    how=\"any\",\n",
    "    subset=[f\"density_{config['left_density']}\", f\"density_{config['right_density']}\"],\n",
    ")\n",
    "df_combined = df_combined.drop_duplicates()"
   ]
  },
  {
   "cell_type": "code",
   "execution_count": null,
   "metadata": {},
   "outputs": [],
   "source": [
    "# Calculate percentiles for density vars\n",
    "quantiles = np.linspace(0, 1, config[\"bins\"] + 1)\n",
    "density_vars = [var for var in df_combined.columns if \"density\" in var]\n",
    "for var in density_vars:\n",
    "\n",
    "    # Get density\n",
    "    density = df_combined[var].values\n",
    "\n",
    "    # Get density bins\n",
    "    bins = np.linspace(\n",
    "        np.percentile(density, config[\"min_bin_percentile\"]),\n",
    "        np.percentile(density, 100 - config[\"min_bin_percentile\"]),\n",
    "        config[\"bins\"],\n",
    "    )\n",
    "\n",
    "    # Calculate quantile bins\n",
    "    vectorizer = var.split(\"_\")[-1]\n",
    "    bins = np.quantile(density, quantiles)\n",
    "    df_combined.loc[:, f\"bin_{vectorizer}\"] = np.digitize(density, bins=bins)"
   ]
  },
  {
   "cell_type": "code",
   "execution_count": null,
   "metadata": {},
   "outputs": [],
   "source": [
    "# Isolate entries where the density differs by >= min_diff bin\n",
    "df_combined[\"different_densities\"] = (\n",
    "        np.abs(df_combined[f\"bin_{config[\"left_density\"]}\"] -\n",
    "               df_combined[f\"bin_{config[\"right_density\"]}\"])\n",
    "    ) >= config[\"min_diff\"]\n",
    "df_combined[\"different_densities\"].value_counts()"
   ]
  },
  {
   "cell_type": "markdown",
   "metadata": {},
   "source": [
    "# Visualization\n"
   ]
  },
  {
   "cell_type": "code",
   "execution_count": null,
   "metadata": {},
   "outputs": [],
   "source": [
    "# Basic visualization\n",
    "g = sns.PairGrid(df_combined, vars=density_vars)\n",
    "g.map_diag(sns.histplot, bins=config[\"bins\"])\n",
    "g.map_offdiag(sns.histplot, bins=config[\"bins\"])"
   ]
  },
  {
   "cell_type": "code",
   "execution_count": null,
   "metadata": {},
   "outputs": [],
   "source": []
  }
 ],
 "metadata": {
  "kernelspec": {
   "display_name": "llm",
   "language": "python",
   "name": "python3"
  },
  "language_info": {
   "codemirror_mode": {
    "name": "ipython",
    "version": 3
   },
   "file_extension": ".py",
   "mimetype": "text/x-python",
   "name": "python",
   "nbconvert_exporter": "python",
   "pygments_lexer": "ipython3",
   "version": "3.12.2"
  }
 },
 "nbformat": 4,
 "nbformat_minor": 2
}
