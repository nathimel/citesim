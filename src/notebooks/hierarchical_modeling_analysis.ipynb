{
 "cells": [
  {
   "cell_type": "markdown",
   "metadata": {},
   "source": [
    "# Hierarchical Modeling\n",
    "What models fit the data?"
   ]
  },
  {
   "cell_type": "markdown",
   "metadata": {},
   "source": [
    "# Setup"
   ]
  },
  {
   "cell_type": "markdown",
   "metadata": {},
   "source": [
    "### Imports"
   ]
  },
  {
   "cell_type": "code",
   "execution_count": 1,
   "metadata": {},
   "outputs": [],
   "source": [
    "# Stdlib imports\n",
    "import os\n",
    "import shutil"
   ]
  },
  {
   "cell_type": "code",
   "execution_count": 2,
   "metadata": {},
   "outputs": [],
   "source": [
    "# Calculation imports\n",
    "import cmdstanpy\n",
    "import numpy as np\n",
    "import pandas as pd\n",
    "import scipy\n",
    "from scipy.stats import norm, binned_statistic\n",
    "from sklearn.metrics import root_mean_squared_error\n",
    "import sklearn.metrics as sk_metrics\n",
    "from sklearn.model_selection import train_test_split\n",
    "from sklearn.preprocessing import StandardScaler\n",
    "from tqdm import tqdm"
   ]
  },
  {
   "cell_type": "code",
   "execution_count": 3,
   "metadata": {},
   "outputs": [],
   "source": [
    "# Plotting imports\n",
    "import matplotlib.pyplot as plt\n",
    "import seaborn as sns\n",
    "\n",
    "sns.set_style(\"whitegrid\")"
   ]
  },
  {
   "cell_type": "markdown",
   "metadata": {},
   "source": [
    "### Parameters"
   ]
  },
  {
   "cell_type": "code",
   "execution_count": 4,
   "metadata": {},
   "outputs": [],
   "source": [
    "config = {\n",
    "    \"bins\": 16,\n",
    "    \"min_bin_percentile\": 10,\n",
    "    \"nonden_fit_cols\": [\"references\", \"year\"],\n",
    "    \"fit_dir\": \"../../analysis_data/stan_fits/stan_fit\",\n",
    "    \"cat_col\": \"stan_field_code\",\n",
    "}"
   ]
  },
  {
   "cell_type": "code",
   "execution_count": 5,
   "metadata": {},
   "outputs": [],
   "source": [
    "metrics = {\n",
    "    r\"$R^2$\": sk_metrics.r2_score,\n",
    "    \"1-MAE\": lambda y_true, y_pred: 1 - sk_metrics.mean_absolute_error(y_true, y_pred),\n",
    "    \"1-RMSE\": lambda y_true, y_pred: 1\n",
    "    - sk_metrics.root_mean_squared_error(y_true, y_pred),\n",
    "    # \"1-MAPE\": lambda y_true, y_pred: 1\n",
    "    # - sk_metrics.mean_absolute_percentage_error(y_true, y_pred),\n",
    "    \"1-MedAE\": lambda y_true, y_pred: 1\n",
    "    - sk_metrics.median_absolute_error(y_true, y_pred),\n",
    "    \"1-MPinL\": lambda y_true, y_pred: 1 - sk_metrics.mean_pinball_loss(y_true, y_pred),\n",
    "    r\"$D^2_{pin}$\": sk_metrics.d2_pinball_score,\n",
    "    r\"$D^2_{abs}$\": sk_metrics.d2_absolute_error_score,\n",
    "}"
   ]
  },
  {
   "cell_type": "code",
   "execution_count": 6,
   "metadata": {},
   "outputs": [],
   "source": [
    "palette = sns.color_palette()"
   ]
  },
  {
   "cell_type": "code",
   "execution_count": 7,
   "metadata": {},
   "outputs": [],
   "source": [
    "def log_sum_exp(mu):\n",
    "    \"\"\"Calculate the log sum of exponentials\n",
    "    (pulling out the max to maintain) precision.\n",
    "    \"\"\"\n",
    "    mu_max = np.max(mu)\n",
    "\n",
    "    summation = np.sum(np.exp(mu - mu_max))\n",
    "    return mu_max + np.log(summation)"
   ]
  },
  {
   "cell_type": "code",
   "execution_count": 8,
   "metadata": {},
   "outputs": [],
   "source": [
    "def log_ppd(log_p):\n",
    "    M = len(log_p)\n",
    "    return -np.log(M) + log_sum_exp(log_p)"
   ]
  },
  {
   "cell_type": "markdown",
   "metadata": {},
   "source": [
    "### Load data"
   ]
  },
  {
   "cell_type": "code",
   "execution_count": null,
   "metadata": {},
   "outputs": [],
   "source": [
    "df_all = pd.read_csv(\"../../analysis_data/all_data.csv\")\n",
    "df_all"
   ]
  },
  {
   "cell_type": "code",
   "execution_count": null,
   "metadata": {},
   "outputs": [],
   "source": [
    "# Basic nan handling across all obs\n",
    "df_all[\"log_cpy\"] = np.log10(df_all[\"citations_per_year\"])\n",
    "df_all[\"log_cpy\"] = df_all[\"log_cpy\"].replace(-np.inf, np.nan)"
   ]
  },
  {
   "cell_type": "code",
   "execution_count": null,
   "metadata": {},
   "outputs": [],
   "source": [
    "# Make the field category more useful\n",
    "df_all[\"fields_of_study_0\"] = df_all[\"fields_of_study_0\"].astype(\"category\")\n",
    "df_all[\"stan_field_code\"] = df_all[\"fields_of_study_0\"].cat.codes + 1\n",
    "field_names = df_all[\"fields_of_study_0\"].cat.categories\n",
    "field_names"
   ]
  },
  {
   "cell_type": "code",
   "execution_count": null,
   "metadata": {},
   "outputs": [],
   "source": [
    "# Get the vectorizer names\n",
    "vectorizer_names = sorted(df_all[\"vectorizer\"].unique())\n",
    "vectorizer_names"
   ]
  },
  {
   "cell_type": "code",
   "execution_count": null,
   "metadata": {},
   "outputs": [],
   "source": [
    "# Load raw data\n",
    "models = [_ for _ in os.listdir(config[\"fit_dir\"]) if os.path.isdir(f\"{config[\"fit_dir\"]}/{_}\")]\n",
    "draws = []\n",
    "# Loop through models\n",
    "for i, model_i in enumerate(models):\n",
    "    model_dir_i = f\"{config[\"fit_dir\"]}/{model_i}\"\n",
    "    files_j = [_ for _ in os.listdir(model_dir_i) if _[-4:] == \".csv\"]\n",
    "    draws_i = []\n",
    "    # Loop through chains per model\n",
    "    for j, file_j in enumerate(files_j):\n",
    "        chain_j = pd.read_csv(f\"{model_dir_i}/{file_j}\", comment=\"#\")\n",
    "        chain_j[\"chain\"] = file_j.split(\".\")[0].split(\"_\")[-1]\n",
    "        draws_i.append(chain_j)\n",
    "    draws_i = pd.concat(draws_i, ignore_index=True)\n",
    "    draws_i[\"model\"] = model_i\n",
    "    draws.append(draws_i)\n",
    "draws = pd.concat(draws, ignore_index=True)\n",
    "draws"
   ]
  },
  {
   "cell_type": "code",
   "execution_count": null,
   "metadata": {},
   "outputs": [],
   "source": [
    "print(f\"Draws df using {draws.memory_usage().sum() / (1024 ** 3):.3f} GB of memory\")"
   ]
  },
  {
   "cell_type": "code",
   "execution_count": 15,
   "metadata": {},
   "outputs": [],
   "source": [
    "# Load results, train, and test data\n",
    "results = pd.read_csv(f\"{config[\"fit_dir\"]}/results.csv\", index_col=0)\n",
    "df_train = pd.read_csv(f\"{config[\"fit_dir\"]}/train_data.csv\", index_col=0)\n",
    "df_test = pd.read_csv(f\"{config[\"fit_dir\"]}/test_data.csv\", index_col=0)"
   ]
  },
  {
   "cell_type": "markdown",
   "metadata": {},
   "source": [
    "# EDA"
   ]
  },
  {
   "cell_type": "markdown",
   "metadata": {},
   "source": [
    "## Model Performance"
   ]
  },
  {
   "cell_type": "code",
   "execution_count": 16,
   "metadata": {},
   "outputs": [],
   "source": [
    "performance = results.copy()"
   ]
  },
  {
   "cell_type": "code",
   "execution_count": 17,
   "metadata": {},
   "outputs": [],
   "source": [
    "# List out the columns related to metrics\n",
    "metric_cols = list(metrics.keys())\n",
    "descaled_metric_cols = [f\"{_}_descaled\" for _ in metric_cols]\n",
    "all_metric_cols = metric_cols + descaled_metric_cols"
   ]
  },
  {
   "cell_type": "code",
   "execution_count": null,
   "metadata": {},
   "outputs": [],
   "source": [
    "# Add scaled versions of metrics (go from min value(0) to max value(1))\n",
    "# This is different form the \"descaled\" below, which refers to whether or not y_pred\n",
    "# was returned to its unscaled version before the metric was calculated\n",
    "metric_scaler = StandardScaler()\n",
    "relative_performance = performance.copy()\n",
    "relative_performance[all_metric_cols] = metric_scaler.fit_transform(X=performance[all_metric_cols])\n",
    "relative_performance[\"metric_is_scaled\"] = True\n",
    "performance[\"metric_is_scaled\"] = False\n",
    "performance = pd.concat([performance, relative_performance], ignore_index=True)\n",
    "performance"
   ]
  },
  {
   "cell_type": "code",
   "execution_count": null,
   "metadata": {},
   "outputs": [],
   "source": [
    "# Convert metrics into long format\n",
    "nonmetric_cols = performance.columns.difference(pd.Series(all_metric_cols))\n",
    "performance = performance.melt(id_vars=nonmetric_cols, var_name=\"metric_type\", value_name=\"metric\", ignore_index=False)\n",
    "performance = performance.reset_index().rename(columns={\"index\": \"model\"})\n",
    "performance"
   ]
  },
  {
   "cell_type": "code",
   "execution_count": null,
   "metadata": {},
   "outputs": [],
   "source": [
    "# Split out the \"descaled\" into a separate column\n",
    "performance[\"y_pred_is_scaled\"] = ~performance[\"metric_type\"].str.contains(\"_descaled\")\n",
    "performance[\"metric_type\"] = performance[\"metric_type\"].str.replace(\"_descaled\", \"\")\n",
    "performance"
   ]
  },
  {
   "cell_type": "code",
   "execution_count": null,
   "metadata": {},
   "outputs": [],
   "source": [
    "# Typical ranges for metrics\n",
    "sns.stripplot(\n",
    "    data=performance.query(\"metric_is_scaled == False\"),\n",
    "    x=\"metric\",\n",
    "    y=\"metric_type\",\n",
    "    hue=\"y_pred_is_scaled\"\n",
    ")"
   ]
  },
  {
   "cell_type": "code",
   "execution_count": null,
   "metadata": {},
   "outputs": [],
   "source": [
    "# Performance for metrics scaled by their mean and std\n",
    "sns.stripplot(\n",
    "    data=performance.query(\"metric_is_scaled == True\"),\n",
    "    x=\"metric\",\n",
    "    y=\"metric_type\",\n",
    "    hue=\"y_pred_is_scaled\",\n",
    ")"
   ]
  },
  {
   "cell_type": "markdown",
   "metadata": {},
   "source": [
    "## Slopes"
   ]
  },
  {
   "cell_type": "code",
   "execution_count": null,
   "metadata": {},
   "outputs": [],
   "source": [
    "# Melt betas into new DF\n",
    "beta_cols = [_ for _ in results.columns if _[:5] == \"beta[\"]\n",
    "nonbeta_cols = [_ for _ in results.columns if \"beta\" not in _]\n",
    "betas = results.melt(\n",
    "    id_vars=nonbeta_cols,\n",
    "    value_vars=beta_cols,\n",
    "    var_name=\"beta_type\",\n",
    "    value_name=\"beta\",\n",
    "    ignore_index=False,\n",
    ")\n",
    "# Turn the index into a columns\n",
    "betas = betas.reset_index().rename(columns={\"index\": \"model\"})\n",
    "betas"
   ]
  },
  {
   "cell_type": "code",
   "execution_count": null,
   "metadata": {},
   "outputs": [],
   "source": [
    "# Get the field and variable out of the beta name\n",
    "beta_vars = betas[\"beta_type\"].str.findall(r\"beta\\[(.*)\\]\").str[0]\n",
    "betas[\"field\"] = beta_vars.str.findall(r\"\\,(.*)\").str[0]\n",
    "betas[\"field\"] = betas[\"field\"].fillna(\"All\")\n",
    "betas[\"variable\"] = beta_vars.str.split(\",\").str[0]\n",
    "betas"
   ]
  },
  {
   "cell_type": "code",
   "execution_count": null,
   "metadata": {},
   "outputs": [],
   "source": [
    "# Add in the mu_betas, since those are mean betas\n",
    "mubeta_cols = [_ for _ in results.columns if \"mu_beta\" in _ ]\n",
    "mubetas = results.melt(\n",
    "    id_vars=nonbeta_cols,\n",
    "    value_vars=mubeta_cols,\n",
    "    var_name=\"beta_type\",\n",
    "    value_name=\"beta\",\n",
    "    ignore_index=False,\n",
    ")\n",
    "mubetas = mubetas.reset_index().rename(columns={\"index\": \"model\"})\n",
    "mubetas[\"variable\"] = mubetas[\"beta_type\"].str.findall(r\"mu_beta\\[(.*)\\]\").str[0]\n",
    "mubetas[\"field\"] = \"All\"\n",
    "mubetas"
   ]
  },
  {
   "cell_type": "code",
   "execution_count": 26,
   "metadata": {},
   "outputs": [],
   "source": [
    "# Combine and clean up\n",
    "betas = pd.concat([betas, mubetas], ignore_index=True)\n",
    "betas[\"variable\"] = betas[\"variable\"].str.replace(\"_j\", \"\").astype(\"category\")\n",
    "betas[\"field\"] = betas[\"field\"].astype(\"category\")\n",
    "betas[\"beta\"] = betas[\"beta\"].fillna(value=0.)\n",
    "# betas = betas.dropna(subset=\"beta\")"
   ]
  },
  {
   "cell_type": "code",
   "execution_count": null,
   "metadata": {},
   "outputs": [],
   "source": [
    "# Get an overview of the range of possible correlations\n",
    "sns.histplot(betas[\"beta\"])"
   ]
  },
  {
   "cell_type": "code",
   "execution_count": null,
   "metadata": {},
   "outputs": [],
   "source": [
    "# Look at betas per variable\n",
    "fig = plt.figure()\n",
    "ax = plt.gca()\n",
    "\n",
    "sns.stripplot(\n",
    "    ax=ax,\n",
    "    data=betas,\n",
    "    x=\"beta\",\n",
    "    y=\"variable\",\n",
    "    hue=\"field\",\n",
    ")\n",
    "\n",
    "ax.axvline(\n",
    "    0,\n",
    "    color=\"k\",\n",
    "    zorder=-1,\n",
    ")"
   ]
  },
  {
   "cell_type": "code",
   "execution_count": null,
   "metadata": {},
   "outputs": [],
   "source": [
    "# Same plot as above, but with a y-axis that shows model performance\n",
    "fg = sns.relplot(\n",
    "    data=betas,\n",
    "    x=\"beta\",\n",
    "    y=r\"$R^2$_descaled\",\n",
    "    row=\"variable\",\n",
    "    hue=\"field\",\n",
    ")\n",
    "\n",
    "for row in fg.axes:\n",
    "    ax = row[0]\n",
    "\n",
    "    ax.axvline(\n",
    "        0,\n",
    "        color=\"k\",\n",
    "        zorder=-1,\n",
    "    )\n",
    "    ax.tick_params(labelbottom=True)\n",
    "\n",
    "plt.tight_layout()"
   ]
  },
  {
   "cell_type": "markdown",
   "metadata": {},
   "source": []
  }
 ],
 "metadata": {
  "kernelspec": {
   "display_name": "cmdstan",
   "language": "python",
   "name": "python3"
  },
  "language_info": {
   "codemirror_mode": {
    "name": "ipython",
    "version": 3
   },
   "file_extension": ".py",
   "mimetype": "text/x-python",
   "name": "python",
   "nbconvert_exporter": "python",
   "pygments_lexer": "ipython3",
   "version": "3.12.4"
  }
 },
 "nbformat": 4,
 "nbformat_minor": 2
}
