{
 "cells": [
  {
   "cell_type": "markdown",
   "metadata": {},
   "source": [
    "# Hierarchical Modeling\n",
    "What models fit the data?"
   ]
  },
  {
   "cell_type": "markdown",
   "metadata": {},
   "source": [
    "# Setup"
   ]
  },
  {
   "cell_type": "markdown",
   "metadata": {},
   "source": [
    "### Imports"
   ]
  },
  {
   "cell_type": "code",
   "execution_count": 1,
   "metadata": {},
   "outputs": [],
   "source": [
    "# Stdlib imports\n",
    "import os\n",
    "import shutil"
   ]
  },
  {
   "cell_type": "code",
   "execution_count": 2,
   "metadata": {},
   "outputs": [],
   "source": [
    "# Calculation imports\n",
    "import cmdstanpy\n",
    "import numpy as np\n",
    "import pandas as pd\n",
    "import scipy\n",
    "from scipy.stats import norm, binned_statistic\n",
    "from sklearn.metrics import root_mean_squared_error\n",
    "import sklearn.metrics as sk_metrics\n",
    "from sklearn.model_selection import train_test_split\n",
    "from sklearn.preprocessing import StandardScaler\n",
    "from tqdm import tqdm"
   ]
  },
  {
   "cell_type": "code",
   "execution_count": 3,
   "metadata": {},
   "outputs": [],
   "source": [
    "# Plotting imports\n",
    "import matplotlib.pyplot as plt\n",
    "import seaborn as sns\n",
    "\n",
    "sns.set_style(\"whitegrid\")"
   ]
  },
  {
   "cell_type": "markdown",
   "metadata": {},
   "source": [
    "### Parameters"
   ]
  },
  {
   "cell_type": "code",
   "execution_count": 4,
   "metadata": {},
   "outputs": [],
   "source": [
    "config = {\n",
    "    \"bins\": 16,\n",
    "    \"min_bin_percentile\": 10,\n",
    "    \"nonden_fit_cols\": [\"references\", \"year\"],\n",
    "    \"fit_dir\": \"../../analysis_data/stan_fits/stan_fit_1000\",\n",
    "    \"cat_col\": \"stan_field_code\",\n",
    "}\n"
   ]
  },
  {
   "cell_type": "code",
   "execution_count": 5,
   "metadata": {},
   "outputs": [],
   "source": [
    "palette = sns.color_palette()"
   ]
  },
  {
   "cell_type": "code",
   "execution_count": 6,
   "metadata": {},
   "outputs": [],
   "source": [
    "def log_sum_exp(mu):\n",
    "    \"\"\"Calculate the log sum of exponentials\n",
    "    (pulling out the max to maintain) precision.\n",
    "    \"\"\"\n",
    "    mu_max = np.max(mu)\n",
    "\n",
    "    summation = np.sum(np.exp(mu - mu_max))\n",
    "    return mu_max + np.log(summation)"
   ]
  },
  {
   "cell_type": "code",
   "execution_count": 7,
   "metadata": {},
   "outputs": [],
   "source": [
    "def log_ppd(log_p):\n",
    "    M = len(log_p)\n",
    "    return -np.log(M) + log_sum_exp(log_p)"
   ]
  },
  {
   "cell_type": "markdown",
   "metadata": {},
   "source": [
    "### Load data"
   ]
  },
  {
   "cell_type": "code",
   "execution_count": null,
   "metadata": {},
   "outputs": [],
   "source": [
    "df_all = pd.read_csv(\"../../analysis_data/all_data.csv\")\n",
    "df_all"
   ]
  },
  {
   "cell_type": "code",
   "execution_count": null,
   "metadata": {},
   "outputs": [],
   "source": [
    "# Basic nan handling across all obs\n",
    "df_all[\"log_cpy\"] = np.log10(df_all[\"citations_per_year\"])\n",
    "df_all[\"log_cpy\"] = df_all[\"log_cpy\"].replace(-np.inf, np.nan)"
   ]
  },
  {
   "cell_type": "code",
   "execution_count": null,
   "metadata": {},
   "outputs": [],
   "source": [
    "# Make the field category more useful\n",
    "df_all[\"fields_of_study_0\"] = df_all[\"fields_of_study_0\"].astype(\"category\")\n",
    "df_all[\"stan_field_code\"] = df_all[\"fields_of_study_0\"].cat.codes + 1\n",
    "field_names = df_all[\"fields_of_study_0\"].cat.categories\n",
    "field_names"
   ]
  },
  {
   "cell_type": "code",
   "execution_count": null,
   "metadata": {},
   "outputs": [],
   "source": [
    "# Get the vectorizer names\n",
    "vectorizer_names = sorted(df_all[\"vectorizer\"].unique())\n",
    "vectorizer_names"
   ]
  },
  {
   "cell_type": "code",
   "execution_count": 12,
   "metadata": {},
   "outputs": [],
   "source": [
    "# Load results, train, and test data\n",
    "results = pd.read_csv(f\"{config[\"fit_dir\"]}/results.csv\", index_col=0)\n",
    "df_train = pd.read_csv(f\"{config[\"fit_dir\"]}/train_data.csv\", index_col=0)\n",
    "df_test = pd.read_csv(f\"{config[\"fit_dir\"]}/test_data.csv\", index_col=0)"
   ]
  },
  {
   "cell_type": "code",
   "execution_count": null,
   "metadata": {},
   "outputs": [],
   "source": [
    "# Load raw data\n",
    "models = [_ for _ in os.listdir(config[\"fit_dir\"]) if os.path.isdir(f\"{config[\"fit_dir\"]}/{_}\")]\n",
    "draws = []\n",
    "# Loop through models\n",
    "for i, model_i in enumerate(models):\n",
    "    model_dir_i = f\"{config[\"fit_dir\"]}/{model_i}\"\n",
    "    files_j = [_ for _ in os.listdir(model_dir_i) if _[-4:] == \".csv\"]\n",
    "    draws_i = []\n",
    "    # Loop through chains per model\n",
    "    for j, file_j in enumerate(files_j):\n",
    "        chain_j = pd.read_csv(f\"{model_dir_i}/{file_j}\", comment=\"#\")\n",
    "        chain_j[\"chain\"] = file_j.split(\".\")[0].split(\"_\")[-1]\n",
    "        draws_i.append(chain_j)\n",
    "    draws_i = pd.concat(draws_i, ignore_index=True)\n",
    "    draws_i[\"model\"] = model_i\n",
    "    draws.append(draws_i)\n",
    "draws = pd.concat(draws, ignore_index=True)\n",
    "draws"
   ]
  },
  {
   "cell_type": "code",
   "execution_count": null,
   "metadata": {},
   "outputs": [],
   "source": [
    "print(f\"Draws df using {draws.memory_usage().sum() / (1024 ** 3):.3f} GB\")"
   ]
  },
  {
   "cell_type": "code",
   "execution_count": null,
   "metadata": {},
   "outputs": [],
   "source": []
  }
 ],
 "metadata": {
  "kernelspec": {
   "display_name": "cmdstan",
   "language": "python",
   "name": "python3"
  },
  "language_info": {
   "codemirror_mode": {
    "name": "ipython",
    "version": 3
   },
   "file_extension": ".py",
   "mimetype": "text/x-python",
   "name": "python",
   "nbconvert_exporter": "python",
   "pygments_lexer": "ipython3",
   "version": "3.12.4"
  }
 },
 "nbformat": 4,
 "nbformat_minor": 2
}
