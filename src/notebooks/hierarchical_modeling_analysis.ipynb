{
 "cells": [
  {
   "cell_type": "markdown",
   "metadata": {},
   "source": [
    "# Hierarchical Modeling\n",
    "What models fit the data?"
   ]
  },
  {
   "cell_type": "markdown",
   "metadata": {},
   "source": [
    "# Setup"
   ]
  },
  {
   "cell_type": "markdown",
   "metadata": {},
   "source": [
    "### Imports"
   ]
  },
  {
   "cell_type": "code",
   "execution_count": 1,
   "metadata": {},
   "outputs": [],
   "source": [
    "# Stdlib imports\n",
    "import os\n",
    "import shutil"
   ]
  },
  {
   "cell_type": "code",
   "execution_count": 2,
   "metadata": {},
   "outputs": [],
   "source": [
    "# Calculation imports\n",
    "import cmdstanpy\n",
    "import numpy as np\n",
    "import pandas as pd\n",
    "import scipy\n",
    "from scipy.stats import norm, binned_statistic\n",
    "from sklearn.metrics import root_mean_squared_error\n",
    "import sklearn.metrics as sk_metrics\n",
    "from sklearn.model_selection import train_test_split\n",
    "from sklearn.preprocessing import StandardScaler\n",
    "from tqdm import tqdm"
   ]
  },
  {
   "cell_type": "code",
   "execution_count": 3,
   "metadata": {},
   "outputs": [],
   "source": [
    "# Plotting imports\n",
    "import matplotlib.pyplot as plt\n",
    "import seaborn as sns\n",
    "\n",
    "sns.set_style(\"whitegrid\")"
   ]
  },
  {
   "cell_type": "markdown",
   "metadata": {},
   "source": [
    "### Parameters"
   ]
  },
  {
   "cell_type": "code",
   "execution_count": 12,
   "metadata": {},
   "outputs": [],
   "source": [
    "config = {\n",
    "    \"bins\": 16,\n",
    "    \"min_bin_percentile\": 10,\n",
    "    \"nonden_fit_cols\": [\"references\", \"year\"],\n",
    "    \"fit_dir\": \"../../analysis_data/stan_fits/stan_fit_10000\",\n",
    "    \"cat_col\": \"stan_field_code\",\n",
    "}\n"
   ]
  },
  {
   "cell_type": "code",
   "execution_count": 5,
   "metadata": {},
   "outputs": [],
   "source": [
    "palette = sns.color_palette()"
   ]
  },
  {
   "cell_type": "code",
   "execution_count": 6,
   "metadata": {},
   "outputs": [],
   "source": [
    "def log_sum_exp(mu):\n",
    "    \"\"\"Calculate the log sum of exponentials\n",
    "    (pulling out the max to maintain) precision.\n",
    "    \"\"\"\n",
    "    mu_max = np.max(mu)\n",
    "\n",
    "    summation = np.sum(np.exp(mu - mu_max))\n",
    "    return mu_max + np.log(summation)"
   ]
  },
  {
   "cell_type": "code",
   "execution_count": 7,
   "metadata": {},
   "outputs": [],
   "source": [
    "def log_ppd(log_p):\n",
    "    M = len(log_p)\n",
    "    return -np.log(M) + log_sum_exp(log_p)"
   ]
  },
  {
   "cell_type": "markdown",
   "metadata": {},
   "source": [
    "### Load data"
   ]
  },
  {
   "cell_type": "code",
   "execution_count": 8,
   "metadata": {},
   "outputs": [
    {
     "data": {
      "text/html": [
       "<div>\n",
       "<style scoped>\n",
       "    .dataframe tbody tr th:only-of-type {\n",
       "        vertical-align: middle;\n",
       "    }\n",
       "\n",
       "    .dataframe tbody tr th {\n",
       "        vertical-align: top;\n",
       "    }\n",
       "\n",
       "    .dataframe thead th {\n",
       "        text-align: right;\n",
       "    }\n",
       "</style>\n",
       "<table border=\"1\" class=\"dataframe\">\n",
       "  <thead>\n",
       "    <tr style=\"text-align: right;\">\n",
       "      <th></th>\n",
       "      <th>density</th>\n",
       "      <th>edginess</th>\n",
       "      <th>references</th>\n",
       "      <th>citations_per_year</th>\n",
       "      <th>is_center</th>\n",
       "      <th>identifier</th>\n",
       "      <th>year</th>\n",
       "      <th>librarian</th>\n",
       "      <th>vectorizer</th>\n",
       "      <th>center</th>\n",
       "      <th>fields_of_study_0</th>\n",
       "    </tr>\n",
       "  </thead>\n",
       "  <tbody>\n",
       "    <tr>\n",
       "      <th>0</th>\n",
       "      <td>1545.550332</td>\n",
       "      <td>0.814415</td>\n",
       "      <td>42</td>\n",
       "      <td>2.250000</td>\n",
       "      <td>False</td>\n",
       "      <td>2e5f3e6c87d1676cdeffc3a2bfbc30b6cd06ed6f</td>\n",
       "      <td>2004</td>\n",
       "      <td>S2</td>\n",
       "      <td>GPT2</td>\n",
       "      <td>hafenLowredshiftLymanLimit2017</td>\n",
       "      <td>Physics</td>\n",
       "    </tr>\n",
       "    <tr>\n",
       "      <th>1</th>\n",
       "      <td>1846.261870</td>\n",
       "      <td>0.452021</td>\n",
       "      <td>88</td>\n",
       "      <td>4.625000</td>\n",
       "      <td>False</td>\n",
       "      <td>d7b6cd39dd111afa55a3aa418b7b5459db12988d</td>\n",
       "      <td>2012</td>\n",
       "      <td>S2</td>\n",
       "      <td>GPT2</td>\n",
       "      <td>hafenLowredshiftLymanLimit2017</td>\n",
       "      <td>Physics</td>\n",
       "    </tr>\n",
       "    <tr>\n",
       "      <th>2</th>\n",
       "      <td>1703.520959</td>\n",
       "      <td>0.490212</td>\n",
       "      <td>30</td>\n",
       "      <td>0.882353</td>\n",
       "      <td>False</td>\n",
       "      <td>2d62ec65f95435c72ef750b3cff331382c5dca92</td>\n",
       "      <td>2003</td>\n",
       "      <td>S2</td>\n",
       "      <td>GPT2</td>\n",
       "      <td>hafenLowredshiftLymanLimit2017</td>\n",
       "      <td>Physics</td>\n",
       "    </tr>\n",
       "    <tr>\n",
       "      <th>3</th>\n",
       "      <td>1901.386693</td>\n",
       "      <td>0.715160</td>\n",
       "      <td>95</td>\n",
       "      <td>8.166667</td>\n",
       "      <td>False</td>\n",
       "      <td>8cebc6e3dcfb543bad48d89112e281a6e11c33c2</td>\n",
       "      <td>2014</td>\n",
       "      <td>S2</td>\n",
       "      <td>GPT2</td>\n",
       "      <td>hafenLowredshiftLymanLimit2017</td>\n",
       "      <td>Physics</td>\n",
       "    </tr>\n",
       "    <tr>\n",
       "      <th>4</th>\n",
       "      <td>535.472125</td>\n",
       "      <td>0.885892</td>\n",
       "      <td>94</td>\n",
       "      <td>2.090909</td>\n",
       "      <td>False</td>\n",
       "      <td>59730a4bae4dc53f59341b63fd1e63451c589e9f</td>\n",
       "      <td>2009</td>\n",
       "      <td>S2</td>\n",
       "      <td>GPT2</td>\n",
       "      <td>hafenLowredshiftLymanLimit2017</td>\n",
       "      <td>Physics</td>\n",
       "    </tr>\n",
       "    <tr>\n",
       "      <th>...</th>\n",
       "      <td>...</td>\n",
       "      <td>...</td>\n",
       "      <td>...</td>\n",
       "      <td>...</td>\n",
       "      <td>...</td>\n",
       "      <td>...</td>\n",
       "      <td>...</td>\n",
       "      <td>...</td>\n",
       "      <td>...</td>\n",
       "      <td>...</td>\n",
       "      <td>...</td>\n",
       "    </tr>\n",
       "    <tr>\n",
       "      <th>537685</th>\n",
       "      <td>48.730838</td>\n",
       "      <td>0.658585</td>\n",
       "      <td>41</td>\n",
       "      <td>3.500000</td>\n",
       "      <td>False</td>\n",
       "      <td>806f77ba7bdf8a3b80cb859fb5f33f57c1d85d24</td>\n",
       "      <td>2018</td>\n",
       "      <td>S2</td>\n",
       "      <td>SciBERT</td>\n",
       "      <td>Andre2018</td>\n",
       "      <td>Mathematics</td>\n",
       "    </tr>\n",
       "    <tr>\n",
       "      <th>537686</th>\n",
       "      <td>25.107589</td>\n",
       "      <td>0.721374</td>\n",
       "      <td>38</td>\n",
       "      <td>3.200000</td>\n",
       "      <td>False</td>\n",
       "      <td>f40707d1165c22e185c25e6837977177ee380f2c</td>\n",
       "      <td>2015</td>\n",
       "      <td>S2</td>\n",
       "      <td>SciBERT</td>\n",
       "      <td>Andre2018</td>\n",
       "      <td>Mathematics</td>\n",
       "    </tr>\n",
       "    <tr>\n",
       "      <th>537687</th>\n",
       "      <td>41.647954</td>\n",
       "      <td>0.646499</td>\n",
       "      <td>11</td>\n",
       "      <td>1.529412</td>\n",
       "      <td>False</td>\n",
       "      <td>10636ee16779a7521001651164acb5c192d4ad7b</td>\n",
       "      <td>2003</td>\n",
       "      <td>S2</td>\n",
       "      <td>SciBERT</td>\n",
       "      <td>Andre2018</td>\n",
       "      <td>Mathematics</td>\n",
       "    </tr>\n",
       "    <tr>\n",
       "      <th>537688</th>\n",
       "      <td>35.738649</td>\n",
       "      <td>0.708053</td>\n",
       "      <td>15</td>\n",
       "      <td>2.384615</td>\n",
       "      <td>False</td>\n",
       "      <td>a229f829e0a5362d00e63781f687f40ede991635</td>\n",
       "      <td>2007</td>\n",
       "      <td>S2</td>\n",
       "      <td>SciBERT</td>\n",
       "      <td>Andre2018</td>\n",
       "      <td>Mathematics</td>\n",
       "    </tr>\n",
       "    <tr>\n",
       "      <th>537689</th>\n",
       "      <td>31.749805</td>\n",
       "      <td>0.670620</td>\n",
       "      <td>7</td>\n",
       "      <td>0.000000</td>\n",
       "      <td>False</td>\n",
       "      <td>8f7f47c0acd81752039abad380df57cf39591506</td>\n",
       "      <td>2012</td>\n",
       "      <td>S2</td>\n",
       "      <td>SciBERT</td>\n",
       "      <td>Andre2018</td>\n",
       "      <td>Mathematics</td>\n",
       "    </tr>\n",
       "  </tbody>\n",
       "</table>\n",
       "<p>537690 rows × 11 columns</p>\n",
       "</div>"
      ],
      "text/plain": [
       "            density  edginess  references  citations_per_year  is_center  \\\n",
       "0       1545.550332  0.814415          42            2.250000      False   \n",
       "1       1846.261870  0.452021          88            4.625000      False   \n",
       "2       1703.520959  0.490212          30            0.882353      False   \n",
       "3       1901.386693  0.715160          95            8.166667      False   \n",
       "4        535.472125  0.885892          94            2.090909      False   \n",
       "...             ...       ...         ...                 ...        ...   \n",
       "537685    48.730838  0.658585          41            3.500000      False   \n",
       "537686    25.107589  0.721374          38            3.200000      False   \n",
       "537687    41.647954  0.646499          11            1.529412      False   \n",
       "537688    35.738649  0.708053          15            2.384615      False   \n",
       "537689    31.749805  0.670620           7            0.000000      False   \n",
       "\n",
       "                                      identifier  year librarian vectorizer  \\\n",
       "0       2e5f3e6c87d1676cdeffc3a2bfbc30b6cd06ed6f  2004        S2       GPT2   \n",
       "1       d7b6cd39dd111afa55a3aa418b7b5459db12988d  2012        S2       GPT2   \n",
       "2       2d62ec65f95435c72ef750b3cff331382c5dca92  2003        S2       GPT2   \n",
       "3       8cebc6e3dcfb543bad48d89112e281a6e11c33c2  2014        S2       GPT2   \n",
       "4       59730a4bae4dc53f59341b63fd1e63451c589e9f  2009        S2       GPT2   \n",
       "...                                          ...   ...       ...        ...   \n",
       "537685  806f77ba7bdf8a3b80cb859fb5f33f57c1d85d24  2018        S2    SciBERT   \n",
       "537686  f40707d1165c22e185c25e6837977177ee380f2c  2015        S2    SciBERT   \n",
       "537687  10636ee16779a7521001651164acb5c192d4ad7b  2003        S2    SciBERT   \n",
       "537688  a229f829e0a5362d00e63781f687f40ede991635  2007        S2    SciBERT   \n",
       "537689  8f7f47c0acd81752039abad380df57cf39591506  2012        S2    SciBERT   \n",
       "\n",
       "                                center fields_of_study_0  \n",
       "0       hafenLowredshiftLymanLimit2017           Physics  \n",
       "1       hafenLowredshiftLymanLimit2017           Physics  \n",
       "2       hafenLowredshiftLymanLimit2017           Physics  \n",
       "3       hafenLowredshiftLymanLimit2017           Physics  \n",
       "4       hafenLowredshiftLymanLimit2017           Physics  \n",
       "...                                ...               ...  \n",
       "537685                       Andre2018       Mathematics  \n",
       "537686                       Andre2018       Mathematics  \n",
       "537687                       Andre2018       Mathematics  \n",
       "537688                       Andre2018       Mathematics  \n",
       "537689                       Andre2018       Mathematics  \n",
       "\n",
       "[537690 rows x 11 columns]"
      ]
     },
     "execution_count": 8,
     "metadata": {},
     "output_type": "execute_result"
    }
   ],
   "source": [
    "df_all = pd.read_csv(\"../../analysis_data/all_data.csv\")\n",
    "df_all"
   ]
  },
  {
   "cell_type": "code",
   "execution_count": 9,
   "metadata": {},
   "outputs": [
    {
     "name": "stderr",
     "output_type": "stream",
     "text": [
      "/Users/zhafen/miniconda3/envs/cmdstan/lib/python3.12/site-packages/pandas/core/arraylike.py:399: RuntimeWarning: divide by zero encountered in log10\n",
      "  result = getattr(ufunc, method)(*inputs, **kwargs)\n"
     ]
    }
   ],
   "source": [
    "# Basic nan handling across all obs\n",
    "df_all[\"log_cpy\"] = np.log10(df_all[\"citations_per_year\"])\n",
    "df_all[\"log_cpy\"] = df_all[\"log_cpy\"].replace(-np.inf, np.nan)"
   ]
  },
  {
   "cell_type": "code",
   "execution_count": 10,
   "metadata": {},
   "outputs": [
    {
     "data": {
      "text/plain": [
       "Index(['Economics', 'Education', 'Geology', 'Linguistics', 'Materials Science',\n",
       "       'Mathematics', 'Medicine', 'Philosophy', 'Physics'],\n",
       "      dtype='object')"
      ]
     },
     "execution_count": 10,
     "metadata": {},
     "output_type": "execute_result"
    }
   ],
   "source": [
    "# Make the field category more useful\n",
    "df_all[\"fields_of_study_0\"] = df_all[\"fields_of_study_0\"].astype(\"category\")\n",
    "df_all[\"stan_field_code\"] = df_all[\"fields_of_study_0\"].cat.codes + 1\n",
    "field_names = df_all[\"fields_of_study_0\"].cat.categories\n",
    "field_names"
   ]
  },
  {
   "cell_type": "code",
   "execution_count": 11,
   "metadata": {},
   "outputs": [
    {
     "data": {
      "text/plain": [
       "['BOW', 'GPT2', 'SBERT', 'SciBERT', 'Word2Vec']"
      ]
     },
     "execution_count": 11,
     "metadata": {},
     "output_type": "execute_result"
    }
   ],
   "source": [
    "# Get the vectorizer names\n",
    "vectorizer_names = sorted(df_all[\"vectorizer\"].unique())\n",
    "vectorizer_names"
   ]
  },
  {
   "cell_type": "code",
   "execution_count": 15,
   "metadata": {},
   "outputs": [
    {
     "ename": "FileNotFoundError",
     "evalue": "[Errno 2] No such file or directory: '../../analysis_data/stan_fit/results.csv'",
     "output_type": "error",
     "traceback": [
      "\u001b[0;31m---------------------------------------------------------------------------\u001b[0m",
      "\u001b[0;31mFileNotFoundError\u001b[0m                         Traceback (most recent call last)",
      "Cell \u001b[0;32mIn[15], line 2\u001b[0m\n\u001b[1;32m      1\u001b[0m \u001b[38;5;66;03m# Load results, train, and test data\u001b[39;00m\n\u001b[0;32m----> 2\u001b[0m results \u001b[38;5;241m=\u001b[39m pd\u001b[38;5;241m.\u001b[39mread_csv(\u001b[38;5;124mf\u001b[39m\u001b[38;5;124m\"\u001b[39m\u001b[38;5;132;01m{\u001b[39;00mconfig[\u001b[38;5;124m\"\u001b[39m\u001b[38;5;124mfit_dir\u001b[39m\u001b[38;5;124m\"\u001b[39m]\u001b[38;5;132;01m}\u001b[39;00m\u001b[38;5;124m/results.csv\u001b[39m\u001b[38;5;124m\"\u001b[39m, index_col\u001b[38;5;241m=\u001b[39m\u001b[38;5;241m0\u001b[39m)\n\u001b[1;32m      3\u001b[0m df_train \u001b[38;5;241m=\u001b[39m pd\u001b[38;5;241m.\u001b[39mread_csv(\u001b[38;5;124mf\u001b[39m\u001b[38;5;124m\"\u001b[39m\u001b[38;5;132;01m{\u001b[39;00mconfig[\u001b[38;5;124m\"\u001b[39m\u001b[38;5;124mfit_dir\u001b[39m\u001b[38;5;124m\"\u001b[39m]\u001b[38;5;132;01m}\u001b[39;00m\u001b[38;5;124m/train.csv\u001b[39m\u001b[38;5;124m\"\u001b[39m, index_col\u001b[38;5;241m=\u001b[39m\u001b[38;5;241m0\u001b[39m)\n\u001b[1;32m      4\u001b[0m df_test \u001b[38;5;241m=\u001b[39m pd\u001b[38;5;241m.\u001b[39mread_csv(\u001b[38;5;124mf\u001b[39m\u001b[38;5;124m\"\u001b[39m\u001b[38;5;132;01m{\u001b[39;00mconfig[\u001b[38;5;124m\"\u001b[39m\u001b[38;5;124mfit_dir\u001b[39m\u001b[38;5;124m\"\u001b[39m]\u001b[38;5;132;01m}\u001b[39;00m\u001b[38;5;124m/test.csv\u001b[39m\u001b[38;5;124m\"\u001b[39m, index_col\u001b[38;5;241m=\u001b[39m\u001b[38;5;241m0\u001b[39m)\n",
      "File \u001b[0;32m~/miniconda3/envs/cmdstan/lib/python3.12/site-packages/pandas/io/parsers/readers.py:1026\u001b[0m, in \u001b[0;36mread_csv\u001b[0;34m(filepath_or_buffer, sep, delimiter, header, names, index_col, usecols, dtype, engine, converters, true_values, false_values, skipinitialspace, skiprows, skipfooter, nrows, na_values, keep_default_na, na_filter, verbose, skip_blank_lines, parse_dates, infer_datetime_format, keep_date_col, date_parser, date_format, dayfirst, cache_dates, iterator, chunksize, compression, thousands, decimal, lineterminator, quotechar, quoting, doublequote, escapechar, comment, encoding, encoding_errors, dialect, on_bad_lines, delim_whitespace, low_memory, memory_map, float_precision, storage_options, dtype_backend)\u001b[0m\n\u001b[1;32m   1013\u001b[0m kwds_defaults \u001b[38;5;241m=\u001b[39m _refine_defaults_read(\n\u001b[1;32m   1014\u001b[0m     dialect,\n\u001b[1;32m   1015\u001b[0m     delimiter,\n\u001b[0;32m   (...)\u001b[0m\n\u001b[1;32m   1022\u001b[0m     dtype_backend\u001b[38;5;241m=\u001b[39mdtype_backend,\n\u001b[1;32m   1023\u001b[0m )\n\u001b[1;32m   1024\u001b[0m kwds\u001b[38;5;241m.\u001b[39mupdate(kwds_defaults)\n\u001b[0;32m-> 1026\u001b[0m \u001b[38;5;28;01mreturn\u001b[39;00m _read(filepath_or_buffer, kwds)\n",
      "File \u001b[0;32m~/miniconda3/envs/cmdstan/lib/python3.12/site-packages/pandas/io/parsers/readers.py:620\u001b[0m, in \u001b[0;36m_read\u001b[0;34m(filepath_or_buffer, kwds)\u001b[0m\n\u001b[1;32m    617\u001b[0m _validate_names(kwds\u001b[38;5;241m.\u001b[39mget(\u001b[38;5;124m\"\u001b[39m\u001b[38;5;124mnames\u001b[39m\u001b[38;5;124m\"\u001b[39m, \u001b[38;5;28;01mNone\u001b[39;00m))\n\u001b[1;32m    619\u001b[0m \u001b[38;5;66;03m# Create the parser.\u001b[39;00m\n\u001b[0;32m--> 620\u001b[0m parser \u001b[38;5;241m=\u001b[39m TextFileReader(filepath_or_buffer, \u001b[38;5;241m*\u001b[39m\u001b[38;5;241m*\u001b[39mkwds)\n\u001b[1;32m    622\u001b[0m \u001b[38;5;28;01mif\u001b[39;00m chunksize \u001b[38;5;129;01mor\u001b[39;00m iterator:\n\u001b[1;32m    623\u001b[0m     \u001b[38;5;28;01mreturn\u001b[39;00m parser\n",
      "File \u001b[0;32m~/miniconda3/envs/cmdstan/lib/python3.12/site-packages/pandas/io/parsers/readers.py:1620\u001b[0m, in \u001b[0;36mTextFileReader.__init__\u001b[0;34m(self, f, engine, **kwds)\u001b[0m\n\u001b[1;32m   1617\u001b[0m     \u001b[38;5;28mself\u001b[39m\u001b[38;5;241m.\u001b[39moptions[\u001b[38;5;124m\"\u001b[39m\u001b[38;5;124mhas_index_names\u001b[39m\u001b[38;5;124m\"\u001b[39m] \u001b[38;5;241m=\u001b[39m kwds[\u001b[38;5;124m\"\u001b[39m\u001b[38;5;124mhas_index_names\u001b[39m\u001b[38;5;124m\"\u001b[39m]\n\u001b[1;32m   1619\u001b[0m \u001b[38;5;28mself\u001b[39m\u001b[38;5;241m.\u001b[39mhandles: IOHandles \u001b[38;5;241m|\u001b[39m \u001b[38;5;28;01mNone\u001b[39;00m \u001b[38;5;241m=\u001b[39m \u001b[38;5;28;01mNone\u001b[39;00m\n\u001b[0;32m-> 1620\u001b[0m \u001b[38;5;28mself\u001b[39m\u001b[38;5;241m.\u001b[39m_engine \u001b[38;5;241m=\u001b[39m \u001b[38;5;28mself\u001b[39m\u001b[38;5;241m.\u001b[39m_make_engine(f, \u001b[38;5;28mself\u001b[39m\u001b[38;5;241m.\u001b[39mengine)\n",
      "File \u001b[0;32m~/miniconda3/envs/cmdstan/lib/python3.12/site-packages/pandas/io/parsers/readers.py:1880\u001b[0m, in \u001b[0;36mTextFileReader._make_engine\u001b[0;34m(self, f, engine)\u001b[0m\n\u001b[1;32m   1878\u001b[0m     \u001b[38;5;28;01mif\u001b[39;00m \u001b[38;5;124m\"\u001b[39m\u001b[38;5;124mb\u001b[39m\u001b[38;5;124m\"\u001b[39m \u001b[38;5;129;01mnot\u001b[39;00m \u001b[38;5;129;01min\u001b[39;00m mode:\n\u001b[1;32m   1879\u001b[0m         mode \u001b[38;5;241m+\u001b[39m\u001b[38;5;241m=\u001b[39m \u001b[38;5;124m\"\u001b[39m\u001b[38;5;124mb\u001b[39m\u001b[38;5;124m\"\u001b[39m\n\u001b[0;32m-> 1880\u001b[0m \u001b[38;5;28mself\u001b[39m\u001b[38;5;241m.\u001b[39mhandles \u001b[38;5;241m=\u001b[39m get_handle(\n\u001b[1;32m   1881\u001b[0m     f,\n\u001b[1;32m   1882\u001b[0m     mode,\n\u001b[1;32m   1883\u001b[0m     encoding\u001b[38;5;241m=\u001b[39m\u001b[38;5;28mself\u001b[39m\u001b[38;5;241m.\u001b[39moptions\u001b[38;5;241m.\u001b[39mget(\u001b[38;5;124m\"\u001b[39m\u001b[38;5;124mencoding\u001b[39m\u001b[38;5;124m\"\u001b[39m, \u001b[38;5;28;01mNone\u001b[39;00m),\n\u001b[1;32m   1884\u001b[0m     compression\u001b[38;5;241m=\u001b[39m\u001b[38;5;28mself\u001b[39m\u001b[38;5;241m.\u001b[39moptions\u001b[38;5;241m.\u001b[39mget(\u001b[38;5;124m\"\u001b[39m\u001b[38;5;124mcompression\u001b[39m\u001b[38;5;124m\"\u001b[39m, \u001b[38;5;28;01mNone\u001b[39;00m),\n\u001b[1;32m   1885\u001b[0m     memory_map\u001b[38;5;241m=\u001b[39m\u001b[38;5;28mself\u001b[39m\u001b[38;5;241m.\u001b[39moptions\u001b[38;5;241m.\u001b[39mget(\u001b[38;5;124m\"\u001b[39m\u001b[38;5;124mmemory_map\u001b[39m\u001b[38;5;124m\"\u001b[39m, \u001b[38;5;28;01mFalse\u001b[39;00m),\n\u001b[1;32m   1886\u001b[0m     is_text\u001b[38;5;241m=\u001b[39mis_text,\n\u001b[1;32m   1887\u001b[0m     errors\u001b[38;5;241m=\u001b[39m\u001b[38;5;28mself\u001b[39m\u001b[38;5;241m.\u001b[39moptions\u001b[38;5;241m.\u001b[39mget(\u001b[38;5;124m\"\u001b[39m\u001b[38;5;124mencoding_errors\u001b[39m\u001b[38;5;124m\"\u001b[39m, \u001b[38;5;124m\"\u001b[39m\u001b[38;5;124mstrict\u001b[39m\u001b[38;5;124m\"\u001b[39m),\n\u001b[1;32m   1888\u001b[0m     storage_options\u001b[38;5;241m=\u001b[39m\u001b[38;5;28mself\u001b[39m\u001b[38;5;241m.\u001b[39moptions\u001b[38;5;241m.\u001b[39mget(\u001b[38;5;124m\"\u001b[39m\u001b[38;5;124mstorage_options\u001b[39m\u001b[38;5;124m\"\u001b[39m, \u001b[38;5;28;01mNone\u001b[39;00m),\n\u001b[1;32m   1889\u001b[0m )\n\u001b[1;32m   1890\u001b[0m \u001b[38;5;28;01massert\u001b[39;00m \u001b[38;5;28mself\u001b[39m\u001b[38;5;241m.\u001b[39mhandles \u001b[38;5;129;01mis\u001b[39;00m \u001b[38;5;129;01mnot\u001b[39;00m \u001b[38;5;28;01mNone\u001b[39;00m\n\u001b[1;32m   1891\u001b[0m f \u001b[38;5;241m=\u001b[39m \u001b[38;5;28mself\u001b[39m\u001b[38;5;241m.\u001b[39mhandles\u001b[38;5;241m.\u001b[39mhandle\n",
      "File \u001b[0;32m~/miniconda3/envs/cmdstan/lib/python3.12/site-packages/pandas/io/common.py:873\u001b[0m, in \u001b[0;36mget_handle\u001b[0;34m(path_or_buf, mode, encoding, compression, memory_map, is_text, errors, storage_options)\u001b[0m\n\u001b[1;32m    868\u001b[0m \u001b[38;5;28;01melif\u001b[39;00m \u001b[38;5;28misinstance\u001b[39m(handle, \u001b[38;5;28mstr\u001b[39m):\n\u001b[1;32m    869\u001b[0m     \u001b[38;5;66;03m# Check whether the filename is to be opened in binary mode.\u001b[39;00m\n\u001b[1;32m    870\u001b[0m     \u001b[38;5;66;03m# Binary mode does not support 'encoding' and 'newline'.\u001b[39;00m\n\u001b[1;32m    871\u001b[0m     \u001b[38;5;28;01mif\u001b[39;00m ioargs\u001b[38;5;241m.\u001b[39mencoding \u001b[38;5;129;01mand\u001b[39;00m \u001b[38;5;124m\"\u001b[39m\u001b[38;5;124mb\u001b[39m\u001b[38;5;124m\"\u001b[39m \u001b[38;5;129;01mnot\u001b[39;00m \u001b[38;5;129;01min\u001b[39;00m ioargs\u001b[38;5;241m.\u001b[39mmode:\n\u001b[1;32m    872\u001b[0m         \u001b[38;5;66;03m# Encoding\u001b[39;00m\n\u001b[0;32m--> 873\u001b[0m         handle \u001b[38;5;241m=\u001b[39m \u001b[38;5;28mopen\u001b[39m(\n\u001b[1;32m    874\u001b[0m             handle,\n\u001b[1;32m    875\u001b[0m             ioargs\u001b[38;5;241m.\u001b[39mmode,\n\u001b[1;32m    876\u001b[0m             encoding\u001b[38;5;241m=\u001b[39mioargs\u001b[38;5;241m.\u001b[39mencoding,\n\u001b[1;32m    877\u001b[0m             errors\u001b[38;5;241m=\u001b[39merrors,\n\u001b[1;32m    878\u001b[0m             newline\u001b[38;5;241m=\u001b[39m\u001b[38;5;124m\"\u001b[39m\u001b[38;5;124m\"\u001b[39m,\n\u001b[1;32m    879\u001b[0m         )\n\u001b[1;32m    880\u001b[0m     \u001b[38;5;28;01melse\u001b[39;00m:\n\u001b[1;32m    881\u001b[0m         \u001b[38;5;66;03m# Binary mode\u001b[39;00m\n\u001b[1;32m    882\u001b[0m         handle \u001b[38;5;241m=\u001b[39m \u001b[38;5;28mopen\u001b[39m(handle, ioargs\u001b[38;5;241m.\u001b[39mmode)\n",
      "\u001b[0;31mFileNotFoundError\u001b[0m: [Errno 2] No such file or directory: '../../analysis_data/stan_fit/results.csv'"
     ]
    }
   ],
   "source": [
    "# Load results, train, and test data\n",
    "results = pd.read_csv(f\"{config[\"fit_dir\"]}/results.csv\", index_col=0)\n",
    "df_train = pd.read_csv(f\"{config[\"fit_dir\"]}/train.csv\", index_col=0)\n",
    "df_test = pd.read_csv(f\"{config[\"fit_dir\"]}/test.csv\", index_col=0)"
   ]
  },
  {
   "cell_type": "code",
   "execution_count": null,
   "metadata": {},
   "outputs": [],
   "source": [
    "# Load raw data\n"
   ]
  }
 ],
 "metadata": {
  "kernelspec": {
   "display_name": "cmdstan",
   "language": "python",
   "name": "python3"
  },
  "language_info": {
   "codemirror_mode": {
    "name": "ipython",
    "version": 3
   },
   "file_extension": ".py",
   "mimetype": "text/x-python",
   "name": "python",
   "nbconvert_exporter": "python",
   "pygments_lexer": "ipython3",
   "version": "3.12.4"
  }
 },
 "nbformat": 4,
 "nbformat_minor": 2
}
