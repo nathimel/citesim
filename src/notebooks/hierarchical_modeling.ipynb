{
 "cells": [
  {
   "cell_type": "markdown",
   "metadata": {},
   "source": [
    "# Hierarchical Modeling\n",
    "What models fit the data?"
   ]
  },
  {
   "cell_type": "markdown",
   "metadata": {},
   "source": [
    "## To-Do:\n",
    "\n",
    "### In Progress\n",
    "\n",
    "- show y_pred as part of the median plot\n",
    "- implement model selection or feature selection\n",
    "\n",
    "### On Hold\n",
    "- have median plot alpha scale with hist (requires LineCollection)\n",
    "- caching (will require me to implement something)"
   ]
  },
  {
   "cell_type": "markdown",
   "metadata": {},
   "source": [
    "# Setup"
   ]
  },
  {
   "cell_type": "markdown",
   "metadata": {},
   "source": [
    "### Imports"
   ]
  },
  {
   "cell_type": "code",
   "execution_count": 1,
   "metadata": {},
   "outputs": [],
   "source": [
    "# Stdlib imports\n",
    "import os\n",
    "import shutil"
   ]
  },
  {
   "cell_type": "code",
   "execution_count": 2,
   "metadata": {},
   "outputs": [],
   "source": [
    "# Calculation imports\n",
    "import cmdstanpy\n",
    "import numpy as np\n",
    "import pandas as pd\n",
    "import scipy\n",
    "from scipy.stats import norm, binned_statistic\n",
    "from sklearn.metrics import root_mean_squared_error\n",
    "import sklearn.metrics as sk_metrics\n",
    "from sklearn.model_selection import train_test_split\n",
    "from sklearn.preprocessing import StandardScaler\n",
    "from tqdm import tqdm"
   ]
  },
  {
   "cell_type": "code",
   "execution_count": 3,
   "metadata": {},
   "outputs": [],
   "source": [
    "# Plotting imports\n",
    "import matplotlib.pyplot as plt\n",
    "import seaborn as sns\n",
    "\n",
    "sns.set_style(\"whitegrid\")"
   ]
  },
  {
   "cell_type": "markdown",
   "metadata": {},
   "source": [
    "### Parameters"
   ]
  },
  {
   "cell_type": "code",
   "execution_count": 4,
   "metadata": {},
   "outputs": [],
   "source": [
    "config = {\n",
    "    \"bins\": 16,\n",
    "    \"min_bin_percentile\": 10,\n",
    "    \"eval_sample_size\": 100,\n",
    "    \"nonden_fit_cols\": [\"references\", \"year\"],\n",
    "    \"cat_col\": \"stan_field_code\",\n",
    "    \"output_dir\": \"../../analysis_data/stan_fit\",\n",
    "}\n",
    "config[\"output_dir\"] = f\"../../analysis_data/stan_fits/stan_fit_{config[\"eval_sample_size\"]}\""
   ]
  },
  {
   "cell_type": "code",
   "execution_count": 5,
   "metadata": {},
   "outputs": [],
   "source": [
    "palette = sns.color_palette()"
   ]
  },
  {
   "cell_type": "code",
   "execution_count": 6,
   "metadata": {},
   "outputs": [],
   "source": [
    "def log_sum_exp(mu):\n",
    "    \"\"\"Calculate the log sum of exponentials\n",
    "    (pulling out the max to maintain) precision.\n",
    "    \"\"\"\n",
    "    mu_max = np.max(mu)\n",
    "\n",
    "    summation = np.sum(np.exp(mu - mu_max))\n",
    "    return mu_max + np.log(summation)"
   ]
  },
  {
   "cell_type": "code",
   "execution_count": 7,
   "metadata": {},
   "outputs": [],
   "source": [
    "def log_ppd(log_p):\n",
    "    M = len(log_p)\n",
    "    return -np.log(M) + log_sum_exp(log_p)"
   ]
  },
  {
   "cell_type": "markdown",
   "metadata": {},
   "source": [
    "### Load data"
   ]
  },
  {
   "cell_type": "code",
   "execution_count": 8,
   "metadata": {},
   "outputs": [
    {
     "data": {
      "text/html": [
       "<div>\n",
       "<style scoped>\n",
       "    .dataframe tbody tr th:only-of-type {\n",
       "        vertical-align: middle;\n",
       "    }\n",
       "\n",
       "    .dataframe tbody tr th {\n",
       "        vertical-align: top;\n",
       "    }\n",
       "\n",
       "    .dataframe thead th {\n",
       "        text-align: right;\n",
       "    }\n",
       "</style>\n",
       "<table border=\"1\" class=\"dataframe\">\n",
       "  <thead>\n",
       "    <tr style=\"text-align: right;\">\n",
       "      <th></th>\n",
       "      <th>density</th>\n",
       "      <th>edginess</th>\n",
       "      <th>references</th>\n",
       "      <th>citations_per_year</th>\n",
       "      <th>is_center</th>\n",
       "      <th>identifier</th>\n",
       "      <th>year</th>\n",
       "      <th>librarian</th>\n",
       "      <th>vectorizer</th>\n",
       "      <th>center</th>\n",
       "      <th>fields_of_study_0</th>\n",
       "    </tr>\n",
       "  </thead>\n",
       "  <tbody>\n",
       "    <tr>\n",
       "      <th>0</th>\n",
       "      <td>1545.550332</td>\n",
       "      <td>0.814415</td>\n",
       "      <td>42</td>\n",
       "      <td>2.250000</td>\n",
       "      <td>False</td>\n",
       "      <td>2e5f3e6c87d1676cdeffc3a2bfbc30b6cd06ed6f</td>\n",
       "      <td>2004</td>\n",
       "      <td>S2</td>\n",
       "      <td>GPT2</td>\n",
       "      <td>hafenLowredshiftLymanLimit2017</td>\n",
       "      <td>Physics</td>\n",
       "    </tr>\n",
       "    <tr>\n",
       "      <th>1</th>\n",
       "      <td>1846.261870</td>\n",
       "      <td>0.452021</td>\n",
       "      <td>88</td>\n",
       "      <td>4.625000</td>\n",
       "      <td>False</td>\n",
       "      <td>d7b6cd39dd111afa55a3aa418b7b5459db12988d</td>\n",
       "      <td>2012</td>\n",
       "      <td>S2</td>\n",
       "      <td>GPT2</td>\n",
       "      <td>hafenLowredshiftLymanLimit2017</td>\n",
       "      <td>Physics</td>\n",
       "    </tr>\n",
       "    <tr>\n",
       "      <th>2</th>\n",
       "      <td>1703.520959</td>\n",
       "      <td>0.490212</td>\n",
       "      <td>30</td>\n",
       "      <td>0.882353</td>\n",
       "      <td>False</td>\n",
       "      <td>2d62ec65f95435c72ef750b3cff331382c5dca92</td>\n",
       "      <td>2003</td>\n",
       "      <td>S2</td>\n",
       "      <td>GPT2</td>\n",
       "      <td>hafenLowredshiftLymanLimit2017</td>\n",
       "      <td>Physics</td>\n",
       "    </tr>\n",
       "    <tr>\n",
       "      <th>3</th>\n",
       "      <td>1901.386693</td>\n",
       "      <td>0.715160</td>\n",
       "      <td>95</td>\n",
       "      <td>8.166667</td>\n",
       "      <td>False</td>\n",
       "      <td>8cebc6e3dcfb543bad48d89112e281a6e11c33c2</td>\n",
       "      <td>2014</td>\n",
       "      <td>S2</td>\n",
       "      <td>GPT2</td>\n",
       "      <td>hafenLowredshiftLymanLimit2017</td>\n",
       "      <td>Physics</td>\n",
       "    </tr>\n",
       "    <tr>\n",
       "      <th>4</th>\n",
       "      <td>535.472125</td>\n",
       "      <td>0.885892</td>\n",
       "      <td>94</td>\n",
       "      <td>2.090909</td>\n",
       "      <td>False</td>\n",
       "      <td>59730a4bae4dc53f59341b63fd1e63451c589e9f</td>\n",
       "      <td>2009</td>\n",
       "      <td>S2</td>\n",
       "      <td>GPT2</td>\n",
       "      <td>hafenLowredshiftLymanLimit2017</td>\n",
       "      <td>Physics</td>\n",
       "    </tr>\n",
       "    <tr>\n",
       "      <th>...</th>\n",
       "      <td>...</td>\n",
       "      <td>...</td>\n",
       "      <td>...</td>\n",
       "      <td>...</td>\n",
       "      <td>...</td>\n",
       "      <td>...</td>\n",
       "      <td>...</td>\n",
       "      <td>...</td>\n",
       "      <td>...</td>\n",
       "      <td>...</td>\n",
       "      <td>...</td>\n",
       "    </tr>\n",
       "    <tr>\n",
       "      <th>537685</th>\n",
       "      <td>48.730838</td>\n",
       "      <td>0.658585</td>\n",
       "      <td>41</td>\n",
       "      <td>3.500000</td>\n",
       "      <td>False</td>\n",
       "      <td>806f77ba7bdf8a3b80cb859fb5f33f57c1d85d24</td>\n",
       "      <td>2018</td>\n",
       "      <td>S2</td>\n",
       "      <td>SciBERT</td>\n",
       "      <td>Andre2018</td>\n",
       "      <td>Mathematics</td>\n",
       "    </tr>\n",
       "    <tr>\n",
       "      <th>537686</th>\n",
       "      <td>25.107589</td>\n",
       "      <td>0.721374</td>\n",
       "      <td>38</td>\n",
       "      <td>3.200000</td>\n",
       "      <td>False</td>\n",
       "      <td>f40707d1165c22e185c25e6837977177ee380f2c</td>\n",
       "      <td>2015</td>\n",
       "      <td>S2</td>\n",
       "      <td>SciBERT</td>\n",
       "      <td>Andre2018</td>\n",
       "      <td>Mathematics</td>\n",
       "    </tr>\n",
       "    <tr>\n",
       "      <th>537687</th>\n",
       "      <td>41.647954</td>\n",
       "      <td>0.646499</td>\n",
       "      <td>11</td>\n",
       "      <td>1.529412</td>\n",
       "      <td>False</td>\n",
       "      <td>10636ee16779a7521001651164acb5c192d4ad7b</td>\n",
       "      <td>2003</td>\n",
       "      <td>S2</td>\n",
       "      <td>SciBERT</td>\n",
       "      <td>Andre2018</td>\n",
       "      <td>Mathematics</td>\n",
       "    </tr>\n",
       "    <tr>\n",
       "      <th>537688</th>\n",
       "      <td>35.738649</td>\n",
       "      <td>0.708053</td>\n",
       "      <td>15</td>\n",
       "      <td>2.384615</td>\n",
       "      <td>False</td>\n",
       "      <td>a229f829e0a5362d00e63781f687f40ede991635</td>\n",
       "      <td>2007</td>\n",
       "      <td>S2</td>\n",
       "      <td>SciBERT</td>\n",
       "      <td>Andre2018</td>\n",
       "      <td>Mathematics</td>\n",
       "    </tr>\n",
       "    <tr>\n",
       "      <th>537689</th>\n",
       "      <td>31.749805</td>\n",
       "      <td>0.670620</td>\n",
       "      <td>7</td>\n",
       "      <td>0.000000</td>\n",
       "      <td>False</td>\n",
       "      <td>8f7f47c0acd81752039abad380df57cf39591506</td>\n",
       "      <td>2012</td>\n",
       "      <td>S2</td>\n",
       "      <td>SciBERT</td>\n",
       "      <td>Andre2018</td>\n",
       "      <td>Mathematics</td>\n",
       "    </tr>\n",
       "  </tbody>\n",
       "</table>\n",
       "<p>537690 rows × 11 columns</p>\n",
       "</div>"
      ],
      "text/plain": [
       "            density  edginess  references  citations_per_year  is_center  \\\n",
       "0       1545.550332  0.814415          42            2.250000      False   \n",
       "1       1846.261870  0.452021          88            4.625000      False   \n",
       "2       1703.520959  0.490212          30            0.882353      False   \n",
       "3       1901.386693  0.715160          95            8.166667      False   \n",
       "4        535.472125  0.885892          94            2.090909      False   \n",
       "...             ...       ...         ...                 ...        ...   \n",
       "537685    48.730838  0.658585          41            3.500000      False   \n",
       "537686    25.107589  0.721374          38            3.200000      False   \n",
       "537687    41.647954  0.646499          11            1.529412      False   \n",
       "537688    35.738649  0.708053          15            2.384615      False   \n",
       "537689    31.749805  0.670620           7            0.000000      False   \n",
       "\n",
       "                                      identifier  year librarian vectorizer  \\\n",
       "0       2e5f3e6c87d1676cdeffc3a2bfbc30b6cd06ed6f  2004        S2       GPT2   \n",
       "1       d7b6cd39dd111afa55a3aa418b7b5459db12988d  2012        S2       GPT2   \n",
       "2       2d62ec65f95435c72ef750b3cff331382c5dca92  2003        S2       GPT2   \n",
       "3       8cebc6e3dcfb543bad48d89112e281a6e11c33c2  2014        S2       GPT2   \n",
       "4       59730a4bae4dc53f59341b63fd1e63451c589e9f  2009        S2       GPT2   \n",
       "...                                          ...   ...       ...        ...   \n",
       "537685  806f77ba7bdf8a3b80cb859fb5f33f57c1d85d24  2018        S2    SciBERT   \n",
       "537686  f40707d1165c22e185c25e6837977177ee380f2c  2015        S2    SciBERT   \n",
       "537687  10636ee16779a7521001651164acb5c192d4ad7b  2003        S2    SciBERT   \n",
       "537688  a229f829e0a5362d00e63781f687f40ede991635  2007        S2    SciBERT   \n",
       "537689  8f7f47c0acd81752039abad380df57cf39591506  2012        S2    SciBERT   \n",
       "\n",
       "                                center fields_of_study_0  \n",
       "0       hafenLowredshiftLymanLimit2017           Physics  \n",
       "1       hafenLowredshiftLymanLimit2017           Physics  \n",
       "2       hafenLowredshiftLymanLimit2017           Physics  \n",
       "3       hafenLowredshiftLymanLimit2017           Physics  \n",
       "4       hafenLowredshiftLymanLimit2017           Physics  \n",
       "...                                ...               ...  \n",
       "537685                       Andre2018       Mathematics  \n",
       "537686                       Andre2018       Mathematics  \n",
       "537687                       Andre2018       Mathematics  \n",
       "537688                       Andre2018       Mathematics  \n",
       "537689                       Andre2018       Mathematics  \n",
       "\n",
       "[537690 rows x 11 columns]"
      ]
     },
     "execution_count": 8,
     "metadata": {},
     "output_type": "execute_result"
    }
   ],
   "source": [
    "df_all = pd.read_csv(\"../../analysis_data/all_data.csv\")\n",
    "df_all"
   ]
  },
  {
   "cell_type": "code",
   "execution_count": 9,
   "metadata": {},
   "outputs": [
    {
     "name": "stderr",
     "output_type": "stream",
     "text": [
      "/Users/zhafen/miniconda3/envs/cmdstan/lib/python3.12/site-packages/pandas/core/arraylike.py:399: RuntimeWarning: divide by zero encountered in log10\n",
      "  result = getattr(ufunc, method)(*inputs, **kwargs)\n"
     ]
    }
   ],
   "source": [
    "# Basic nan handling across all obs\n",
    "df_all[\"log_cpy\"] = np.log10(df_all[\"citations_per_year\"])\n",
    "df_all[\"log_cpy\"] = df_all[\"log_cpy\"].replace(-np.inf, np.nan)"
   ]
  },
  {
   "cell_type": "code",
   "execution_count": 10,
   "metadata": {},
   "outputs": [
    {
     "data": {
      "text/plain": [
       "Index(['Economics', 'Education', 'Geology', 'Linguistics', 'Materials Science',\n",
       "       'Mathematics', 'Medicine', 'Philosophy', 'Physics'],\n",
       "      dtype='object')"
      ]
     },
     "execution_count": 10,
     "metadata": {},
     "output_type": "execute_result"
    }
   ],
   "source": [
    "# Make the field category more useful\n",
    "df_all[\"fields_of_study_0\"] = df_all[\"fields_of_study_0\"].astype(\"category\")\n",
    "df_all[\"stan_field_code\"] = df_all[\"fields_of_study_0\"].cat.codes + 1\n",
    "field_names = df_all[\"fields_of_study_0\"].cat.categories\n",
    "field_names"
   ]
  },
  {
   "cell_type": "code",
   "execution_count": 11,
   "metadata": {},
   "outputs": [
    {
     "data": {
      "text/plain": [
       "['BOW', 'GPT2', 'SBERT', 'SciBERT', 'Word2Vec']"
      ]
     },
     "execution_count": 11,
     "metadata": {},
     "output_type": "execute_result"
    }
   ],
   "source": [
    "vectorizer_names = sorted(df_all[\"vectorizer\"].unique())\n",
    "vectorizer_names"
   ]
  },
  {
   "cell_type": "markdown",
   "metadata": {},
   "source": [
    "## Prep output"
   ]
  },
  {
   "cell_type": "code",
   "execution_count": 12,
   "metadata": {},
   "outputs": [],
   "source": [
    "# Clear the output dir and recreate\n",
    "if os.path.exists(config[\"output_dir\"]):\n",
    "    shutil.rmtree(config[\"output_dir\"])\n",
    "os.makedirs(config[\"output_dir\"])"
   ]
  },
  {
   "cell_type": "markdown",
   "metadata": {},
   "source": [
    "# Statistical Modeling\n",
    "\n",
    "Note to future self: cmdstanpy and cmdstan advertise conda as *the* way to install.\n",
    "Don't listen to them.\n",
    "I couldn't get it to compile when I used conda for anything cmdstanpy related.\n",
    "I downloaded the repo and compiled manually, and used pip for cmdstanpy."
   ]
  },
  {
   "cell_type": "markdown",
   "metadata": {},
   "source": [
    "## Train-Test Split"
   ]
  },
  {
   "cell_type": "code",
   "execution_count": 13,
   "metadata": {},
   "outputs": [
    {
     "data": {
      "text/html": [
       "<div>\n",
       "<style scoped>\n",
       "    .dataframe tbody tr th:only-of-type {\n",
       "        vertical-align: middle;\n",
       "    }\n",
       "\n",
       "    .dataframe tbody tr th {\n",
       "        vertical-align: top;\n",
       "    }\n",
       "\n",
       "    .dataframe thead th {\n",
       "        text-align: right;\n",
       "    }\n",
       "</style>\n",
       "<table border=\"1\" class=\"dataframe\">\n",
       "  <thead>\n",
       "    <tr style=\"text-align: right;\">\n",
       "      <th></th>\n",
       "      <th>log_cpy</th>\n",
       "      <th>stan_field_code</th>\n",
       "      <th>references</th>\n",
       "      <th>year</th>\n",
       "      <th>BOW</th>\n",
       "      <th>GPT2</th>\n",
       "      <th>SBERT</th>\n",
       "      <th>SciBERT</th>\n",
       "      <th>Word2Vec</th>\n",
       "    </tr>\n",
       "    <tr>\n",
       "      <th>identifier</th>\n",
       "      <th></th>\n",
       "      <th></th>\n",
       "      <th></th>\n",
       "      <th></th>\n",
       "      <th></th>\n",
       "      <th></th>\n",
       "      <th></th>\n",
       "      <th></th>\n",
       "      <th></th>\n",
       "    </tr>\n",
       "  </thead>\n",
       "  <tbody>\n",
       "    <tr>\n",
       "      <th>000018fc6887cfb1fe43024b111cbfb4e21bac86</th>\n",
       "      <td>0.816610</td>\n",
       "      <td>9</td>\n",
       "      <td>153</td>\n",
       "      <td>2011</td>\n",
       "      <td>20.247480</td>\n",
       "      <td>NaN</td>\n",
       "      <td>NaN</td>\n",
       "      <td>40.709152</td>\n",
       "      <td>48.709426</td>\n",
       "    </tr>\n",
       "    <tr>\n",
       "      <th>00012cd6c267ec07566e9298ad5d689462133f98</th>\n",
       "      <td>-0.176091</td>\n",
       "      <td>1</td>\n",
       "      <td>81</td>\n",
       "      <td>2014</td>\n",
       "      <td>16.675367</td>\n",
       "      <td>1821.844826</td>\n",
       "      <td>17.195921</td>\n",
       "      <td>44.223053</td>\n",
       "      <td>46.829885</td>\n",
       "    </tr>\n",
       "    <tr>\n",
       "      <th>00015dd1433923dfaecd815a5610b7e02a240bf1</th>\n",
       "      <td>-1.176091</td>\n",
       "      <td>8</td>\n",
       "      <td>5</td>\n",
       "      <td>2005</td>\n",
       "      <td>NaN</td>\n",
       "      <td>NaN</td>\n",
       "      <td>15.303556</td>\n",
       "      <td>NaN</td>\n",
       "      <td>NaN</td>\n",
       "    </tr>\n",
       "    <tr>\n",
       "      <th>0001915f25724aabd56021ad216db4657b544bec</th>\n",
       "      <td>0.449093</td>\n",
       "      <td>2</td>\n",
       "      <td>15</td>\n",
       "      <td>2004</td>\n",
       "      <td>15.214642</td>\n",
       "      <td>1474.294829</td>\n",
       "      <td>15.101694</td>\n",
       "      <td>38.331719</td>\n",
       "      <td>36.408183</td>\n",
       "    </tr>\n",
       "    <tr>\n",
       "      <th>00019656527337df9943eb8fd5fe10035c216630</th>\n",
       "      <td>0.896251</td>\n",
       "      <td>7</td>\n",
       "      <td>38</td>\n",
       "      <td>2012</td>\n",
       "      <td>NaN</td>\n",
       "      <td>1824.667374</td>\n",
       "      <td>19.787877</td>\n",
       "      <td>NaN</td>\n",
       "      <td>NaN</td>\n",
       "    </tr>\n",
       "    <tr>\n",
       "      <th>...</th>\n",
       "      <td>...</td>\n",
       "      <td>...</td>\n",
       "      <td>...</td>\n",
       "      <td>...</td>\n",
       "      <td>...</td>\n",
       "      <td>...</td>\n",
       "      <td>...</td>\n",
       "      <td>...</td>\n",
       "      <td>...</td>\n",
       "    </tr>\n",
       "    <tr>\n",
       "      <th>fffd040a476ea5d68014a0c2d29c132bcfa5c281</th>\n",
       "      <td>0.753328</td>\n",
       "      <td>8</td>\n",
       "      <td>39</td>\n",
       "      <td>2014</td>\n",
       "      <td>16.932139</td>\n",
       "      <td>1357.686408</td>\n",
       "      <td>15.175140</td>\n",
       "      <td>34.163358</td>\n",
       "      <td>42.351464</td>\n",
       "    </tr>\n",
       "    <tr>\n",
       "      <th>fffdae38cfe952ec7fc4da420d8ad26a06384d9f</th>\n",
       "      <td>-0.447158</td>\n",
       "      <td>1</td>\n",
       "      <td>21</td>\n",
       "      <td>2006</td>\n",
       "      <td>NaN</td>\n",
       "      <td>NaN</td>\n",
       "      <td>17.679814</td>\n",
       "      <td>NaN</td>\n",
       "      <td>NaN</td>\n",
       "    </tr>\n",
       "    <tr>\n",
       "      <th>ffff5e6feb617a8cbc7867f2ef0d3422e6107697</th>\n",
       "      <td>0.946125</td>\n",
       "      <td>7</td>\n",
       "      <td>43</td>\n",
       "      <td>2002</td>\n",
       "      <td>13.273726</td>\n",
       "      <td>1656.083989</td>\n",
       "      <td>15.323810</td>\n",
       "      <td>29.493443</td>\n",
       "      <td>39.875730</td>\n",
       "    </tr>\n",
       "    <tr>\n",
       "      <th>ffffe98d67e1f39c46a8ff0d4bb745980f0f52f9</th>\n",
       "      <td>NaN</td>\n",
       "      <td>7</td>\n",
       "      <td>336</td>\n",
       "      <td>2014</td>\n",
       "      <td>13.871656</td>\n",
       "      <td>735.093268</td>\n",
       "      <td>14.508996</td>\n",
       "      <td>30.694829</td>\n",
       "      <td>35.870620</td>\n",
       "    </tr>\n",
       "    <tr>\n",
       "      <th>fffff110e67e806c8fba3fb3fd4dcfe798569c1f</th>\n",
       "      <td>-0.057992</td>\n",
       "      <td>3</td>\n",
       "      <td>38</td>\n",
       "      <td>2012</td>\n",
       "      <td>NaN</td>\n",
       "      <td>NaN</td>\n",
       "      <td>20.337161</td>\n",
       "      <td>NaN</td>\n",
       "      <td>NaN</td>\n",
       "    </tr>\n",
       "  </tbody>\n",
       "</table>\n",
       "<p>154295 rows × 9 columns</p>\n",
       "</div>"
      ],
      "text/plain": [
       "                                           log_cpy  stan_field_code  \\\n",
       "identifier                                                            \n",
       "000018fc6887cfb1fe43024b111cbfb4e21bac86  0.816610                9   \n",
       "00012cd6c267ec07566e9298ad5d689462133f98 -0.176091                1   \n",
       "00015dd1433923dfaecd815a5610b7e02a240bf1 -1.176091                8   \n",
       "0001915f25724aabd56021ad216db4657b544bec  0.449093                2   \n",
       "00019656527337df9943eb8fd5fe10035c216630  0.896251                7   \n",
       "...                                            ...              ...   \n",
       "fffd040a476ea5d68014a0c2d29c132bcfa5c281  0.753328                8   \n",
       "fffdae38cfe952ec7fc4da420d8ad26a06384d9f -0.447158                1   \n",
       "ffff5e6feb617a8cbc7867f2ef0d3422e6107697  0.946125                7   \n",
       "ffffe98d67e1f39c46a8ff0d4bb745980f0f52f9       NaN                7   \n",
       "fffff110e67e806c8fba3fb3fd4dcfe798569c1f -0.057992                3   \n",
       "\n",
       "                                          references  year        BOW  \\\n",
       "identifier                                                              \n",
       "000018fc6887cfb1fe43024b111cbfb4e21bac86         153  2011  20.247480   \n",
       "00012cd6c267ec07566e9298ad5d689462133f98          81  2014  16.675367   \n",
       "00015dd1433923dfaecd815a5610b7e02a240bf1           5  2005        NaN   \n",
       "0001915f25724aabd56021ad216db4657b544bec          15  2004  15.214642   \n",
       "00019656527337df9943eb8fd5fe10035c216630          38  2012        NaN   \n",
       "...                                              ...   ...        ...   \n",
       "fffd040a476ea5d68014a0c2d29c132bcfa5c281          39  2014  16.932139   \n",
       "fffdae38cfe952ec7fc4da420d8ad26a06384d9f          21  2006        NaN   \n",
       "ffff5e6feb617a8cbc7867f2ef0d3422e6107697          43  2002  13.273726   \n",
       "ffffe98d67e1f39c46a8ff0d4bb745980f0f52f9         336  2014  13.871656   \n",
       "fffff110e67e806c8fba3fb3fd4dcfe798569c1f          38  2012        NaN   \n",
       "\n",
       "                                                 GPT2      SBERT    SciBERT  \\\n",
       "identifier                                                                    \n",
       "000018fc6887cfb1fe43024b111cbfb4e21bac86          NaN        NaN  40.709152   \n",
       "00012cd6c267ec07566e9298ad5d689462133f98  1821.844826  17.195921  44.223053   \n",
       "00015dd1433923dfaecd815a5610b7e02a240bf1          NaN  15.303556        NaN   \n",
       "0001915f25724aabd56021ad216db4657b544bec  1474.294829  15.101694  38.331719   \n",
       "00019656527337df9943eb8fd5fe10035c216630  1824.667374  19.787877        NaN   \n",
       "...                                               ...        ...        ...   \n",
       "fffd040a476ea5d68014a0c2d29c132bcfa5c281  1357.686408  15.175140  34.163358   \n",
       "fffdae38cfe952ec7fc4da420d8ad26a06384d9f          NaN  17.679814        NaN   \n",
       "ffff5e6feb617a8cbc7867f2ef0d3422e6107697  1656.083989  15.323810  29.493443   \n",
       "ffffe98d67e1f39c46a8ff0d4bb745980f0f52f9   735.093268  14.508996  30.694829   \n",
       "fffff110e67e806c8fba3fb3fd4dcfe798569c1f          NaN  20.337161        NaN   \n",
       "\n",
       "                                           Word2Vec  \n",
       "identifier                                           \n",
       "000018fc6887cfb1fe43024b111cbfb4e21bac86  48.709426  \n",
       "00012cd6c267ec07566e9298ad5d689462133f98  46.829885  \n",
       "00015dd1433923dfaecd815a5610b7e02a240bf1        NaN  \n",
       "0001915f25724aabd56021ad216db4657b544bec  36.408183  \n",
       "00019656527337df9943eb8fd5fe10035c216630        NaN  \n",
       "...                                             ...  \n",
       "fffd040a476ea5d68014a0c2d29c132bcfa5c281  42.351464  \n",
       "fffdae38cfe952ec7fc4da420d8ad26a06384d9f        NaN  \n",
       "ffff5e6feb617a8cbc7867f2ef0d3422e6107697  39.875730  \n",
       "ffffe98d67e1f39c46a8ff0d4bb745980f0f52f9  35.870620  \n",
       "fffff110e67e806c8fba3fb3fd4dcfe798569c1f        NaN  \n",
       "\n",
       "[154295 rows x 9 columns]"
      ]
     },
     "execution_count": 13,
     "metadata": {},
     "output_type": "execute_result"
    }
   ],
   "source": [
    "# Pivot to wide format so we can use the same train_test division\n",
    "# and so we can use multiple densities at once\n",
    "df_vectorizers = df_all.pivot_table(\n",
    "    index=\"identifier\", columns=\"vectorizer\", values=\"density\"\n",
    ")\n",
    "# For the nonden cols we can take the first because the other values are duplicates\n",
    "nonden_cols = [\n",
    "    \"log_cpy\",\n",
    "    config[\"cat_col\"],\n",
    "] + config[\"nonden_fit_cols\"]\n",
    "df_others = df_all.groupby(\"identifier\")[nonden_cols].first()\n",
    "df_eval = pd.concat([df_others, df_vectorizers], axis=\"columns\")\n",
    "df_eval"
   ]
  },
  {
   "cell_type": "code",
   "execution_count": 14,
   "metadata": {},
   "outputs": [],
   "source": [
    "# Drop all columns where log_cpy is na\n",
    "df_eval = df_eval.dropna(subset=\"log_cpy\")"
   ]
  },
  {
   "cell_type": "code",
   "execution_count": 15,
   "metadata": {},
   "outputs": [],
   "source": [
    "# Prep to apply scaling (normalization by mean and sigma) to help with modelling\n",
    "scaled_cols = (\n",
    "    [\n",
    "        \"log_cpy\",\n",
    "    ]\n",
    "    + config[\"nonden_fit_cols\"]\n",
    "    + vectorizer_names\n",
    ")\n",
    "# Convert any non-float to float so scaling doesn't throw errors\n",
    "df_eval.loc[:, scaled_cols] = df_eval[scaled_cols].astype('float')\n",
    "df_eval_copy = df_eval.copy() # Make a copy before modifying"
   ]
  },
  {
   "cell_type": "code",
   "execution_count": 16,
   "metadata": {},
   "outputs": [
    {
     "name": "stderr",
     "output_type": "stream",
     "text": [
      "/var/folders/43/wy_ws5nx3830gqhfw05n4yyc0000gn/T/ipykernel_18646/3415137217.py:3: FutureWarning: Setting an item of incompatible dtype is deprecated and will raise in a future error of pandas. Value '[ 1.29427405  0.36043231 -0.62528953 ... -0.41776914 -0.13242861\n",
      " -0.19727873]' has dtype incompatible with int64, please explicitly cast to a compatible dtype first.\n",
      "  df_eval.loc[:, scaled_cols] = scaler.fit_transform(df_eval[scaled_cols])\n",
      "/var/folders/43/wy_ws5nx3830gqhfw05n4yyc0000gn/T/ipykernel_18646/3415137217.py:3: FutureWarning: Setting an item of incompatible dtype is deprecated and will raise in a future error of pandas. Value '[-0.059374    0.52071293 -1.21954787 ... -1.02618556 -1.7996348\n",
      "  0.13398831]' has dtype incompatible with int64, please explicitly cast to a compatible dtype first.\n",
      "  df_eval.loc[:, scaled_cols] = scaler.fit_transform(df_eval[scaled_cols])\n"
     ]
    }
   ],
   "source": [
    "# Global scaling\n",
    "scaler = StandardScaler()\n",
    "df_eval.loc[:, scaled_cols] = scaler.fit_transform(df_eval[scaled_cols])"
   ]
  },
  {
   "cell_type": "code",
   "execution_count": 17,
   "metadata": {},
   "outputs": [],
   "source": [
    "# Apply per-field scaling\n",
    "scalers = {}\n",
    "new_cols = [f\"{col}_j\" for col in scaled_cols]\n",
    "for code_i, ids_i in df_eval_copy.groupby(\"stan_field_code\").groups.items():\n",
    "    df_i = df_eval_copy.loc[ids_i]\n",
    "\n",
    "    # Scale\n",
    "    scaler_i = StandardScaler()\n",
    "    df_eval.loc[ids_i, new_cols] = scaler_i.fit_transform(df_i[scaled_cols])\n",
    "    scalers[code_i] = scaler_i\n"
   ]
  },
  {
   "cell_type": "code",
   "execution_count": 18,
   "metadata": {},
   "outputs": [],
   "source": [
    "# Variables for referring to scaled versions of the columns\n",
    "scaled_nonden_fit_cols = [f\"{col}_j\" for col in config[\"nonden_fit_cols\"]]\n",
    "scaled_vectorizer_cols = [f\"{vectorizer_i}_j\" for vectorizer_i in vectorizer_names]\n",
    "scaled_fit_cols = scaled_nonden_fit_cols + scaled_vectorizer_cols"
   ]
  },
  {
   "cell_type": "code",
   "execution_count": 19,
   "metadata": {},
   "outputs": [],
   "source": [
    "# Downsample\n",
    "if config[\"eval_sample_size\"] is not None:\n",
    "    df_eval = df_eval.sample(config[\"eval_sample_size\"])"
   ]
  },
  {
   "cell_type": "code",
   "execution_count": 20,
   "metadata": {},
   "outputs": [],
   "source": [
    "# Train-test split\n",
    "df_train, df_test = train_test_split(df_eval)"
   ]
  },
  {
   "cell_type": "code",
   "execution_count": 21,
   "metadata": {},
   "outputs": [],
   "source": [
    "# Save for later analysis\n",
    "df_train.to_csv(f\"{config[\"output_dir\"]}/train_data.csv\")\n",
    "df_test.to_csv(f\"{config[\"output_dir\"]}/test_data.csv\")"
   ]
  },
  {
   "cell_type": "code",
   "execution_count": 22,
   "metadata": {},
   "outputs": [],
   "source": [
    "# dictionary to store results in\n",
    "results_dict = {}"
   ]
  },
  {
   "cell_type": "markdown",
   "metadata": {},
   "source": [
    "## Base model\n",
    "The base model is just a normal distribution."
   ]
  },
  {
   "cell_type": "code",
   "execution_count": 23,
   "metadata": {},
   "outputs": [],
   "source": [
    "stan_model = \"base\"\n",
    "model_name = \"base\""
   ]
  },
  {
   "cell_type": "code",
   "execution_count": 24,
   "metadata": {},
   "outputs": [],
   "source": [
    "# Dict for storing output\n",
    "output = {}"
   ]
  },
  {
   "cell_type": "code",
   "execution_count": 25,
   "metadata": {},
   "outputs": [],
   "source": [
    "# Drop na\n",
    "df_train_i = df_train.dropna(subset=[\"log_cpy\"])\n",
    "df_test_i = df_train.dropna(subset=[\"log_cpy\"])"
   ]
  },
  {
   "cell_type": "code",
   "execution_count": 26,
   "metadata": {},
   "outputs": [],
   "source": [
    "# Format data\n",
    "data = {\n",
    "    \"N\": len(df_train_i),\n",
    "    \"y\": df_train_i[\"log_cpy\"].values,\n",
    "    \"N_test\": len(df_test_i),\n",
    "    \"y_test\": df_test_i[\"log_cpy\"].values,\n",
    "}"
   ]
  },
  {
   "cell_type": "code",
   "execution_count": 27,
   "metadata": {},
   "outputs": [],
   "source": [
    "# Compile model\n",
    "model = cmdstanpy.CmdStanModel(stan_file=f\"../stan_models/{stan_model}.stan\")"
   ]
  },
  {
   "cell_type": "code",
   "execution_count": 28,
   "metadata": {},
   "outputs": [
    {
     "name": "stderr",
     "output_type": "stream",
     "text": [
      "10:50:19 - cmdstanpy - INFO - created output directory: /Users/zhafen/repos/citesim/analysis_data/stan_fits/stan_fit_100/base\n",
      "10:50:19 - cmdstanpy - INFO - CmdStan start processing\n"
     ]
    },
    {
     "data": {
      "application/vnd.jupyter.widget-view+json": {
       "model_id": "63667740effd4d0f9f52897ec015dec9",
       "version_major": 2,
       "version_minor": 0
      },
      "text/plain": [
       "chain 1 |          | 00:00 Status"
      ]
     },
     "metadata": {},
     "output_type": "display_data"
    },
    {
     "data": {
      "application/vnd.jupyter.widget-view+json": {
       "model_id": "4928ea95455246d2bd1e93ddf092b968",
       "version_major": 2,
       "version_minor": 0
      },
      "text/plain": [
       "chain 2 |          | 00:00 Status"
      ]
     },
     "metadata": {},
     "output_type": "display_data"
    },
    {
     "data": {
      "application/vnd.jupyter.widget-view+json": {
       "model_id": "7f5f1847590a495a94575fc56ade8496",
       "version_major": 2,
       "version_minor": 0
      },
      "text/plain": [
       "chain 3 |          | 00:00 Status"
      ]
     },
     "metadata": {},
     "output_type": "display_data"
    },
    {
     "data": {
      "application/vnd.jupyter.widget-view+json": {
       "model_id": "7b63e6b62b4141d7a4f8fdebb3332667",
       "version_major": 2,
       "version_minor": 0
      },
      "text/plain": [
       "chain 4 |          | 00:00 Status"
      ]
     },
     "metadata": {},
     "output_type": "display_data"
    },
    {
     "name": "stdout",
     "output_type": "stream",
     "text": [
      "                                                                                                                                                                                                                                                                                                                                "
     ]
    },
    {
     "name": "stderr",
     "output_type": "stream",
     "text": [
      "10:50:20 - cmdstanpy - INFO - CmdStan done processing.\n",
      "10:50:20 - cmdstanpy - WARNING - Non-fatal error during sampling:\n",
      "Exception: normal_lpdf: Scale parameter is 0, but must be positive! (in 'base.stan', line 13, column 4 to column 29)\n",
      "Exception: normal_lpdf: Scale parameter is 0, but must be positive! (in 'base.stan', line 13, column 4 to column 29)\n",
      "Exception: normal_lpdf: Scale parameter is 0, but must be positive! (in 'base.stan', line 13, column 4 to column 29)\n",
      "Consider re-running with show_console=True if the above output is unclear!\n"
     ]
    },
    {
     "name": "stdout",
     "output_type": "stream",
     "text": [
      "\n"
     ]
    }
   ],
   "source": [
    "# Fit model\n",
    "if not config[\"output_dir\"] is None:\n",
    "    output_dir = os.path.join(config[\"output_dir\"], model_name)\n",
    "fit = model.sample(\n",
    "    data=data,\n",
    "    output_dir=output_dir\n",
    ")"
   ]
  },
  {
   "cell_type": "code",
   "execution_count": 29,
   "metadata": {},
   "outputs": [],
   "source": [
    "# Parse output\n",
    "draws = fit.draws_pd()"
   ]
  },
  {
   "cell_type": "code",
   "execution_count": 30,
   "metadata": {},
   "outputs": [],
   "source": [
    "# Store parameters\n",
    "output[\"alpha\"] = draws[\"alpha\"].median()\n",
    "output[\"sigma\"] = draws[\"sigma\"].median()"
   ]
  },
  {
   "cell_type": "code",
   "execution_count": 31,
   "metadata": {},
   "outputs": [],
   "source": [
    "# Calculate log posterior predictive density\n",
    "output[\"log_ppd\"] = log_ppd(draws[\"log_p\"])"
   ]
  },
  {
   "cell_type": "code",
   "execution_count": 32,
   "metadata": {},
   "outputs": [],
   "source": [
    "results_dict[stan_model] = pd.Series(output)"
   ]
  },
  {
   "cell_type": "markdown",
   "metadata": {},
   "source": [
    "## Linear on one density"
   ]
  },
  {
   "cell_type": "code",
   "execution_count": 33,
   "metadata": {},
   "outputs": [],
   "source": [
    "stan_model = \"reg\""
   ]
  },
  {
   "cell_type": "markdown",
   "metadata": {},
   "source": [
    "### Fit"
   ]
  },
  {
   "cell_type": "code",
   "execution_count": 34,
   "metadata": {},
   "outputs": [
    {
     "name": "stderr",
     "output_type": "stream",
     "text": [
      "10:50:20 - cmdstanpy - INFO - created output directory: /Users/zhafen/repos/citesim/analysis_data/stan_fits/stan_fit_100/BOW\n",
      "10:50:20 - cmdstanpy - INFO - CmdStan start processing\n"
     ]
    },
    {
     "data": {
      "application/vnd.jupyter.widget-view+json": {
       "model_id": "45bb7cab3744430f8f20f6ac82d531ae",
       "version_major": 2,
       "version_minor": 0
      },
      "text/plain": [
       "chain 1 |          | 00:00 Status"
      ]
     },
     "metadata": {},
     "output_type": "display_data"
    },
    {
     "data": {
      "application/vnd.jupyter.widget-view+json": {
       "model_id": "2f5eeb0a9e3f4d53888ab16134424a21",
       "version_major": 2,
       "version_minor": 0
      },
      "text/plain": [
       "chain 2 |          | 00:00 Status"
      ]
     },
     "metadata": {},
     "output_type": "display_data"
    },
    {
     "data": {
      "application/vnd.jupyter.widget-view+json": {
       "model_id": "e5d40a835b8c4bf293b9e4c43c4edc66",
       "version_major": 2,
       "version_minor": 0
      },
      "text/plain": [
       "chain 3 |          | 00:00 Status"
      ]
     },
     "metadata": {},
     "output_type": "display_data"
    },
    {
     "data": {
      "application/vnd.jupyter.widget-view+json": {
       "model_id": "f13c9b8d691b48cda1f0b46341356752",
       "version_major": 2,
       "version_minor": 0
      },
      "text/plain": [
       "chain 4 |          | 00:00 Status"
      ]
     },
     "metadata": {},
     "output_type": "display_data"
    },
    {
     "name": "stdout",
     "output_type": "stream",
     "text": [
      "                                                                                                                                                                                                                                                                                                                                "
     ]
    },
    {
     "name": "stderr",
     "output_type": "stream",
     "text": [
      "10:50:20 - cmdstanpy - INFO - CmdStan done processing.\n",
      "10:50:20 - cmdstanpy - WARNING - Non-fatal error during sampling:\n",
      "Exception: normal_lpdf: Scale parameter is 0, but must be positive! (in 'reg.stan', line 16, column 4 to column 40)\n",
      "Consider re-running with show_console=True if the above output is unclear!\n",
      "10:50:21 - cmdstanpy - INFO - created output directory: /Users/zhafen/repos/citesim/analysis_data/stan_fits/stan_fit_100/GPT2\n",
      "10:50:21 - cmdstanpy - INFO - CmdStan start processing\n"
     ]
    },
    {
     "name": "stdout",
     "output_type": "stream",
     "text": [
      "\n"
     ]
    },
    {
     "data": {
      "application/vnd.jupyter.widget-view+json": {
       "model_id": "789d3331281f41a7ad072efec09dd3e8",
       "version_major": 2,
       "version_minor": 0
      },
      "text/plain": [
       "chain 1 |          | 00:00 Status"
      ]
     },
     "metadata": {},
     "output_type": "display_data"
    },
    {
     "data": {
      "application/vnd.jupyter.widget-view+json": {
       "model_id": "64065226632e41658309fa95b01db2a6",
       "version_major": 2,
       "version_minor": 0
      },
      "text/plain": [
       "chain 2 |          | 00:00 Status"
      ]
     },
     "metadata": {},
     "output_type": "display_data"
    },
    {
     "data": {
      "application/vnd.jupyter.widget-view+json": {
       "model_id": "102c2817acba49b88a0e390836c95674",
       "version_major": 2,
       "version_minor": 0
      },
      "text/plain": [
       "chain 3 |          | 00:00 Status"
      ]
     },
     "metadata": {},
     "output_type": "display_data"
    },
    {
     "data": {
      "application/vnd.jupyter.widget-view+json": {
       "model_id": "2f93a55f00f24daabbea6718d95c82ca",
       "version_major": 2,
       "version_minor": 0
      },
      "text/plain": [
       "chain 4 |          | 00:00 Status"
      ]
     },
     "metadata": {},
     "output_type": "display_data"
    },
    {
     "name": "stdout",
     "output_type": "stream",
     "text": [
      "                                                                                                                                                                                                                                                                                                                                "
     ]
    },
    {
     "name": "stderr",
     "output_type": "stream",
     "text": [
      "10:50:21 - cmdstanpy - INFO - CmdStan done processing.\n",
      "10:50:21 - cmdstanpy - WARNING - Non-fatal error during sampling:\n",
      "Exception: normal_lpdf: Scale parameter is 0, but must be positive! (in 'reg.stan', line 16, column 4 to column 40)\n",
      "Consider re-running with show_console=True if the above output is unclear!\n"
     ]
    },
    {
     "name": "stdout",
     "output_type": "stream",
     "text": [
      "\n"
     ]
    },
    {
     "name": "stderr",
     "output_type": "stream",
     "text": [
      "10:50:21 - cmdstanpy - INFO - created output directory: /Users/zhafen/repos/citesim/analysis_data/stan_fits/stan_fit_100/SBERT\n",
      "10:50:21 - cmdstanpy - INFO - CmdStan start processing\n"
     ]
    },
    {
     "data": {
      "application/vnd.jupyter.widget-view+json": {
       "model_id": "a766c88543fe422fb3e749541bdc1990",
       "version_major": 2,
       "version_minor": 0
      },
      "text/plain": [
       "chain 1 |          | 00:00 Status"
      ]
     },
     "metadata": {},
     "output_type": "display_data"
    },
    {
     "data": {
      "application/vnd.jupyter.widget-view+json": {
       "model_id": "949a2cbae6b848a0957a86faa0bba04d",
       "version_major": 2,
       "version_minor": 0
      },
      "text/plain": [
       "chain 2 |          | 00:00 Status"
      ]
     },
     "metadata": {},
     "output_type": "display_data"
    },
    {
     "data": {
      "application/vnd.jupyter.widget-view+json": {
       "model_id": "a6eb283db5664c1caf482d255b71ece1",
       "version_major": 2,
       "version_minor": 0
      },
      "text/plain": [
       "chain 3 |          | 00:00 Status"
      ]
     },
     "metadata": {},
     "output_type": "display_data"
    },
    {
     "data": {
      "application/vnd.jupyter.widget-view+json": {
       "model_id": "d0d4be9d2336418bbf2dbdc05fff23d7",
       "version_major": 2,
       "version_minor": 0
      },
      "text/plain": [
       "chain 4 |          | 00:00 Status"
      ]
     },
     "metadata": {},
     "output_type": "display_data"
    },
    {
     "name": "stdout",
     "output_type": "stream",
     "text": [
      "                                                                                                                                                                                                                                                                                                                                "
     ]
    },
    {
     "name": "stderr",
     "output_type": "stream",
     "text": [
      "10:50:21 - cmdstanpy - INFO - CmdStan done processing.\n"
     ]
    },
    {
     "name": "stdout",
     "output_type": "stream",
     "text": [
      "\n"
     ]
    },
    {
     "name": "stderr",
     "output_type": "stream",
     "text": [
      "10:50:22 - cmdstanpy - INFO - created output directory: /Users/zhafen/repos/citesim/analysis_data/stan_fits/stan_fit_100/SciBERT\n",
      "10:50:22 - cmdstanpy - INFO - CmdStan start processing\n"
     ]
    },
    {
     "data": {
      "application/vnd.jupyter.widget-view+json": {
       "model_id": "cc5e647a33894042bfabd6793df29267",
       "version_major": 2,
       "version_minor": 0
      },
      "text/plain": [
       "chain 1 |          | 00:00 Status"
      ]
     },
     "metadata": {},
     "output_type": "display_data"
    },
    {
     "data": {
      "application/vnd.jupyter.widget-view+json": {
       "model_id": "d3f68361eb004710ac0616ff7f3b240e",
       "version_major": 2,
       "version_minor": 0
      },
      "text/plain": [
       "chain 2 |          | 00:00 Status"
      ]
     },
     "metadata": {},
     "output_type": "display_data"
    },
    {
     "data": {
      "application/vnd.jupyter.widget-view+json": {
       "model_id": "e006ecdcf5714ea38c3c10bdd3561e05",
       "version_major": 2,
       "version_minor": 0
      },
      "text/plain": [
       "chain 3 |          | 00:00 Status"
      ]
     },
     "metadata": {},
     "output_type": "display_data"
    },
    {
     "data": {
      "application/vnd.jupyter.widget-view+json": {
       "model_id": "73b82789fae94d3daa21a027bf90dd20",
       "version_major": 2,
       "version_minor": 0
      },
      "text/plain": [
       "chain 4 |          | 00:00 Status"
      ]
     },
     "metadata": {},
     "output_type": "display_data"
    },
    {
     "name": "stdout",
     "output_type": "stream",
     "text": [
      "                                                                                                                                                                                                                                                                                                                                "
     ]
    },
    {
     "name": "stderr",
     "output_type": "stream",
     "text": [
      "10:50:22 - cmdstanpy - INFO - CmdStan done processing.\n",
      "10:50:22 - cmdstanpy - WARNING - Non-fatal error during sampling:\n",
      "Exception: normal_lpdf: Scale parameter is 0, but must be positive! (in 'reg.stan', line 16, column 4 to column 40)\n",
      "Consider re-running with show_console=True if the above output is unclear!\n"
     ]
    },
    {
     "name": "stdout",
     "output_type": "stream",
     "text": [
      "\n"
     ]
    },
    {
     "name": "stderr",
     "output_type": "stream",
     "text": [
      "10:50:22 - cmdstanpy - INFO - created output directory: /Users/zhafen/repos/citesim/analysis_data/stan_fits/stan_fit_100/Word2Vec\n",
      "10:50:22 - cmdstanpy - INFO - CmdStan start processing\n"
     ]
    },
    {
     "data": {
      "application/vnd.jupyter.widget-view+json": {
       "model_id": "c933e33a139b4b2eb4c22c20d500ef3e",
       "version_major": 2,
       "version_minor": 0
      },
      "text/plain": [
       "chain 1 |          | 00:00 Status"
      ]
     },
     "metadata": {},
     "output_type": "display_data"
    },
    {
     "data": {
      "application/vnd.jupyter.widget-view+json": {
       "model_id": "cf43a0ea897d41f086df8e79244f8ae4",
       "version_major": 2,
       "version_minor": 0
      },
      "text/plain": [
       "chain 2 |          | 00:00 Status"
      ]
     },
     "metadata": {},
     "output_type": "display_data"
    },
    {
     "data": {
      "application/vnd.jupyter.widget-view+json": {
       "model_id": "ea88c40e57694933a5a56d0f4071224f",
       "version_major": 2,
       "version_minor": 0
      },
      "text/plain": [
       "chain 3 |          | 00:00 Status"
      ]
     },
     "metadata": {},
     "output_type": "display_data"
    },
    {
     "data": {
      "application/vnd.jupyter.widget-view+json": {
       "model_id": "40edfb020c874153830e98eb022f197b",
       "version_major": 2,
       "version_minor": 0
      },
      "text/plain": [
       "chain 4 |          | 00:00 Status"
      ]
     },
     "metadata": {},
     "output_type": "display_data"
    },
    {
     "name": "stdout",
     "output_type": "stream",
     "text": [
      "                                                                                                                                                                                                                                                                                                                                "
     ]
    },
    {
     "name": "stderr",
     "output_type": "stream",
     "text": [
      "10:50:22 - cmdstanpy - INFO - CmdStan done processing.\n",
      "10:50:22 - cmdstanpy - WARNING - Non-fatal error during sampling:\n",
      "Exception: normal_lpdf: Scale parameter is 0, but must be positive! (in 'reg.stan', line 16, column 4 to column 40)\n",
      "Consider re-running with show_console=True if the above output is unclear!\n"
     ]
    },
    {
     "name": "stdout",
     "output_type": "stream",
     "text": [
      "\n"
     ]
    }
   ],
   "source": [
    "# Dictionary to hold modeling output\n",
    "\n",
    "# Loop through vectorizers\n",
    "outputs_for_this_model = {}\n",
    "for i, vectorizer_i in enumerate(vectorizer_names):\n",
    "    output = {}\n",
    "\n",
    "    model_name = f\"{vectorizer_i}\"\n",
    "\n",
    "    # Drop na\n",
    "    df_train_i = df_train.dropna(subset=[vectorizer_i, \"log_cpy\"])\n",
    "    df_test_i = df_train.dropna(subset=[vectorizer_i, \"log_cpy\"])\n",
    "\n",
    "    # Format data\n",
    "    data = {\n",
    "        \"N\": len(df_train_i),\n",
    "        \"x\": df_train_i[vectorizer_i].values,\n",
    "        \"y\": df_train_i[\"log_cpy\"].values,\n",
    "        \"N_test\": len(df_test_i),\n",
    "        \"x_test\": df_test_i[vectorizer_i].values,\n",
    "        \"y_test\": df_test_i[\"log_cpy\"].values,\n",
    "    }\n",
    "\n",
    "    # Compile model\n",
    "    model = cmdstanpy.CmdStanModel(stan_file=f\"../stan_models/{stan_model}.stan\")\n",
    "\n",
    "    # Fit model\n",
    "    if not config[\"output_dir\"] is None:\n",
    "        output_dir = os.path.join(config[\"output_dir\"], model_name)\n",
    "    fit = model.sample(\n",
    "        data=data,\n",
    "        output_dir=output_dir\n",
    "    )\n",
    "\n",
    "    # Parse output\n",
    "    draws = fit.draws_pd()\n",
    "\n",
    "    # Store parameters\n",
    "    output[\"alpha\"] = draws[\"alpha\"].median()\n",
    "    output[f\"beta[{vectorizer_i}]\"] = draws[\"beta\"].median()\n",
    "    output[\"sigma\"] = draws[\"sigma\"].median()\n",
    "\n",
    "    # Calculate log posterior predictive density\n",
    "    output[\"log_ppd\"] = log_ppd(draws[\"log_p\"])\n",
    "\n",
    "    outputs_for_this_model[model_name] = output\n",
    "    results_dict[model_name] = output"
   ]
  },
  {
   "cell_type": "markdown",
   "metadata": {},
   "source": [
    "### Evaluate"
   ]
  },
  {
   "cell_type": "code",
   "execution_count": 35,
   "metadata": {},
   "outputs": [],
   "source": [
    "# Format for showing here\n",
    "output = pd.DataFrame(outputs_for_this_model).T\n",
    "output[\"vectorizer\"] = vectorizer_names"
   ]
  },
  {
   "cell_type": "code",
   "execution_count": 36,
   "metadata": {},
   "outputs": [],
   "source": [
    "def medianplot(data, x, y, bins, ax, alpha_min=0.1, alpha_max=1.0):\n",
    "\n",
    "    x = data[x]\n",
    "    y = data[y]\n",
    "\n",
    "    centers = (bins[1:] + bins[:-1]) / 2\n",
    "\n",
    "    # TODO: Use or remove. Needs a LineCollection to work\n",
    "    # # Calculate histogram (used for line transparency)\n",
    "    # hist, _ = np.histogram(x, bins=bins, density=True)\n",
    "    # hist /= hist.max()\n",
    "    # alpha = alpha_min + hist * (alpha_max - alpha_min)\n",
    "\n",
    "    # Calculate running median\n",
    "    median, bin_edges, bin_number = binned_statistic(\n",
    "        x, y, statistic=np.nanmedian, bins=bins\n",
    "    )\n",
    "    ax.plot(\n",
    "        centers,\n",
    "        median,\n",
    "        color=\"k\",\n",
    "        # alpha=alpha,\n",
    "    )\n",
    "\n",
    "    # Calculate running percentiles\n",
    "    low, bin_edges, bin_number = binned_statistic(\n",
    "        x,\n",
    "        y,\n",
    "        statistic=lambda v: np.nanpercentile(v, 16),\n",
    "        bins=bins,\n",
    "    )\n",
    "    high, bin_edges, bin_number = binned_statistic(\n",
    "        x,\n",
    "        y,\n",
    "        statistic=lambda v: np.nanpercentile(v, 84),\n",
    "        bins=bins,\n",
    "    )\n",
    "    ax.fill_between(\n",
    "        centers,\n",
    "        low,\n",
    "        high,\n",
    "        color=\"k\",\n",
    "        alpha=0.2,\n",
    "    )\n",
    "\n",
    "    ax.set_xlim(bins[0], bins[-1])"
   ]
  },
  {
   "cell_type": "code",
   "execution_count": 37,
   "metadata": {},
   "outputs": [],
   "source": [
    "left_edge = np.nanpercentile(\n",
    "    df_eval[vectorizer_names].values.flatten(), config[\"min_bin_percentile\"]\n",
    ")\n",
    "right_edge = -left_edge\n",
    "bins = np.linspace(left_edge, right_edge, config[\"bins\"])"
   ]
  },
  {
   "cell_type": "code",
   "execution_count": 38,
   "metadata": {},
   "outputs": [
    {
     "data": {
      "image/png": "[encoded data removed]",
      "text/plain": [
       "<Figure size 640x480 with 1 Axes>"
      ]
     },
     "metadata": {},
     "output_type": "display_data"
    },
    {
     "data": {
      "image/png": "[encoded data removed]",
      "text/plain": [
       "<Figure size 640x480 with 1 Axes>"
      ]
     },
     "metadata": {},
     "output_type": "display_data"
    },
    {
     "data": {
      "image/png": "[encoded data removed]",
      "text/plain": [
       "<Figure size 640x480 with 1 Axes>"
      ]
     },
     "metadata": {},
     "output_type": "display_data"
    },
    {
     "data": {
      "image/png": "[encoded data removed]",
      "text/plain": [
       "<Figure size 640x480 with 1 Axes>"
      ]
     },
     "metadata": {},
     "output_type": "display_data"
    },
    {
     "data": {
      "image/png": "[encoded data removed]",
      "text/plain": [
       "<Figure size 640x480 with 1 Axes>"
      ]
     },
     "metadata": {},
     "output_type": "display_data"
    }
   ],
   "source": [
    "for i, row in output.iterrows():\n",
    "    fig = plt.figure()\n",
    "    ax = plt.gca()\n",
    "\n",
    "    df_plot = df_eval.dropna(subset=[row[\"vectorizer\"], \"log_cpy\"])\n",
    "\n",
    "    medianplot(\n",
    "        data=df_plot,\n",
    "        x=row[\"vectorizer\"],\n",
    "        y=\"log_cpy\",\n",
    "        bins=bins,\n",
    "        ax=ax,\n",
    "    )\n",
    "\n",
    "    # Plot the regression\n",
    "    xs = bins\n",
    "    ys = row[\"alpha\"] + row[f\"beta[{row[\"vectorizer\"]}]\"] * xs\n",
    "    ax.plot(\n",
    "        xs,\n",
    "        ys,\n",
    "        color=palette[0],\n",
    "    )\n",
    "    ax.fill_between(\n",
    "        xs,\n",
    "        ys - row[\"sigma\"],\n",
    "        ys + row[\"sigma\"],\n",
    "        color=palette[0],\n",
    "        alpha=0.4,\n",
    "    )\n",
    "\n",
    "    ax.set_xlabel(f\"density [{row[\"vectorizer\"]}]\")\n",
    "    ax.set_ylabel(\"log_cpy\")\n",
    "\n",
    "    "
   ]
  },
  {
   "cell_type": "markdown",
   "metadata": {},
   "source": [
    "## Linear on non-density vars\n",
    "The next model is a multivate linear regression with no density"
   ]
  },
  {
   "cell_type": "code",
   "execution_count": 39,
   "metadata": {},
   "outputs": [],
   "source": [
    "stan_model = \"multireg\"\n",
    "model_name = \"nondens\""
   ]
  },
  {
   "cell_type": "code",
   "execution_count": 40,
   "metadata": {},
   "outputs": [],
   "source": [
    "fit_cols = config[\"nonden_fit_cols\"]\n",
    "cols = [\n",
    "    \"log_cpy\",\n",
    "] + fit_cols"
   ]
  },
  {
   "cell_type": "code",
   "execution_count": 41,
   "metadata": {},
   "outputs": [],
   "source": [
    "# Dict for storing output\n",
    "output = {}"
   ]
  },
  {
   "cell_type": "code",
   "execution_count": 42,
   "metadata": {},
   "outputs": [],
   "source": [
    "# Drop na\n",
    "df_train_i = df_train[cols].dropna()\n",
    "df_test_i = df_train[cols].dropna()"
   ]
  },
  {
   "cell_type": "code",
   "execution_count": 43,
   "metadata": {},
   "outputs": [],
   "source": [
    "# Format data\n",
    "data = {\n",
    "    \"N\": len(df_train_i),\n",
    "    \"K\": len(fit_cols),\n",
    "    \"x\": df_train_i[fit_cols].values,\n",
    "    \"y\": df_train_i[\"log_cpy\"].values,\n",
    "    \"N_test\": len(df_test_i),\n",
    "    \"x_test\": df_test_i[fit_cols].values,\n",
    "    \"y_test\": df_test_i[\"log_cpy\"].values,\n",
    "}"
   ]
  },
  {
   "cell_type": "code",
   "execution_count": 44,
   "metadata": {},
   "outputs": [],
   "source": [
    "# Compile model\n",
    "model = cmdstanpy.CmdStanModel(stan_file=f\"../stan_models/{stan_model}.stan\")"
   ]
  },
  {
   "cell_type": "code",
   "execution_count": 45,
   "metadata": {},
   "outputs": [
    {
     "name": "stderr",
     "output_type": "stream",
     "text": [
      "10:50:25 - cmdstanpy - INFO - created output directory: /Users/zhafen/repos/citesim/analysis_data/stan_fits/stan_fit_100/nondens\n",
      "10:50:25 - cmdstanpy - INFO - CmdStan start processing\n"
     ]
    },
    {
     "data": {
      "application/vnd.jupyter.widget-view+json": {
       "model_id": "3ed3b14796f44faca56cacc76ec8d5d1",
       "version_major": 2,
       "version_minor": 0
      },
      "text/plain": [
       "chain 1 |          | 00:00 Status"
      ]
     },
     "metadata": {},
     "output_type": "display_data"
    },
    {
     "data": {
      "application/vnd.jupyter.widget-view+json": {
       "model_id": "5b2ca7244a53453297b34cd4839ae69b",
       "version_major": 2,
       "version_minor": 0
      },
      "text/plain": [
       "chain 2 |          | 00:00 Status"
      ]
     },
     "metadata": {},
     "output_type": "display_data"
    },
    {
     "data": {
      "application/vnd.jupyter.widget-view+json": {
       "model_id": "6580d5614bb94c1bbe2c1c5c5d6b92af",
       "version_major": 2,
       "version_minor": 0
      },
      "text/plain": [
       "chain 3 |          | 00:00 Status"
      ]
     },
     "metadata": {},
     "output_type": "display_data"
    },
    {
     "data": {
      "application/vnd.jupyter.widget-view+json": {
       "model_id": "7c98514938df4c2da6f345940e278c50",
       "version_major": 2,
       "version_minor": 0
      },
      "text/plain": [
       "chain 4 |          | 00:00 Status"
      ]
     },
     "metadata": {},
     "output_type": "display_data"
    },
    {
     "name": "stdout",
     "output_type": "stream",
     "text": [
      "                                                                                                                                                                                                                                                                                                                                "
     ]
    },
    {
     "name": "stderr",
     "output_type": "stream",
     "text": [
      "10:50:26 - cmdstanpy - INFO - CmdStan done processing.\n",
      "10:50:26 - cmdstanpy - WARNING - Non-fatal error during sampling:\n",
      "Exception: normal_lpdf: Scale parameter is 0, but must be positive! (in 'multireg.stan', line 31, column 4 to column 45)\n",
      "Exception: normal_lpdf: Scale parameter is 0, but must be positive! (in 'multireg.stan', line 31, column 4 to column 45)\n",
      "Consider re-running with show_console=True if the above output is unclear!\n"
     ]
    },
    {
     "name": "stdout",
     "output_type": "stream",
     "text": [
      "\n"
     ]
    }
   ],
   "source": [
    "# Fit model\n",
    "if not config[\"output_dir\"] is None:\n",
    "    output_dir = os.path.join(config[\"output_dir\"], model_name)\n",
    "fit = model.sample(\n",
    "    data=data,\n",
    "    output_dir=output_dir\n",
    ")"
   ]
  },
  {
   "cell_type": "code",
   "execution_count": 46,
   "metadata": {},
   "outputs": [],
   "source": [
    "# Parse output\n",
    "draws = fit.draws_pd()"
   ]
  },
  {
   "cell_type": "code",
   "execution_count": 47,
   "metadata": {},
   "outputs": [],
   "source": [
    "# Store parameters\n",
    "output[\"alpha\"] = draws[\"alpha\"].median()\n",
    "output[\"sigma\"] = draws[\"sigma\"].median()\n",
    "beta_cols = [col for col in draws.columns if col[:4] == \"beta\"]\n",
    "betas = draws[beta_cols].median(axis=\"rows\")\n",
    "for i, fit_col in enumerate(fit_cols):\n",
    "    output[f\"beta[{fit_col}]\"] = betas.iloc[i]"
   ]
  },
  {
   "cell_type": "code",
   "execution_count": 48,
   "metadata": {},
   "outputs": [],
   "source": [
    "# Calculate log posterior predictive density\n",
    "output[\"log_ppd\"] = log_ppd(draws[\"log_p\"])"
   ]
  },
  {
   "cell_type": "code",
   "execution_count": 49,
   "metadata": {},
   "outputs": [],
   "source": [
    "results_dict[model_name] = pd.Series(output)"
   ]
  },
  {
   "cell_type": "markdown",
   "metadata": {},
   "source": [
    "## Linear on one density + non-density vars"
   ]
  },
  {
   "cell_type": "code",
   "execution_count": 50,
   "metadata": {},
   "outputs": [],
   "source": [
    "stan_model = \"multireg\""
   ]
  },
  {
   "cell_type": "code",
   "execution_count": 51,
   "metadata": {},
   "outputs": [
    {
     "name": "stderr",
     "output_type": "stream",
     "text": [
      "10:50:26 - cmdstanpy - INFO - created output directory: /Users/zhafen/repos/citesim/analysis_data/stan_fits/stan_fit_100/BOW + nondens\n",
      "10:50:26 - cmdstanpy - INFO - CmdStan start processing\n"
     ]
    },
    {
     "data": {
      "application/vnd.jupyter.widget-view+json": {
       "model_id": "7e9bfa74cb2645f5b35a0564ce32c1f6",
       "version_major": 2,
       "version_minor": 0
      },
      "text/plain": [
       "chain 1 |          | 00:00 Status"
      ]
     },
     "metadata": {},
     "output_type": "display_data"
    },
    {
     "data": {
      "application/vnd.jupyter.widget-view+json": {
       "model_id": "2a06c747a6a54241af19679e39b7134e",
       "version_major": 2,
       "version_minor": 0
      },
      "text/plain": [
       "chain 2 |          | 00:00 Status"
      ]
     },
     "metadata": {},
     "output_type": "display_data"
    },
    {
     "data": {
      "application/vnd.jupyter.widget-view+json": {
       "model_id": "b0c6f40f975446dd9fbf5cc7c03ca7d9",
       "version_major": 2,
       "version_minor": 0
      },
      "text/plain": [
       "chain 3 |          | 00:00 Status"
      ]
     },
     "metadata": {},
     "output_type": "display_data"
    },
    {
     "data": {
      "application/vnd.jupyter.widget-view+json": {
       "model_id": "298a9a8a8ae64df3801fc8d261f46826",
       "version_major": 2,
       "version_minor": 0
      },
      "text/plain": [
       "chain 4 |          | 00:00 Status"
      ]
     },
     "metadata": {},
     "output_type": "display_data"
    },
    {
     "name": "stdout",
     "output_type": "stream",
     "text": [
      "                                                                                                                                                                                                                                                                                                                                "
     ]
    },
    {
     "name": "stderr",
     "output_type": "stream",
     "text": [
      "10:50:26 - cmdstanpy - INFO - CmdStan done processing.\n",
      "10:50:26 - cmdstanpy - WARNING - Non-fatal error during sampling:\n",
      "Exception: normal_lpdf: Scale parameter is 0, but must be positive! (in 'multireg.stan', line 31, column 4 to column 45)\n",
      "Consider re-running with show_console=True if the above output is unclear!\n",
      "10:50:27 - cmdstanpy - INFO - created output directory: /Users/zhafen/repos/citesim/analysis_data/stan_fits/stan_fit_100/GPT2 + nondens\n",
      "10:50:27 - cmdstanpy - INFO - CmdStan start processing\n"
     ]
    },
    {
     "name": "stdout",
     "output_type": "stream",
     "text": [
      "\n"
     ]
    },
    {
     "data": {
      "application/vnd.jupyter.widget-view+json": {
       "model_id": "7af6fb3711684d6799119a7655dc48df",
       "version_major": 2,
       "version_minor": 0
      },
      "text/plain": [
       "chain 1 |          | 00:00 Status"
      ]
     },
     "metadata": {},
     "output_type": "display_data"
    },
    {
     "data": {
      "application/vnd.jupyter.widget-view+json": {
       "model_id": "738cf0c4ccc64932b7411b7df41b3725",
       "version_major": 2,
       "version_minor": 0
      },
      "text/plain": [
       "chain 2 |          | 00:00 Status"
      ]
     },
     "metadata": {},
     "output_type": "display_data"
    },
    {
     "data": {
      "application/vnd.jupyter.widget-view+json": {
       "model_id": "4bf40093a9ca43349dccb02d7a9e4cd7",
       "version_major": 2,
       "version_minor": 0
      },
      "text/plain": [
       "chain 3 |          | 00:00 Status"
      ]
     },
     "metadata": {},
     "output_type": "display_data"
    },
    {
     "data": {
      "application/vnd.jupyter.widget-view+json": {
       "model_id": "ff7d73933ebd49a8a695eab2a5c6a816",
       "version_major": 2,
       "version_minor": 0
      },
      "text/plain": [
       "chain 4 |          | 00:00 Status"
      ]
     },
     "metadata": {},
     "output_type": "display_data"
    },
    {
     "name": "stdout",
     "output_type": "stream",
     "text": [
      "                                                                                                                                                                                                                                                                                                                                "
     ]
    },
    {
     "name": "stderr",
     "output_type": "stream",
     "text": [
      "10:50:27 - cmdstanpy - INFO - CmdStan done processing.\n",
      "10:50:27 - cmdstanpy - INFO - created output directory: /Users/zhafen/repos/citesim/analysis_data/stan_fits/stan_fit_100/SBERT + nondens\n",
      "10:50:27 - cmdstanpy - INFO - CmdStan start processing\n"
     ]
    },
    {
     "name": "stdout",
     "output_type": "stream",
     "text": [
      "\n"
     ]
    },
    {
     "data": {
      "application/vnd.jupyter.widget-view+json": {
       "model_id": "a4763c7318e044578ce0cb0f36b8f980",
       "version_major": 2,
       "version_minor": 0
      },
      "text/plain": [
       "chain 1 |          | 00:00 Status"
      ]
     },
     "metadata": {},
     "output_type": "display_data"
    },
    {
     "data": {
      "application/vnd.jupyter.widget-view+json": {
       "model_id": "c3dbe6ecec224e2cbf07878df78a509f",
       "version_major": 2,
       "version_minor": 0
      },
      "text/plain": [
       "chain 2 |          | 00:00 Status"
      ]
     },
     "metadata": {},
     "output_type": "display_data"
    },
    {
     "data": {
      "application/vnd.jupyter.widget-view+json": {
       "model_id": "a64a672e7036481abfaf803771ef4f85",
       "version_major": 2,
       "version_minor": 0
      },
      "text/plain": [
       "chain 3 |          | 00:00 Status"
      ]
     },
     "metadata": {},
     "output_type": "display_data"
    },
    {
     "data": {
      "application/vnd.jupyter.widget-view+json": {
       "model_id": "65ec5e65701240c2ad2875334b333a70",
       "version_major": 2,
       "version_minor": 0
      },
      "text/plain": [
       "chain 4 |          | 00:00 Status"
      ]
     },
     "metadata": {},
     "output_type": "display_data"
    },
    {
     "name": "stdout",
     "output_type": "stream",
     "text": [
      "                                                                                                                                                                                                                                                                                                                                "
     ]
    },
    {
     "name": "stderr",
     "output_type": "stream",
     "text": [
      "10:50:27 - cmdstanpy - INFO - CmdStan done processing.\n"
     ]
    },
    {
     "name": "stdout",
     "output_type": "stream",
     "text": [
      "\n"
     ]
    },
    {
     "name": "stderr",
     "output_type": "stream",
     "text": [
      "10:50:27 - cmdstanpy - INFO - created output directory: /Users/zhafen/repos/citesim/analysis_data/stan_fits/stan_fit_100/SciBERT + nondens\n",
      "10:50:27 - cmdstanpy - INFO - CmdStan start processing\n"
     ]
    },
    {
     "data": {
      "application/vnd.jupyter.widget-view+json": {
       "model_id": "f96dafcbb28046728b733d5f72a0eb0d",
       "version_major": 2,
       "version_minor": 0
      },
      "text/plain": [
       "chain 1 |          | 00:00 Status"
      ]
     },
     "metadata": {},
     "output_type": "display_data"
    },
    {
     "data": {
      "application/vnd.jupyter.widget-view+json": {
       "model_id": "257ef9c41d654519a04ff4a9efeb91e7",
       "version_major": 2,
       "version_minor": 0
      },
      "text/plain": [
       "chain 2 |          | 00:00 Status"
      ]
     },
     "metadata": {},
     "output_type": "display_data"
    },
    {
     "data": {
      "application/vnd.jupyter.widget-view+json": {
       "model_id": "5c798c740cf84029a64453e7007ab570",
       "version_major": 2,
       "version_minor": 0
      },
      "text/plain": [
       "chain 3 |          | 00:00 Status"
      ]
     },
     "metadata": {},
     "output_type": "display_data"
    },
    {
     "data": {
      "application/vnd.jupyter.widget-view+json": {
       "model_id": "264335ccd6b749c7a4189c81569f379b",
       "version_major": 2,
       "version_minor": 0
      },
      "text/plain": [
       "chain 4 |          | 00:00 Status"
      ]
     },
     "metadata": {},
     "output_type": "display_data"
    },
    {
     "name": "stdout",
     "output_type": "stream",
     "text": [
      "                                                                                                                                                                                                                                                                                                                                "
     ]
    },
    {
     "name": "stderr",
     "output_type": "stream",
     "text": [
      "10:50:27 - cmdstanpy - INFO - CmdStan done processing.\n",
      "10:50:28 - cmdstanpy - WARNING - Non-fatal error during sampling:\n",
      "Exception: normal_lpdf: Scale parameter is 0, but must be positive! (in 'multireg.stan', line 31, column 4 to column 45)\n",
      "Exception: normal_lpdf: Scale parameter is 0, but must be positive! (in 'multireg.stan', line 31, column 4 to column 45)\n",
      "Consider re-running with show_console=True if the above output is unclear!\n"
     ]
    },
    {
     "name": "stdout",
     "output_type": "stream",
     "text": [
      "\n"
     ]
    },
    {
     "name": "stderr",
     "output_type": "stream",
     "text": [
      "10:50:28 - cmdstanpy - INFO - created output directory: /Users/zhafen/repos/citesim/analysis_data/stan_fits/stan_fit_100/Word2Vec + nondens\n",
      "10:50:28 - cmdstanpy - INFO - CmdStan start processing\n"
     ]
    },
    {
     "data": {
      "application/vnd.jupyter.widget-view+json": {
       "model_id": "046c036b02924b799147bfca790ba96a",
       "version_major": 2,
       "version_minor": 0
      },
      "text/plain": [
       "chain 1 |          | 00:00 Status"
      ]
     },
     "metadata": {},
     "output_type": "display_data"
    },
    {
     "data": {
      "application/vnd.jupyter.widget-view+json": {
       "model_id": "f683f8f9bbf14d9c829ed61cdac2f5bd",
       "version_major": 2,
       "version_minor": 0
      },
      "text/plain": [
       "chain 2 |          | 00:00 Status"
      ]
     },
     "metadata": {},
     "output_type": "display_data"
    },
    {
     "data": {
      "application/vnd.jupyter.widget-view+json": {
       "model_id": "ca0af4d94b704681a2cd380a4213045c",
       "version_major": 2,
       "version_minor": 0
      },
      "text/plain": [
       "chain 3 |          | 00:00 Status"
      ]
     },
     "metadata": {},
     "output_type": "display_data"
    },
    {
     "data": {
      "application/vnd.jupyter.widget-view+json": {
       "model_id": "07a5c7888ef3490289fdc23507154d8a",
       "version_major": 2,
       "version_minor": 0
      },
      "text/plain": [
       "chain 4 |          | 00:00 Status"
      ]
     },
     "metadata": {},
     "output_type": "display_data"
    },
    {
     "name": "stdout",
     "output_type": "stream",
     "text": [
      "                                                                                                                                                                                                                                                                                                                                "
     ]
    },
    {
     "name": "stderr",
     "output_type": "stream",
     "text": [
      "10:50:28 - cmdstanpy - INFO - CmdStan done processing.\n",
      "10:50:28 - cmdstanpy - WARNING - Non-fatal error during sampling:\n",
      "Exception: normal_lpdf: Scale parameter is 0, but must be positive! (in 'multireg.stan', line 31, column 4 to column 45)\n",
      "Consider re-running with show_console=True if the above output is unclear!\n"
     ]
    },
    {
     "name": "stdout",
     "output_type": "stream",
     "text": [
      "\n"
     ]
    }
   ],
   "source": [
    "# Dictionary to hold modeling output\n",
    "\n",
    "# Loop through vectorizers\n",
    "outputs_for_this_model = {}\n",
    "for i, vectorizer_i in enumerate(vectorizer_names):\n",
    "    output = {}\n",
    "\n",
    "    model_name = f\"{vectorizer_i} + nondens\"\n",
    "\n",
    "    # Drop na\n",
    "    fit_cols = [\n",
    "        vectorizer_i,\n",
    "    ] + config[\"nonden_fit_cols\"]\n",
    "    cols = [\n",
    "        \"log_cpy\",\n",
    "    ] + fit_cols\n",
    "    df_train_i = df_train.dropna(subset=cols)\n",
    "    df_test_i = df_train.dropna(subset=cols)\n",
    "\n",
    "    # Format data\n",
    "    data = {\n",
    "        \"N\": len(df_train_i),\n",
    "        \"K\": len(fit_cols),\n",
    "        \"x\": df_train_i[fit_cols].values,\n",
    "        \"y\": df_train_i[\"log_cpy\"].values,\n",
    "        \"N_test\": len(df_test_i),\n",
    "        \"x_test\": df_test_i[fit_cols].values,\n",
    "        \"y_test\": df_test_i[\"log_cpy\"].values,\n",
    "    }\n",
    "\n",
    "    # Compile model\n",
    "    model = cmdstanpy.CmdStanModel(stan_file=f\"../stan_models/{stan_model}.stan\")\n",
    "\n",
    "    # Fit model\n",
    "    if not config[\"output_dir\"] is None:\n",
    "        output_dir = os.path.join(config[\"output_dir\"], model_name)\n",
    "    fit = model.sample(\n",
    "        data=data,\n",
    "        output_dir=output_dir\n",
    "    )\n",
    "\n",
    "    # Parse output\n",
    "    draws = fit.draws_pd()\n",
    "\n",
    "    # Store parameters\n",
    "    output[\"alpha\"] = draws[\"alpha\"].median()\n",
    "    output[\"sigma\"] = draws[\"sigma\"].median()\n",
    "    beta_cols = [col for col in draws.columns if col[:4] == \"beta\"]\n",
    "    betas = draws[beta_cols].median(axis=\"rows\")\n",
    "    for i, fit_col in enumerate(fit_cols):\n",
    "        output[f\"beta[{fit_col}]\"] = betas.iloc[i]\n",
    "\n",
    "    # Calculate log posterior predictive density\n",
    "    output[\"log_ppd\"] = log_ppd(draws[\"log_p\"])\n",
    "\n",
    "    outputs_for_this_model[model_name] = output\n",
    "    results_dict[model_name] = output"
   ]
  },
  {
   "cell_type": "markdown",
   "metadata": {},
   "source": [
    "## Linear on all densities + non-density vars\n",
    "The next model is a multivate linear regression using every variable we have"
   ]
  },
  {
   "cell_type": "code",
   "execution_count": 52,
   "metadata": {},
   "outputs": [],
   "source": [
    "stan_model = \"multireg\"\n",
    "model_name = \"dens + nondens\""
   ]
  },
  {
   "cell_type": "code",
   "execution_count": 53,
   "metadata": {},
   "outputs": [],
   "source": [
    "fit_cols = config[\"nonden_fit_cols\"] + vectorizer_names\n",
    "cols = [\n",
    "    \"log_cpy\",\n",
    "] + fit_cols"
   ]
  },
  {
   "cell_type": "code",
   "execution_count": 54,
   "metadata": {},
   "outputs": [],
   "source": [
    "# Dict for storing output\n",
    "output = {}"
   ]
  },
  {
   "cell_type": "code",
   "execution_count": 55,
   "metadata": {},
   "outputs": [],
   "source": [
    "# Drop na\n",
    "df_train_i = df_train[cols].dropna()\n",
    "df_test_i = df_train[cols].dropna()"
   ]
  },
  {
   "cell_type": "code",
   "execution_count": 56,
   "metadata": {},
   "outputs": [],
   "source": [
    "# Format data\n",
    "data = {\n",
    "    \"N\": len(df_train_i),\n",
    "    \"K\": len(fit_cols),\n",
    "    \"x\": df_train_i[fit_cols].values,\n",
    "    \"y\": df_train_i[\"log_cpy\"].values,\n",
    "    \"N_test\": len(df_test_i),\n",
    "    \"x_test\": df_test_i[fit_cols].values,\n",
    "    \"y_test\": df_test_i[\"log_cpy\"].values,\n",
    "}"
   ]
  },
  {
   "cell_type": "code",
   "execution_count": 57,
   "metadata": {},
   "outputs": [],
   "source": [
    "# Compile model\n",
    "model = cmdstanpy.CmdStanModel(stan_file=f\"../stan_models/{stan_model}.stan\")"
   ]
  },
  {
   "cell_type": "code",
   "execution_count": 58,
   "metadata": {},
   "outputs": [
    {
     "name": "stderr",
     "output_type": "stream",
     "text": [
      "10:50:28 - cmdstanpy - INFO - created output directory: /Users/zhafen/repos/citesim/analysis_data/stan_fits/stan_fit_100/dens + nondens\n",
      "10:50:28 - cmdstanpy - INFO - CmdStan start processing\n"
     ]
    },
    {
     "data": {
      "application/vnd.jupyter.widget-view+json": {
       "model_id": "913db60680a34197b0e596a24aaac4e0",
       "version_major": 2,
       "version_minor": 0
      },
      "text/plain": [
       "chain 1 |          | 00:00 Status"
      ]
     },
     "metadata": {},
     "output_type": "display_data"
    },
    {
     "data": {
      "application/vnd.jupyter.widget-view+json": {
       "model_id": "8b71dacf65c74dacbc03683c50f26cc1",
       "version_major": 2,
       "version_minor": 0
      },
      "text/plain": [
       "chain 2 |          | 00:00 Status"
      ]
     },
     "metadata": {},
     "output_type": "display_data"
    },
    {
     "data": {
      "application/vnd.jupyter.widget-view+json": {
       "model_id": "854dec0ffa024b7f8e8cdae3fb27446a",
       "version_major": 2,
       "version_minor": 0
      },
      "text/plain": [
       "chain 3 |          | 00:00 Status"
      ]
     },
     "metadata": {},
     "output_type": "display_data"
    },
    {
     "data": {
      "application/vnd.jupyter.widget-view+json": {
       "model_id": "f2a136fc30a7412bb22d19e23fd57fac",
       "version_major": 2,
       "version_minor": 0
      },
      "text/plain": [
       "chain 4 |          | 00:00 Status"
      ]
     },
     "metadata": {},
     "output_type": "display_data"
    },
    {
     "name": "stdout",
     "output_type": "stream",
     "text": [
      "                                                                                                                                                                                                                                                                                                                                "
     ]
    },
    {
     "name": "stderr",
     "output_type": "stream",
     "text": [
      "10:50:29 - cmdstanpy - INFO - CmdStan done processing.\n"
     ]
    },
    {
     "name": "stdout",
     "output_type": "stream",
     "text": [
      "\n"
     ]
    }
   ],
   "source": [
    "# Fit model\n",
    "if not config[\"output_dir\"] is None:\n",
    "    output_dir = os.path.join(config[\"output_dir\"], model_name)\n",
    "fit = model.sample(\n",
    "    data=data,\n",
    "    output_dir=output_dir\n",
    ")"
   ]
  },
  {
   "cell_type": "code",
   "execution_count": 59,
   "metadata": {},
   "outputs": [],
   "source": [
    "# Parse output\n",
    "draws = fit.draws_pd()"
   ]
  },
  {
   "cell_type": "code",
   "execution_count": 60,
   "metadata": {},
   "outputs": [],
   "source": [
    "# Store parameters\n",
    "output[\"alpha\"] = draws[\"alpha\"].median()\n",
    "output[\"sigma\"] = draws[\"sigma\"].median()\n",
    "beta_cols = [col for col in draws.columns if col[:4] == \"beta\"]\n",
    "betas = draws[beta_cols].median(axis=\"rows\")\n",
    "for i, fit_col in enumerate(fit_cols):\n",
    "    output[f\"beta[{fit_col}]\"] = betas.iloc[i]"
   ]
  },
  {
   "cell_type": "code",
   "execution_count": 61,
   "metadata": {},
   "outputs": [],
   "source": [
    "# Calculate log posterior predictive density\n",
    "output[\"log_ppd\"] = log_ppd(draws[\"log_p\"])"
   ]
  },
  {
   "cell_type": "code",
   "execution_count": 62,
   "metadata": {},
   "outputs": [],
   "source": [
    "results_dict[model_name] = pd.Series(output)"
   ]
  },
  {
   "cell_type": "markdown",
   "metadata": {},
   "source": [
    "## Hierarchical on non-density vars"
   ]
  },
  {
   "cell_type": "code",
   "execution_count": 63,
   "metadata": {},
   "outputs": [],
   "source": [
    "stan_model = \"hreg\""
   ]
  },
  {
   "cell_type": "code",
   "execution_count": 64,
   "metadata": {},
   "outputs": [],
   "source": [
    "y_col = \"log_cpy_j\""
   ]
  },
  {
   "cell_type": "markdown",
   "metadata": {},
   "source": [
    "### Fit"
   ]
  },
  {
   "cell_type": "code",
   "execution_count": 65,
   "metadata": {},
   "outputs": [
    {
     "name": "stderr",
     "output_type": "stream",
     "text": [
      "10:50:29 - cmdstanpy - INFO - created output directory: /Users/zhafen/repos/citesim/analysis_data/stan_fits/stan_fit_100/h-nondens\n",
      "10:50:29 - cmdstanpy - INFO - CmdStan start processing\n"
     ]
    },
    {
     "data": {
      "application/vnd.jupyter.widget-view+json": {
       "model_id": "65a26971cbbd497885fb719fec8f2a65",
       "version_major": 2,
       "version_minor": 0
      },
      "text/plain": [
       "chain 1 |          | 00:00 Status"
      ]
     },
     "metadata": {},
     "output_type": "display_data"
    },
    {
     "data": {
      "application/vnd.jupyter.widget-view+json": {
       "model_id": "9070e4ff8fa2417bb1c890dbd187de76",
       "version_major": 2,
       "version_minor": 0
      },
      "text/plain": [
       "chain 2 |          | 00:00 Status"
      ]
     },
     "metadata": {},
     "output_type": "display_data"
    },
    {
     "data": {
      "application/vnd.jupyter.widget-view+json": {
       "model_id": "ff0ed30571dc45e7a4e89c3e82be7ba1",
       "version_major": 2,
       "version_minor": 0
      },
      "text/plain": [
       "chain 3 |          | 00:00 Status"
      ]
     },
     "metadata": {},
     "output_type": "display_data"
    },
    {
     "data": {
      "application/vnd.jupyter.widget-view+json": {
       "model_id": "e23b13defb6a43078ff523c983e73894",
       "version_major": 2,
       "version_minor": 0
      },
      "text/plain": [
       "chain 4 |          | 00:00 Status"
      ]
     },
     "metadata": {},
     "output_type": "display_data"
    },
    {
     "name": "stdout",
     "output_type": "stream",
     "text": [
      "                                                                                                                                                                                                                                                                                                                                "
     ]
    },
    {
     "name": "stderr",
     "output_type": "stream",
     "text": [
      "10:50:30 - cmdstanpy - INFO - CmdStan done processing.\n",
      "10:50:30 - cmdstanpy - WARNING - Non-fatal error during sampling:\n",
      "Exception: normal_lpdf: Scale parameter is 0, but must be positive! (in 'hreg.stan', line 34, column 4 to column 26)\n",
      "Exception: normal_lpdf: Scale parameter[2] is 0, but must be positive! (in 'hreg.stan', line 26, column 8 to column 46)\n",
      "Consider re-running with show_console=True if the above output is unclear!\n",
      "10:50:30 - cmdstanpy - WARNING - Some chains may have failed to converge.\n",
      "\tChain 1 had 47 divergent transitions (4.7%)\n",
      "\tChain 2 had 14 divergent transitions (1.4%)\n",
      "\tChain 3 had 96 divergent transitions (9.6%)\n",
      "\tChain 4 had 50 divergent transitions (5.0%)\n",
      "\tUse the \"diagnose()\" method on the CmdStanMCMC object to see further information.\n"
     ]
    },
    {
     "name": "stdout",
     "output_type": "stream",
     "text": [
      "\n"
     ]
    }
   ],
   "source": [
    "output = {\n",
    "    \"y_col\": y_col,\n",
    "}\n",
    "\n",
    "model_name = f\"h-nondens\"\n",
    "\n",
    "# Drop na\n",
    "df_train_i = df_train.dropna()\n",
    "df_test_i = df_train.dropna()\n",
    "\n",
    "# Format data\n",
    "data = {\n",
    "    \"D\": len(scaled_nonden_fit_cols),\n",
    "    \"N\": len(df_train_i),\n",
    "    \"L\": df_train_i[config[\"cat_col\"]].max(),\n",
    "    \"y\": df_train_i[y_col].values,\n",
    "    \"ll\": df_train_i[config[\"cat_col\"]].values,\n",
    "    \"x\": df_train_i[scaled_nonden_fit_cols].values,\n",
    "    \"N_test\": len(df_test_i),\n",
    "    \"x_test\": df_test_i[scaled_nonden_fit_cols].values,\n",
    "    \"y_test\": df_test_i[y_col].values,\n",
    "}\n",
    "\n",
    "# Compile model\n",
    "model = cmdstanpy.CmdStanModel(stan_file=f\"../stan_models/{stan_model}.stan\")\n",
    "\n",
    "# Fit model\n",
    "if not config[\"output_dir\"] is None:\n",
    "    output_dir = os.path.join(config[\"output_dir\"], model_name)\n",
    "fit = model.sample(\n",
    "    data=data,\n",
    "    output_dir=output_dir\n",
    ")\n",
    "\n",
    "# Parse output\n",
    "stan_vars = fit.stan_variables()\n",
    "\n",
    "# Store parameters\n",
    "for param_key in [\"alpha\", \"sigma\"]:\n",
    "    output[param_key] = np.median(stan_vars[param_key])\n",
    "\n",
    "# Store per-field and per var betas\n",
    "betas = np.nanmedian(stan_vars[\"beta\"], axis=0)\n",
    "mu_betas = np.nanmedian(stan_vars[\"mu_beta\"], axis=0)\n",
    "mu_sigmas = np.nanmedian(stan_vars[\"mu_sigma\"], axis=0)\n",
    "for k, fit_col_k in enumerate(scaled_nonden_fit_cols):\n",
    "    for j, field_name_j in enumerate(field_names):\n",
    "        output[f\"beta[{fit_col_k},{field_names[j]}]\"] = betas[j][k]\n",
    "    output[f\"mu_beta[{fit_col_k}]\"] = mu_betas[k]\n",
    "    output[f\"mu_sigma[{fit_col_k}]\"] = mu_sigmas[k]\n",
    "\n",
    "# Calculate log posterior predictive density\n",
    "output[\"log_ppd\"] = log_ppd(draws[\"log_p\"])\n",
    "\n",
    "outputs_for_this_model[model_name] = output\n",
    "results_dict[model_name] = output"
   ]
  },
  {
   "cell_type": "markdown",
   "metadata": {},
   "source": [
    "## Hierarchical linear on one density"
   ]
  },
  {
   "cell_type": "code",
   "execution_count": 66,
   "metadata": {},
   "outputs": [],
   "source": [
    "stan_model = \"hreg\""
   ]
  },
  {
   "cell_type": "code",
   "execution_count": 67,
   "metadata": {},
   "outputs": [],
   "source": [
    "# Switch to per-field scalings\n",
    "y_col = \"log_cpy_j\""
   ]
  },
  {
   "cell_type": "markdown",
   "metadata": {},
   "source": [
    "### Fit"
   ]
  },
  {
   "cell_type": "code",
   "execution_count": 68,
   "metadata": {},
   "outputs": [
    {
     "name": "stderr",
     "output_type": "stream",
     "text": [
      "10:51:34 - cmdstanpy - INFO - created output directory: /Users/zhafen/repos/citesim/analysis_data/stan_fits/stan_fit_100/h-BOW_j\n",
      "10:51:34 - cmdstanpy - INFO - CmdStan start processing\n"
     ]
    },
    {
     "data": {
      "application/vnd.jupyter.widget-view+json": {
       "model_id": "c17e53dd326d427984ff8d7c083a172e",
       "version_major": 2,
       "version_minor": 0
      },
      "text/plain": [
       "chain 1 |          | 00:00 Status"
      ]
     },
     "metadata": {},
     "output_type": "display_data"
    },
    {
     "data": {
      "application/vnd.jupyter.widget-view+json": {
       "model_id": "f1e316200f804604b52e47cd51524aa6",
       "version_major": 2,
       "version_minor": 0
      },
      "text/plain": [
       "chain 2 |          | 00:00 Status"
      ]
     },
     "metadata": {},
     "output_type": "display_data"
    },
    {
     "data": {
      "application/vnd.jupyter.widget-view+json": {
       "model_id": "1eab913d6da744f1b5bd62d016ce4833",
       "version_major": 2,
       "version_minor": 0
      },
      "text/plain": [
       "chain 3 |          | 00:00 Status"
      ]
     },
     "metadata": {},
     "output_type": "display_data"
    },
    {
     "data": {
      "application/vnd.jupyter.widget-view+json": {
       "model_id": "d563094dc96748cea2085f15b747778c",
       "version_major": 2,
       "version_minor": 0
      },
      "text/plain": [
       "chain 4 |          | 00:00 Status"
      ]
     },
     "metadata": {},
     "output_type": "display_data"
    },
    {
     "name": "stdout",
     "output_type": "stream",
     "text": [
      "                                                                                                                                                                                                                                                                                                                                "
     ]
    },
    {
     "name": "stderr",
     "output_type": "stream",
     "text": [
      "10:51:35 - cmdstanpy - INFO - CmdStan done processing.\n",
      "10:51:35 - cmdstanpy - WARNING - Some chains may have failed to converge.\n",
      "\tChain 1 had 17 divergent transitions (1.7%)\n",
      "\tChain 2 had 27 divergent transitions (2.7%)\n",
      "\tChain 3 had 13 divergent transitions (1.3%)\n",
      "\tChain 4 had 33 divergent transitions (3.3%)\n",
      "\tUse the \"diagnose()\" method on the CmdStanMCMC object to see further information.\n"
     ]
    },
    {
     "name": "stdout",
     "output_type": "stream",
     "text": [
      "\n"
     ]
    },
    {
     "name": "stderr",
     "output_type": "stream",
     "text": [
      "10:51:35 - cmdstanpy - INFO - created output directory: /Users/zhafen/repos/citesim/analysis_data/stan_fits/stan_fit_100/h-GPT2_j\n",
      "10:51:35 - cmdstanpy - INFO - CmdStan start processing\n"
     ]
    },
    {
     "data": {
      "application/vnd.jupyter.widget-view+json": {
       "model_id": "397bbc0b4dd247dabd0a43c8ead0d42c",
       "version_major": 2,
       "version_minor": 0
      },
      "text/plain": [
       "chain 1 |          | 00:00 Status"
      ]
     },
     "metadata": {},
     "output_type": "display_data"
    },
    {
     "data": {
      "application/vnd.jupyter.widget-view+json": {
       "model_id": "e4b056dcd4f54ca0a075b3a7bcd1c4b2",
       "version_major": 2,
       "version_minor": 0
      },
      "text/plain": [
       "chain 2 |          | 00:00 Status"
      ]
     },
     "metadata": {},
     "output_type": "display_data"
    },
    {
     "data": {
      "application/vnd.jupyter.widget-view+json": {
       "model_id": "1ad6c5d729c94e4eb0df66b74545f8c8",
       "version_major": 2,
       "version_minor": 0
      },
      "text/plain": [
       "chain 3 |          | 00:00 Status"
      ]
     },
     "metadata": {},
     "output_type": "display_data"
    },
    {
     "data": {
      "application/vnd.jupyter.widget-view+json": {
       "model_id": "b7d8163a0e894c2d9e1f4100e4110dd8",
       "version_major": 2,
       "version_minor": 0
      },
      "text/plain": [
       "chain 4 |          | 00:00 Status"
      ]
     },
     "metadata": {},
     "output_type": "display_data"
    },
    {
     "name": "stdout",
     "output_type": "stream",
     "text": [
      "                                                                                                                                                                                                                                                                                                                                "
     ]
    },
    {
     "name": "stderr",
     "output_type": "stream",
     "text": [
      "10:51:36 - cmdstanpy - INFO - CmdStan done processing.\n",
      "10:51:36 - cmdstanpy - WARNING - Some chains may have failed to converge.\n",
      "\tChain 1 had 7 divergent transitions (0.7%)\n",
      "\tChain 2 had 7 divergent transitions (0.7%)\n",
      "\tChain 3 had 47 divergent transitions (4.7%)\n",
      "\tChain 4 had 85 divergent transitions (8.5%)\n",
      "\tUse the \"diagnose()\" method on the CmdStanMCMC object to see further information.\n"
     ]
    },
    {
     "name": "stdout",
     "output_type": "stream",
     "text": [
      "\n"
     ]
    },
    {
     "name": "stderr",
     "output_type": "stream",
     "text": [
      "10:51:36 - cmdstanpy - INFO - created output directory: /Users/zhafen/repos/citesim/analysis_data/stan_fits/stan_fit_100/h-SBERT_j\n",
      "10:51:36 - cmdstanpy - INFO - CmdStan start processing\n"
     ]
    },
    {
     "data": {
      "application/vnd.jupyter.widget-view+json": {
       "model_id": "a533191207de49309f20b3150e924a92",
       "version_major": 2,
       "version_minor": 0
      },
      "text/plain": [
       "chain 1 |          | 00:00 Status"
      ]
     },
     "metadata": {},
     "output_type": "display_data"
    },
    {
     "data": {
      "application/vnd.jupyter.widget-view+json": {
       "model_id": "419ba00a450e4b769a5c2b3787ab6e39",
       "version_major": 2,
       "version_minor": 0
      },
      "text/plain": [
       "chain 2 |          | 00:00 Status"
      ]
     },
     "metadata": {},
     "output_type": "display_data"
    },
    {
     "data": {
      "application/vnd.jupyter.widget-view+json": {
       "model_id": "e9cf72d2aa68485f95bacf33678938b1",
       "version_major": 2,
       "version_minor": 0
      },
      "text/plain": [
       "chain 3 |          | 00:00 Status"
      ]
     },
     "metadata": {},
     "output_type": "display_data"
    },
    {
     "data": {
      "application/vnd.jupyter.widget-view+json": {
       "model_id": "b2dcafafcf7d40bb8ff483ba8d40cd69",
       "version_major": 2,
       "version_minor": 0
      },
      "text/plain": [
       "chain 4 |          | 00:00 Status"
      ]
     },
     "metadata": {},
     "output_type": "display_data"
    },
    {
     "name": "stdout",
     "output_type": "stream",
     "text": [
      "                                                                                                                                                                                                                                                                                                                                "
     ]
    },
    {
     "name": "stderr",
     "output_type": "stream",
     "text": [
      "10:51:38 - cmdstanpy - INFO - CmdStan done processing.\n",
      "10:51:38 - cmdstanpy - WARNING - Non-fatal error during sampling:\n",
      "Exception: normal_lpdf: Scale parameter is 0, but must be positive! (in 'hreg.stan', line 34, column 4 to column 26)\n",
      "Consider re-running with show_console=True if the above output is unclear!\n",
      "10:51:38 - cmdstanpy - WARNING - Some chains may have failed to converge.\n",
      "\tChain 1 had 4 divergent transitions (0.4%)\n",
      "\tChain 2 had 46 divergent transitions (4.6%)\n",
      "\tChain 3 had 8 divergent transitions (0.8%)\n",
      "\tChain 4 had 10 divergent transitions (1.0%)\n",
      "\tUse the \"diagnose()\" method on the CmdStanMCMC object to see further information.\n"
     ]
    },
    {
     "name": "stdout",
     "output_type": "stream",
     "text": [
      "\n"
     ]
    },
    {
     "name": "stderr",
     "output_type": "stream",
     "text": [
      "10:51:38 - cmdstanpy - INFO - created output directory: /Users/zhafen/repos/citesim/analysis_data/stan_fits/stan_fit_100/h-SciBERT_j\n",
      "10:51:38 - cmdstanpy - INFO - CmdStan start processing\n"
     ]
    },
    {
     "data": {
      "application/vnd.jupyter.widget-view+json": {
       "model_id": "23387e93a95e4d9a9a0cceaba9a35583",
       "version_major": 2,
       "version_minor": 0
      },
      "text/plain": [
       "chain 1 |          | 00:00 Status"
      ]
     },
     "metadata": {},
     "output_type": "display_data"
    },
    {
     "data": {
      "application/vnd.jupyter.widget-view+json": {
       "model_id": "16a73628da08404ca36a2a5d74b50e71",
       "version_major": 2,
       "version_minor": 0
      },
      "text/plain": [
       "chain 2 |          | 00:00 Status"
      ]
     },
     "metadata": {},
     "output_type": "display_data"
    },
    {
     "data": {
      "application/vnd.jupyter.widget-view+json": {
       "model_id": "3a1bb3900ec246698a2c1cb3df6f4e75",
       "version_major": 2,
       "version_minor": 0
      },
      "text/plain": [
       "chain 3 |          | 00:00 Status"
      ]
     },
     "metadata": {},
     "output_type": "display_data"
    },
    {
     "data": {
      "application/vnd.jupyter.widget-view+json": {
       "model_id": "b4d8151169b847d1b8e0a65e1026951c",
       "version_major": 2,
       "version_minor": 0
      },
      "text/plain": [
       "chain 4 |          | 00:00 Status"
      ]
     },
     "metadata": {},
     "output_type": "display_data"
    },
    {
     "name": "stdout",
     "output_type": "stream",
     "text": [
      "                                                                                                                                                                                                                                                                                                                                "
     ]
    },
    {
     "name": "stderr",
     "output_type": "stream",
     "text": [
      "10:51:40 - cmdstanpy - INFO - CmdStan done processing.\n",
      "10:51:40 - cmdstanpy - WARNING - Non-fatal error during sampling:\n",
      "Exception: normal_lpdf: Scale parameter[1] is 0, but must be positive! (in 'hreg.stan', line 26, column 8 to column 46)\n",
      "Consider re-running with show_console=True if the above output is unclear!\n",
      "10:51:40 - cmdstanpy - WARNING - Some chains may have failed to converge.\n",
      "\tChain 1 had 19 divergent transitions (1.9%)\n",
      "\tChain 2 had 8 divergent transitions (0.8%)\n",
      "\tChain 3 had 3 divergent transitions (0.3%)\n",
      "\tChain 4 had 6 divergent transitions (0.6%)\n",
      "\tUse the \"diagnose()\" method on the CmdStanMCMC object to see further information.\n"
     ]
    },
    {
     "name": "stdout",
     "output_type": "stream",
     "text": [
      "\n"
     ]
    },
    {
     "name": "stderr",
     "output_type": "stream",
     "text": [
      "10:51:40 - cmdstanpy - INFO - created output directory: /Users/zhafen/repos/citesim/analysis_data/stan_fits/stan_fit_100/h-Word2Vec_j\n",
      "10:51:40 - cmdstanpy - INFO - CmdStan start processing\n"
     ]
    },
    {
     "data": {
      "application/vnd.jupyter.widget-view+json": {
       "model_id": "589b597c06df419eaf0d8dee68a54d7d",
       "version_major": 2,
       "version_minor": 0
      },
      "text/plain": [
       "chain 1 |          | 00:00 Status"
      ]
     },
     "metadata": {},
     "output_type": "display_data"
    },
    {
     "data": {
      "application/vnd.jupyter.widget-view+json": {
       "model_id": "6a4da596c59544e6a861ec12f42119d3",
       "version_major": 2,
       "version_minor": 0
      },
      "text/plain": [
       "chain 2 |          | 00:00 Status"
      ]
     },
     "metadata": {},
     "output_type": "display_data"
    },
    {
     "data": {
      "application/vnd.jupyter.widget-view+json": {
       "model_id": "e0304a87dfcf49ecbc3b6e86936682fb",
       "version_major": 2,
       "version_minor": 0
      },
      "text/plain": [
       "chain 3 |          | 00:00 Status"
      ]
     },
     "metadata": {},
     "output_type": "display_data"
    },
    {
     "data": {
      "application/vnd.jupyter.widget-view+json": {
       "model_id": "299c9a5d5bb14fdf8ee6dde6e55f0c7d",
       "version_major": 2,
       "version_minor": 0
      },
      "text/plain": [
       "chain 4 |          | 00:00 Status"
      ]
     },
     "metadata": {},
     "output_type": "display_data"
    },
    {
     "name": "stdout",
     "output_type": "stream",
     "text": [
      "                                                                                                                                                                                                                                                                                                                                "
     ]
    },
    {
     "name": "stderr",
     "output_type": "stream",
     "text": [
      "10:51:42 - cmdstanpy - INFO - CmdStan done processing.\n",
      "10:51:42 - cmdstanpy - WARNING - Non-fatal error during sampling:\n",
      "Exception: normal_lpdf: Scale parameter is 0, but must be positive! (in 'hreg.stan', line 34, column 4 to column 26)\n",
      "Exception: normal_lpdf: Scale parameter[1] is 0, but must be positive! (in 'hreg.stan', line 26, column 8 to column 46)\n",
      "Consider re-running with show_console=True if the above output is unclear!\n",
      "10:51:42 - cmdstanpy - WARNING - Some chains may have failed to converge.\n",
      "\tChain 1 had 22 divergent transitions (2.2%)\n",
      "\tChain 2 had 14 divergent transitions (1.4%)\n",
      "\tChain 3 had 21 divergent transitions (2.1%)\n",
      "\tChain 4 had 16 divergent transitions (1.6%)\n",
      "\tUse the \"diagnose()\" method on the CmdStanMCMC object to see further information.\n"
     ]
    },
    {
     "name": "stdout",
     "output_type": "stream",
     "text": [
      "\n"
     ]
    }
   ],
   "source": [
    "# Dictionary to hold modeling output\n",
    "\n",
    "# Loop through vectorizers\n",
    "outputs_for_this_model = {}\n",
    "for i, vectorizer_i in enumerate(scaled_vectorizer_cols):\n",
    "    output = {\n",
    "        \"y_col\": y_col,\n",
    "    }\n",
    "\n",
    "    model_name = f\"h-{vectorizer_i}\"\n",
    "\n",
    "    # Drop na\n",
    "    df_train_i = df_train.dropna(subset=[vectorizer_i, y_col])\n",
    "    df_test_i = df_train.dropna(subset=[vectorizer_i, y_col])\n",
    "\n",
    "    # Format data\n",
    "    data = {\n",
    "        \"D\": 1,\n",
    "        \"N\": len(df_train_i),\n",
    "        \"L\": df_train_i[config[\"cat_col\"]].max(),\n",
    "        \"y\": df_train_i[y_col].values,\n",
    "        \"ll\": df_train_i[config[\"cat_col\"]].values,\n",
    "        \"x\": df_train_i[[vectorizer_i]].values,\n",
    "        \"N_test\": len(df_test_i),\n",
    "        \"x_test\": df_test_i[[vectorizer_i]].values,\n",
    "        \"y_test\": df_test_i[y_col].values,\n",
    "    }\n",
    "\n",
    "    # Compile model\n",
    "    model = cmdstanpy.CmdStanModel(stan_file=f\"../stan_models/{stan_model}.stan\")\n",
    "\n",
    "    # Fit model\n",
    "    if not config[\"output_dir\"] is None:\n",
    "        output_dir = os.path.join(config[\"output_dir\"], model_name)\n",
    "    fit = model.sample(\n",
    "        data=data,\n",
    "        output_dir=output_dir\n",
    "    )\n",
    "\n",
    "    # Parse output\n",
    "    stan_vars = fit.stan_variables()\n",
    "\n",
    "    # Store parameters\n",
    "    output[\"alpha\"] = np.median(stan_vars[\"alpha\"])\n",
    "    output[\"sigma\"] = np.median(stan_vars[\"sigma\"])\n",
    "\n",
    "    # Store per-field betas\n",
    "    betas = np.nanmedian(stan_vars[\"beta\"], axis=0)\n",
    "    mu_betas = np.nanmedian(stan_vars[\"mu_beta\"], axis=0)\n",
    "    mu_sigmas = np.nanmedian(stan_vars[\"mu_sigma\"], axis=0)\n",
    "    for j, field_name_j in enumerate(field_names):\n",
    "        output[f\"beta[{vectorizer_i},{field_name_j}]\"] = betas[j][0]\n",
    "    output[f\"mu_beta[{vectorizer_i}]\"] = mu_betas[0]\n",
    "    output[f\"mu_sigma[{vectorizer_i}]\"] = mu_sigmas[0]\n",
    "\n",
    "    # Calculate log posterior predictive density\n",
    "    output[\"log_ppd\"] = log_ppd(draws[\"log_p\"])\n",
    "\n",
    "    outputs_for_this_model[model_name] = output\n",
    "    results_dict[model_name] = output"
   ]
  },
  {
   "cell_type": "markdown",
   "metadata": {},
   "source": [
    "### Evaluate"
   ]
  },
  {
   "cell_type": "code",
   "execution_count": 72,
   "metadata": {},
   "outputs": [],
   "source": [
    "# Format for showing here\n",
    "output = pd.DataFrame(outputs_for_this_model).T\n",
    "output[\"vectorizer\"] = scaled_vectorizer_cols"
   ]
  },
  {
   "cell_type": "code",
   "execution_count": null,
   "metadata": {},
   "outputs": [],
   "source": [
    "fig = plt.figure(figsize=(6.4 * len(field_names), 4.8 * len(scaled_vectorizer_cols)))\n",
    "mosaic = [[f\"{vectorizer_i}_{field_j}\" for field_j in field_names] for vectorizer_i in scaled_vectorizer_cols]\n",
    "ax_dict = fig.subplot_mosaic(mosaic=mosaic)\n",
    "for i, (model_i, row) in enumerate(output.iterrows()):\n",
    "    vectorizer_i = row[\"vectorizer\"]\n",
    "    for j, field_j in enumerate(field_names):\n",
    "\n",
    "        ax_key = f\"{vectorizer_i}_{field_j}\" \n",
    "        ax = ax_dict[ax_key]\n",
    "\n",
    "        df_plot = df_eval.query(f\"stan_field_code == {j+1}\")\n",
    "\n",
    "        medianplot(\n",
    "            data=df_plot,\n",
    "            x=row[\"vectorizer\"],\n",
    "            y=y_col,\n",
    "            bins=bins,\n",
    "            ax=ax,\n",
    "        )\n",
    "\n",
    "        # Plot the regression\n",
    "        xs = bins\n",
    "        ys = row[\"alpha\"] + row[f\"beta[{row[\"vectorizer\"]},{field_j}]\"] * xs\n",
    "        ax.plot(\n",
    "            xs,\n",
    "            ys,\n",
    "            color=palette[0],\n",
    "        )\n",
    "        ax.fill_between(\n",
    "            xs,\n",
    "            ys - row[\"sigma\"],\n",
    "            ys + row[\"sigma\"],\n",
    "            color=palette[0],\n",
    "            alpha=0.4,\n",
    "        )\n",
    "\n",
    "        ax.set_xlabel(f\"density [{row[\"vectorizer\"]},{field_j}]\")\n",
    "        ax.set_ylabel(y_col)\n",
    "\n",
    "        ax.set_ylim(-1.5, 1.5)\n",
    "\n",
    "        "
   ]
  },
  {
   "cell_type": "markdown",
   "metadata": {},
   "source": [
    "## Hierarchical linear on one density + nondenvars"
   ]
  },
  {
   "cell_type": "code",
   "execution_count": 77,
   "metadata": {},
   "outputs": [],
   "source": [
    "stan_model = \"hreg\""
   ]
  },
  {
   "cell_type": "code",
   "execution_count": 78,
   "metadata": {},
   "outputs": [],
   "source": [
    "# Switch to per-field scalings\n",
    "y_col = \"log_cpy_j\""
   ]
  },
  {
   "cell_type": "markdown",
   "metadata": {},
   "source": [
    "### Fit"
   ]
  },
  {
   "cell_type": "code",
   "execution_count": null,
   "metadata": {},
   "outputs": [],
   "source": [
    "# Loop through vectorizers\n",
    "outputs_for_this_model = {}\n",
    "for i, vectorizer_i in enumerate(scaled_vectorizer_cols):\n",
    "    output = {\n",
    "        \"y_col\": y_col,\n",
    "    }\n",
    "\n",
    "    model_name = f\"h-{vectorizer_i} + h-nondens\"\n",
    "\n",
    "    # Drop na\n",
    "    df_train_i = df_train.dropna(subset=[vectorizer_i, y_col])\n",
    "    df_test_i = df_train.dropna(subset=[vectorizer_i, y_col])\n",
    "\n",
    "    fit_cols_i = scaled_nonden_fit_cols + [vectorizer_i, ]\n",
    "\n",
    "    # Format data\n",
    "    data = {\n",
    "        \"D\": len(fit_cols_i),\n",
    "        \"N\": len(df_train_i),\n",
    "        \"L\": df_train_i[config[\"cat_col\"]].max(),\n",
    "        \"y\": df_train_i[y_col].values,\n",
    "        \"ll\": df_train_i[config[\"cat_col\"]].values,\n",
    "        \"x\": df_train_i[fit_cols_i].values,\n",
    "        \"N_test\": len(df_test_i),\n",
    "        \"x_test\": df_test_i[fit_cols_i].values,\n",
    "        \"y_test\": df_test_i[y_col].values,\n",
    "    }\n",
    "\n",
    "    # Compile model\n",
    "    model = cmdstanpy.CmdStanModel(stan_file=f\"../stan_models/{stan_model}.stan\")\n",
    "\n",
    "    # Fit model\n",
    "    if not config[\"output_dir\"] is None:\n",
    "        output_dir = os.path.join(config[\"output_dir\"], model_name)\n",
    "    fit = model.sample(\n",
    "        data=data,\n",
    "        output_dir=output_dir\n",
    "    )\n",
    "\n",
    "    # Parse output\n",
    "    stan_vars = fit.stan_variables()\n",
    "\n",
    "    # Store parameters\n",
    "    output[\"alpha\"] = np.median(stan_vars[\"alpha\"])\n",
    "    output[\"sigma\"] = np.median(stan_vars[\"sigma\"])\n",
    "\n",
    "    # Store per-field and per var betas\n",
    "    betas = np.nanmedian(stan_vars[\"beta\"], axis=0)\n",
    "    mu_betas = np.nanmedian(stan_vars[\"mu_beta\"], axis=0)\n",
    "    mu_sigmas = np.nanmedian(stan_vars[\"mu_sigma\"], axis=0)\n",
    "    for k, fit_col_k in enumerate(fit_cols_i):\n",
    "        for j, field_name_j in enumerate(field_names):\n",
    "            output[f\"beta[{fit_col_k},{field_names[j]}]\"] = betas[j][k]\n",
    "        output[f\"mu_beta[{fit_col_k}]\"] = mu_betas[k]\n",
    "        output[f\"mu_sigma[{fit_col_k}]\"] = mu_sigmas[k]\n",
    "\n",
    "    # Calculate log posterior predictive density\n",
    "    output[\"log_ppd\"] = log_ppd(draws[\"log_p\"])\n",
    "\n",
    "    outputs_for_this_model[model_name] = output\n",
    "    results_dict[model_name] = output"
   ]
  },
  {
   "cell_type": "markdown",
   "metadata": {},
   "source": [
    "### Evaluate"
   ]
  },
  {
   "cell_type": "code",
   "execution_count": 77,
   "metadata": {},
   "outputs": [],
   "source": [
    "# Format for showing here\n",
    "output = pd.DataFrame(outputs_for_this_model).T\n",
    "output[\"vectorizer\"] = scaled_vectorizer_cols"
   ]
  },
  {
   "cell_type": "code",
   "execution_count": null,
   "metadata": {},
   "outputs": [],
   "source": [
    "fig = plt.figure(figsize=(6.4 * len(field_names), 4.8 * len(scaled_vectorizer_cols)))\n",
    "mosaic = [[f\"{vectorizer_i}_{field_j}\" for field_j in field_names] for vectorizer_i in scaled_vectorizer_cols]\n",
    "ax_dict = fig.subplot_mosaic(mosaic=mosaic)\n",
    "for i, (model_i, row) in enumerate(output.iterrows()):\n",
    "    vectorizer_i = row[\"vectorizer\"]\n",
    "    for j, field_j in enumerate(field_names):\n",
    "\n",
    "        ax_key = f\"{vectorizer_i}_{field_j}\" \n",
    "        ax = ax_dict[ax_key]\n",
    "\n",
    "        df_plot = df_eval.query(f\"stan_field_code == {j+1}\")\n",
    "\n",
    "        medianplot(\n",
    "            data=df_plot,\n",
    "            x=row[\"vectorizer\"],\n",
    "            y=y_col,\n",
    "            bins=bins,\n",
    "            ax=ax,\n",
    "        )\n",
    "\n",
    "        # Plot the regression\n",
    "        xs = bins\n",
    "        ys = row[\"alpha\"] + row[f\"beta[{row[\"vectorizer\"]},{field_j}]\"] * xs\n",
    "        ax.plot(\n",
    "            xs,\n",
    "            ys,\n",
    "            color=palette[0],\n",
    "        )\n",
    "        ax.fill_between(\n",
    "            xs,\n",
    "            ys - row[\"sigma\"],\n",
    "            ys + row[\"sigma\"],\n",
    "            color=palette[0],\n",
    "            alpha=0.4,\n",
    "        )\n",
    "\n",
    "        ax.set_xlabel(f\"density [{row[\"vectorizer\"]},{field_j}]\")\n",
    "        ax.set_ylabel(y_col)\n",
    "\n",
    "        ax.set_ylim(-1.5, 1.5)\n",
    "\n",
    "        "
   ]
  },
  {
   "cell_type": "markdown",
   "metadata": {},
   "source": [
    "## Hierarchical on two densities + non-density vars"
   ]
  },
  {
   "cell_type": "code",
   "execution_count": null,
   "metadata": {},
   "outputs": [],
   "source": [
    "stan_model = \"hreg\""
   ]
  },
  {
   "cell_type": "code",
   "execution_count": null,
   "metadata": {},
   "outputs": [],
   "source": [
    "y_col = \"log_cpy_j\""
   ]
  },
  {
   "cell_type": "code",
   "execution_count": null,
   "metadata": {},
   "outputs": [],
   "source": [
    "used_fit_cols = [_ for _ in scaled_fit_cols if _ in [\"BOW_j\", \"SciBERT_j\",] + scaled_nonden_fit_cols]\n",
    "used_fit_cols"
   ]
  },
  {
   "cell_type": "markdown",
   "metadata": {},
   "source": [
    "### Fit"
   ]
  },
  {
   "cell_type": "code",
   "execution_count": null,
   "metadata": {},
   "outputs": [],
   "source": [
    "output = {\n",
    "    \"y_col\": y_col,\n",
    "}\n",
    "\n",
    "model_name = f\"h-BOW-SciBERT + h-nondens\"\n",
    "\n",
    "# Drop na\n",
    "df_train_i = df_train.dropna()\n",
    "df_test_i = df_train.dropna()\n",
    "\n",
    "# Format data\n",
    "data = {\n",
    "    \"D\": len(used_fit_cols),\n",
    "    \"N\": len(df_train_i),\n",
    "    \"L\": df_train_i[config[\"cat_col\"]].max(),\n",
    "    \"y\": df_train_i[y_col].values,\n",
    "    \"ll\": df_train_i[config[\"cat_col\"]].values,\n",
    "    \"x\": df_train_i[used_fit_cols].values,\n",
    "    \"N_test\": len(df_test_i),\n",
    "    \"x_test\": df_test_i[used_fit_cols].values,\n",
    "    \"y_test\": df_test_i[y_col].values,\n",
    "}\n",
    "\n",
    "# Compile model\n",
    "model = cmdstanpy.CmdStanModel(stan_file=f\"../stan_models/{stan_model}.stan\")\n",
    "\n",
    "# Fit model\n",
    "if not config[\"output_dir\"] is None:\n",
    "    output_dir = os.path.join(config[\"output_dir\"], model_name)\n",
    "fit = model.sample(\n",
    "    data=data,\n",
    "    output_dir=output_dir\n",
    ")\n",
    "\n",
    "# Parse output\n",
    "stan_vars = fit.stan_variables()\n",
    "\n",
    "# Store parameters\n",
    "for param_key in [\"alpha\", \"sigma\"]:\n",
    "    output[param_key] = np.median(stan_vars[param_key])\n",
    "\n",
    "# Store per-field and per var betas\n",
    "betas = np.nanmedian(stan_vars[\"beta\"], axis=0)\n",
    "mu_betas = np.nanmedian(stan_vars[\"mu_beta\"], axis=0)\n",
    "mu_sigmas = np.nanmedian(stan_vars[\"mu_sigma\"], axis=0)\n",
    "for k, fit_col_k in enumerate(used_fit_cols):\n",
    "    for j, field_name_j in enumerate(field_names):\n",
    "        output[f\"beta[{fit_col_k},{field_names[j]}]\"] = betas[j][k]\n",
    "    output[f\"mu_beta[{fit_col_k}]\"] = mu_betas[k]\n",
    "    output[f\"mu_sigma[{fit_col_k}]\"] = mu_sigmas[k]\n",
    "\n",
    "# Calculate log posterior predictive density\n",
    "output[\"log_ppd\"] = log_ppd(draws[\"log_p\"])\n",
    "\n",
    "outputs_for_this_model[model_name] = output\n",
    "results_dict[model_name] = output"
   ]
  },
  {
   "cell_type": "markdown",
   "metadata": {},
   "source": [
    "### Evaluate"
   ]
  },
  {
   "cell_type": "code",
   "execution_count": null,
   "metadata": {},
   "outputs": [],
   "source": [
    "fig = plt.figure(figsize=(6.4 * len(field_names), 4.8 * len(vectorizer_names)))\n",
    "mosaic = [[f\"{fit_col_i}_{field_j}\" for field_j in field_names] for fit_col_i in scaled_fit_cols]\n",
    "ax_dict = fig.subplot_mosaic(mosaic=mosaic)\n",
    "for i, fit_col_i in enumerate(used_fit_cols):\n",
    "    for j, field_j in enumerate(field_names):\n",
    "\n",
    "        ax_key = f\"{fit_col_i}_{field_j}\" \n",
    "        ax = ax_dict[ax_key]\n",
    "\n",
    "        df_plot = df_eval.query(f\"stan_field_code == {j+1}\")\n",
    "\n",
    "        medianplot(\n",
    "            data=df_plot,\n",
    "            x=fit_col_i,\n",
    "            y=y_col,\n",
    "            bins=bins,\n",
    "            ax=ax,\n",
    "        )\n",
    "\n",
    "        # Plot the regression\n",
    "        xs = bins\n",
    "        ys = output[\"alpha\"] + output[f\"beta[{fit_col_i},{field_j}]\"] * xs\n",
    "        ax.plot(\n",
    "            xs,\n",
    "            ys,\n",
    "            color=palette[0],\n",
    "        )\n",
    "        ax.fill_between(\n",
    "            xs,\n",
    "            ys - output[\"sigma\"],\n",
    "            ys + output[\"sigma\"],\n",
    "            color=palette[0],\n",
    "            alpha=0.4,\n",
    "        )\n",
    "\n",
    "        ax.set_xlabel(f\"density [{fit_col_i},{field_j}]\")\n",
    "        ax.set_ylabel(y_col)\n",
    "\n",
    "        ax.set_ylim(-1.5, 1.5)\n",
    "        "
   ]
  },
  {
   "cell_type": "markdown",
   "metadata": {},
   "source": [
    "## Hierarchical on all densities + non-density vars"
   ]
  },
  {
   "cell_type": "code",
   "execution_count": 113,
   "metadata": {},
   "outputs": [],
   "source": [
    "stan_model = \"hreg\""
   ]
  },
  {
   "cell_type": "code",
   "execution_count": 114,
   "metadata": {},
   "outputs": [],
   "source": [
    "y_col = \"log_cpy_j\""
   ]
  },
  {
   "cell_type": "markdown",
   "metadata": {},
   "source": [
    "### Fit"
   ]
  },
  {
   "cell_type": "code",
   "execution_count": null,
   "metadata": {},
   "outputs": [],
   "source": [
    "output = {\n",
    "    \"y_col\": y_col,\n",
    "}\n",
    "\n",
    "model_name = f\"h-dens + h-nondens\"\n",
    "\n",
    "# Drop na\n",
    "df_train_i = df_train.dropna()\n",
    "df_test_i = df_train.dropna()\n",
    "\n",
    "# Format data\n",
    "data = {\n",
    "    \"D\": len(scaled_fit_cols),\n",
    "    \"N\": len(df_train_i),\n",
    "    \"L\": df_train_i[config[\"cat_col\"]].max(),\n",
    "    \"y\": df_train_i[y_col].values,\n",
    "    \"ll\": df_train_i[config[\"cat_col\"]].values,\n",
    "    \"x\": df_train_i[scaled_fit_cols].values,\n",
    "    \"N_test\": len(df_test_i),\n",
    "    \"x_test\": df_test_i[scaled_fit_cols].values,\n",
    "    \"y_test\": df_test_i[y_col].values,\n",
    "}\n",
    "\n",
    "# Compile model\n",
    "model = cmdstanpy.CmdStanModel(stan_file=f\"../stan_models/{stan_model}.stan\")\n",
    "\n",
    "# Fit model\n",
    "if not config[\"output_dir\"] is None:\n",
    "    output_dir = os.path.join(config[\"output_dir\"], model_name)\n",
    "fit = model.sample(\n",
    "    data=data,\n",
    "    output_dir=output_dir\n",
    ")\n",
    "\n",
    "# Parse output\n",
    "stan_vars = fit.stan_variables()\n",
    "\n",
    "# Store parameters\n",
    "for param_key in [\"alpha\", \"sigma\"]:\n",
    "    output[param_key] = np.median(stan_vars[param_key])\n",
    "\n",
    "# Store per-field and per var betas\n",
    "betas = np.nanmedian(stan_vars[\"beta\"], axis=0)\n",
    "mu_betas = np.nanmedian(stan_vars[\"mu_beta\"], axis=0)\n",
    "mu_sigmas = np.nanmedian(stan_vars[\"mu_sigma\"], axis=0)\n",
    "for k, fit_col_k in enumerate(scaled_fit_cols):\n",
    "    for j, field_name_j in enumerate(field_names):\n",
    "        output[f\"beta[{fit_col_k},{field_names[j]}]\"] = betas[j][k]\n",
    "    output[f\"mu_beta[{fit_col_k}]\"] = mu_betas[0]\n",
    "    output[f\"mu_sigma[{fit_col_k}]\"] = mu_sigmas[0]\n",
    "\n",
    "# Calculate log posterior predictive density\n",
    "output[\"log_ppd\"] = log_ppd(draws[\"log_p\"])\n",
    "\n",
    "outputs_for_this_model[model_name] = output\n",
    "results_dict[model_name] = output"
   ]
  },
  {
   "cell_type": "markdown",
   "metadata": {},
   "source": [
    "### Evaluate"
   ]
  },
  {
   "cell_type": "code",
   "execution_count": null,
   "metadata": {},
   "outputs": [],
   "source": [
    "fig = plt.figure(figsize=(6.4 * len(field_names), 4.8 * len(vectorizer_names)))\n",
    "mosaic = [[f\"{fit_col_i}_{field_j}\" for field_j in field_names] for fit_col_i in scaled_fit_cols]\n",
    "ax_dict = fig.subplot_mosaic(mosaic=mosaic)\n",
    "for i, fit_col_i in enumerate(scaled_fit_cols):\n",
    "    for j, field_j in enumerate(field_names):\n",
    "\n",
    "        ax_key = f\"{fit_col_i}_{field_j}\" \n",
    "        ax = ax_dict[ax_key]\n",
    "\n",
    "        df_plot = df_eval.query(f\"stan_field_code == {j+1}\")\n",
    "\n",
    "        medianplot(\n",
    "            data=df_plot,\n",
    "            x=fit_col_i,\n",
    "            y=y_col,\n",
    "            bins=bins,\n",
    "            ax=ax,\n",
    "        )\n",
    "\n",
    "        # Plot the regression\n",
    "        xs = bins\n",
    "        ys = output[\"alpha\"] + output[f\"beta[{fit_col_i},{field_j}]\"] * xs\n",
    "        ax.plot(\n",
    "            xs,\n",
    "            ys,\n",
    "            color=palette[0],\n",
    "        )\n",
    "        ax.fill_between(\n",
    "            xs,\n",
    "            ys - output[\"sigma\"],\n",
    "            ys + output[\"sigma\"],\n",
    "            color=palette[0],\n",
    "            alpha=0.4,\n",
    "        )\n",
    "\n",
    "        ax.set_xlabel(f\"density [{fit_col_i},{field_j}]\")\n",
    "        ax.set_ylabel(y_col)\n",
    "\n",
    "        ax.set_ylim(-1.5, 1.5)\n",
    "        "
   ]
  },
  {
   "cell_type": "markdown",
   "metadata": {},
   "source": [
    "# Save"
   ]
  },
  {
   "cell_type": "code",
   "execution_count": 116,
   "metadata": {},
   "outputs": [],
   "source": [
    "results = pd.DataFrame(results_dict).T"
   ]
  },
  {
   "cell_type": "code",
   "execution_count": 117,
   "metadata": {},
   "outputs": [],
   "source": [
    "# Where we didn't specify a y column we default to log_cpy\n",
    "results[\"y_col\"] = results[\"y_col\"].fillna(\"log_cpy\")"
   ]
  },
  {
   "cell_type": "code",
   "execution_count": 118,
   "metadata": {},
   "outputs": [],
   "source": [
    "# Save results\n",
    "results.to_csv(f\"{config[\"output_dir\"]}/results.csv\")"
   ]
  },
  {
   "cell_type": "code",
   "execution_count": null,
   "metadata": {},
   "outputs": [],
   "source": [
    "results"
   ]
  },
  {
   "cell_type": "markdown",
   "metadata": {},
   "source": [
    "# Summarize"
   ]
  },
  {
   "cell_type": "markdown",
   "metadata": {},
   "source": [
    "## Calculate y_pred"
   ]
  },
  {
   "cell_type": "code",
   "execution_count": 120,
   "metadata": {},
   "outputs": [],
   "source": [
    "# Get the test x values\n",
    "x_test = df_test[fit_cols].fillna(0.0).values"
   ]
  },
  {
   "cell_type": "code",
   "execution_count": 121,
   "metadata": {},
   "outputs": [],
   "source": [
    "# Get the contribution to y_pred from the intercept\n",
    "alphas = results[\"alpha\"].values.reshape(1, -1)"
   ]
  },
  {
   "cell_type": "code",
   "execution_count": null,
   "metadata": {},
   "outputs": [],
   "source": [
    "# Get the coefficients for regular regression\n",
    "# and the contribution to y_pred from the regular regression\n",
    "beta_cols = [f\"beta[{fit_col}]\" for fit_col in fit_cols]\n",
    "betas = results[beta_cols].fillna(0.0).values\n",
    "y_pred_beta = np.matmul(x_test, betas.T)"
   ]
  },
  {
   "cell_type": "code",
   "execution_count": 123,
   "metadata": {},
   "outputs": [],
   "source": [
    "# Calculate and format y_pred (without the hierarchical reg contribution)\n",
    "y_pred = alphas + y_pred_beta\n",
    "y_pred = pd.DataFrame(y_pred, index=df_test.index, columns=results.index)"
   ]
  },
  {
   "cell_type": "code",
   "execution_count": null,
   "metadata": {},
   "outputs": [],
   "source": [
    "# Get the contribution to y_pred from hierarchical regression\n",
    "n_tot = 0\n",
    "for i, field_i in enumerate(field_names):\n",
    "    # Get the x values\n",
    "    df_test_i = df_test.query(f\"stan_field_code == {i + 1}\")\n",
    "    x_test_i = df_test_i[scaled_fit_cols].fillna(0.0).values\n",
    "\n",
    "    # Get the slopes used for this particular field\n",
    "    beta_cols_i = [\n",
    "        f\"beta[{fit_col_j},{field_i}]\" for fit_col_j in scaled_fit_cols\n",
    "    ]\n",
    "    betas_j = results[beta_cols_i].fillna(0.0).values\n",
    "\n",
    "    # Get y_pred and store it\n",
    "    y_pred_beta_i = np.matmul(x_test_i, betas_j.T)\n",
    "    y_pred.loc[df_test_i.index] += y_pred_beta_i\n",
    "\n",
    "    # Keep track of n_tot as a double check that every observation has a contribution\n",
    "    # from their primary field\n",
    "    n_tot += len(y_pred_beta_i)\n",
    "\n",
    "assert n_tot == len(df_test), \"y_pred count doesn't match\""
   ]
  },
  {
   "cell_type": "code",
   "execution_count": null,
   "metadata": {},
   "outputs": [],
   "source": [
    "# Calculate original non-scaled y_pred\n",
    "y_pred_orig = y_pred.copy()\n",
    "y_pred_orig = y_pred_orig.set_index([df_test[\"stan_field_code\"], y_pred_orig.index]).sort_index()\n",
    "for i, field_i in enumerate(field_names):\n",
    "    y_pred_i = y_pred_orig.loc[i+1].copy()\n",
    "    for j, model_j in enumerate(results.index):\n",
    "        if results.loc[model_j,\"y_col\"] == \"log_cpy\":\n",
    "            scaler_used = scaler\n",
    "        if results.loc[model_j,\"y_col\"] == \"log_cpy_j\":\n",
    "            scaler_used = scalers[i+1]\n",
    "        y_pred_orig_ij = scaler_used.scale_[0] * y_pred_i[model_j] + scaler_used.mean_[0]\n",
    "        y_pred_i[model_j] = y_pred_orig_ij\n",
    "    y_pred_orig.loc[i+1] = y_pred_i.values\n",
    "\n",
    "# Put the entries back where we found them\n",
    "y_pred_orig = y_pred_orig.reset_index().set_index(\"identifier\").loc[y_pred.index]\n",
    "y_pred_orig = y_pred_orig.drop(\"stan_field_code\", axis=\"columns\")\n",
    "y_pred_orig\n"
   ]
  },
  {
   "cell_type": "code",
   "execution_count": null,
   "metadata": {},
   "outputs": [],
   "source": [
    "y_pred"
   ]
  },
  {
   "cell_type": "markdown",
   "metadata": {},
   "source": [
    "## Basic metrics"
   ]
  },
  {
   "cell_type": "markdown",
   "metadata": {},
   "source": [
    "### Log Posterior Predictive Density"
   ]
  },
  {
   "cell_type": "code",
   "execution_count": null,
   "metadata": {},
   "outputs": [],
   "source": [
    "fig = plt.figure(figsize=(6.4 * len(results) / 10, 4.8))\n",
    "ax = plt.gca()\n",
    "\n",
    "x = np.arange(len(results))\n",
    "ax.scatter(\n",
    "    x,\n",
    "    results[\"log_ppd\"] - results.loc[\"base\", \"log_ppd\"],\n",
    ")\n",
    "\n",
    "ax.set_xticks(x)\n",
    "ax.set_xticklabels(results.index, rotation=45, ha=\"right\")\n",
    "\n",
    "ax.set_ylabel(r\"PPD $\\log$ likelihood ratio\")"
   ]
  },
  {
   "cell_type": "markdown",
   "metadata": {},
   "source": [
    "### RMSE"
   ]
  },
  {
   "cell_type": "code",
   "execution_count": 128,
   "metadata": {},
   "outputs": [],
   "source": [
    "# Calculate rmse\n",
    "rmse = []\n",
    "for i, y_col_i in enumerate(results[\"y_col\"]):\n",
    "    model_i = results.index[i]\n",
    "    rmse_i = root_mean_squared_error(df_test[y_col_i], y_pred[model_i])\n",
    "    rmse.append(rmse_i)\n",
    "results[\"rmse\"] = rmse"
   ]
  },
  {
   "cell_type": "code",
   "execution_count": null,
   "metadata": {},
   "outputs": [],
   "source": [
    "fig = plt.figure()\n",
    "ax = plt.gca()\n",
    "\n",
    "x = np.arange(len(results))\n",
    "ax.scatter(\n",
    "    x,\n",
    "    results[\"rmse\"],\n",
    ")\n",
    "\n",
    "ax.set_xticks(x)\n",
    "ax.set_xticklabels(results.index, rotation=45, ha=\"right\")\n",
    "ax.set_ylabel(\"rmse\")"
   ]
  },
  {
   "cell_type": "markdown",
   "metadata": {},
   "source": [
    "### Maximum slopes"
   ]
  },
  {
   "cell_type": "code",
   "execution_count": 130,
   "metadata": {},
   "outputs": [],
   "source": [
    "max_betas = results[beta_cols].max(axis=\"columns\")"
   ]
  },
  {
   "cell_type": "code",
   "execution_count": null,
   "metadata": {},
   "outputs": [],
   "source": [
    "fig = plt.figure()\n",
    "ax = plt.gca()\n",
    "\n",
    "x = np.arange(len(results))\n",
    "ax.scatter(\n",
    "    x,\n",
    "    max_betas,\n",
    ")\n",
    "\n",
    "ax.set_xticks(x)\n",
    "ax.set_xticklabels(results.index, rotation=45, ha=\"right\")\n",
    "ax.set_ylabel(r\"max($\\beta_i$)\")\n",
    "\n",
    "ax.set_ylim(0, ax.get_ylim()[1])"
   ]
  },
  {
   "cell_type": "code",
   "execution_count": null,
   "metadata": {},
   "outputs": [],
   "source": [
    "# max slopes correlation with rmse\n",
    "ax = sns.scatterplot(\n",
    "    results,\n",
    "    x=max_betas,\n",
    "    y=1 - results[\"rmse\"],\n",
    ")\n",
    "ax.set_xlim(0, ax.get_xlim()[1])\n",
    "ax.set_ylim(0, ax.get_ylim()[1])\n",
    "\n",
    "ax.set_xlabel(r\"$\\max(\\beta_i)$\")\n",
    "ax.set_ylabel(r\"1 - rmse\")"
   ]
  },
  {
   "cell_type": "markdown",
   "metadata": {},
   "source": [
    "### RMSE vs distance from center"
   ]
  },
  {
   "cell_type": "code",
   "execution_count": null,
   "metadata": {},
   "outputs": [],
   "source": [
    "# Inspect rmse as a function of distance from the center\n",
    "for model_i in results.index:\n",
    "\n",
    "    row = results.loc[model_i]\n",
    "\n",
    "    # Only do models that have a density dependence\n",
    "    try:\n",
    "        vectorizer_i = model_i.split(\"_\")[-1]\n",
    "        assert vectorizer_i in vectorizer_names\n",
    "    except AssertionError:\n",
    "        continue\n",
    "\n",
    "    # Bin and labels setup\n",
    "    bins = np.linspace(-3, 3, config[\"bins\"])\n",
    "    centers = 0.5 * (bins[:-1] + bins[1:])\n",
    "    den_key = f\"rho_{vectorizer_i}\"\n",
    "    cut_key = f\"{den_key}_bin\"\n",
    "    model_key = f\"y_pred_{model_i}\"\n",
    "\n",
    "    # Format data into a new df and group it\n",
    "    df_test_to_group = pd.DataFrame()\n",
    "    df_test_to_group[den_key] = df_test[vectorizer_i]\n",
    "    df_test_to_group[model_key] = y_pred[model_i]\n",
    "    df_test_to_group[cut_key] = pd.cut(df_test_to_group[den_key], bins)\n",
    "    df_test_to_group[\"y_test\"] = df_test[row[\"y_col\"]]\n",
    "    df_grouped = df_test_to_group.groupby(cut_key)\n",
    "\n",
    "    # Get mean predicted y per bin\n",
    "    def get_mean_y_pred(df):\n",
    "        if len(df) == 0:\n",
    "            return np.nan\n",
    "        return df[model_key].mean()\n",
    "\n",
    "    mean_y_pred = df_grouped.apply(get_mean_y_pred)\n",
    "\n",
    "    # Get rmse\n",
    "    def get_rmse_of_df(df):\n",
    "        if len(df) == 0:\n",
    "            return np.nan\n",
    "        return root_mean_squared_error(df[\"y_test\"], df[model_key])\n",
    "\n",
    "    rmse_per_bin = df_grouped.apply(get_rmse_of_df)\n",
    "\n",
    "    # Also get rmse if y_pred was just the mean\n",
    "    def get_rmse_from_mean(df):\n",
    "        if len(df) == 0:\n",
    "            return np.nan\n",
    "        y_pred = np.zeros(len(df))  # Since we normalized to 0\n",
    "        return root_mean_squared_error(df[\"y_test\"], y_pred)\n",
    "\n",
    "    rmse_from_mean = df_grouped.apply(get_rmse_from_mean)\n",
    "\n",
    "    # And rmse expected if it was a straight improvement on the mean that scales with\n",
    "    # slope\n",
    "    min_rmse = rmse_from_mean - np.abs(centers * row[f\"beta[{vectorizer_i}]\"])\n",
    "\n",
    "    # Plot\n",
    "    fig, ax_dict = plt.subplot_mosaic(\n",
    "        [\n",
    "            [\n",
    "                \"hist\",\n",
    "            ],\n",
    "            [\n",
    "                \"reg\",\n",
    "            ],\n",
    "            [\n",
    "                \"reg\",\n",
    "            ],\n",
    "            [\n",
    "                \"rmse\",\n",
    "            ],\n",
    "            [\n",
    "                \"rmse\",\n",
    "            ],\n",
    "        ],\n",
    "        figsize=(8, 12),\n",
    "    )\n",
    "\n",
    "    # Hist plot\n",
    "    ax = ax_dict[\"hist\"]\n",
    "    sns.histplot(\n",
    "        x=df_test_to_group[den_key],\n",
    "        ax=ax,\n",
    "        bins=bins,\n",
    "    )\n",
    "    ax.set_xlim(bins[0], bins[-1])\n",
    "    ax.set_title(model_i)\n",
    "    ax.set_xlabel(None)\n",
    "\n",
    "    # Regression plot\n",
    "    ax = ax_dict[\"reg\"]\n",
    "\n",
    "    # Plot the median\n",
    "    medianplot(\n",
    "        data=df_test_to_group,\n",
    "        x=den_key,\n",
    "        y=\"y_test\",\n",
    "        bins=bins,\n",
    "        ax=ax,\n",
    "    )\n",
    "\n",
    "    # Plot the regression\n",
    "    xs = bins\n",
    "    ys = row[\"alpha\"] + row[f\"beta[{vectorizer_i}]\"] * xs\n",
    "    ax.plot(\n",
    "        xs,\n",
    "        ys,\n",
    "        color=palette[0],\n",
    "    )\n",
    "    ax.fill_between(\n",
    "        xs,\n",
    "        ys - row[\"sigma\"],\n",
    "        ys + row[\"sigma\"],\n",
    "        color=palette[0],\n",
    "        alpha=0.25,\n",
    "    )\n",
    "\n",
    "    # Plot what y_pred actually is\n",
    "    ax = sns.scatterplot(\n",
    "        x=centers,\n",
    "        y=mean_y_pred,\n",
    "        ax=ax,\n",
    "    )\n",
    "\n",
    "    ax.set_xlabel(None)\n",
    "    ax.set_ylabel(\"log_cpy\")\n",
    "\n",
    "    # RMSE plot\n",
    "    ax = ax_dict[\"rmse\"]\n",
    "    ax = sns.scatterplot(\n",
    "        x=centers,\n",
    "        y=rmse_per_bin,\n",
    "        ax=ax,\n",
    "        label=\"rmse\",\n",
    "    )\n",
    "    ax = sns.scatterplot(x=centers, y=rmse_from_mean, ax=ax, label=\"rmse(y_pred=0)\")\n",
    "    ax = sns.scatterplot(x=centers, y=min_rmse, ax=ax, label=\"min rmse\")\n",
    "    ax.legend()\n",
    "    # Center line\n",
    "    ax.axvline(\n",
    "        0,\n",
    "        c=\"0.2\",\n",
    "        linestyle=\"--\",\n",
    "    )\n",
    "    # Global rmse line\n",
    "    ax.axhline(\n",
    "        results.loc[model_i, \"rmse\"],\n",
    "        c=\"0.2\",\n",
    "        linestyle=\"--\",\n",
    "    )\n",
    "\n",
    "    ax.set_ylabel(\"rmse\")\n",
    "    ax.set_xlabel(den_key)\n",
    "\n",
    "    ax.set_xlim(bins[0], bins[-1])\n",
    "    ax.set_ylim(0, ax.get_ylim()[1])\n",
    "    fig"
   ]
  },
  {
   "cell_type": "markdown",
   "metadata": {},
   "source": [
    "The issue is that RMSE is capturing two behaviors: distance from the mean and also width of the distribution.\n",
    "The width of the distribution largely dominates over the distance from the mean.\n",
    "So instead we may want a metric that is an evaluation of the distance median.\n",
    "This might relate to Nathaniel's choice to bin."
   ]
  },
  {
   "cell_type": "markdown",
   "metadata": {},
   "source": [
    "## Many metrics"
   ]
  },
  {
   "cell_type": "code",
   "execution_count": 134,
   "metadata": {},
   "outputs": [],
   "source": [
    "metrics = {\n",
    "    r\"$R^2$\": sk_metrics.r2_score,\n",
    "    \"1-MAE\": lambda y_true, y_pred: 1 - sk_metrics.mean_absolute_error(y_true, y_pred),\n",
    "    \"1-RMSE\": lambda y_true, y_pred: 1\n",
    "    - sk_metrics.root_mean_squared_error(y_true, y_pred),\n",
    "    \"1-MAPE\": lambda y_true, y_pred: 1\n",
    "    - sk_metrics.mean_absolute_percentage_error(y_true, y_pred),\n",
    "    \"1-MedAE\": lambda y_true, y_pred: 1\n",
    "    - sk_metrics.median_absolute_error(y_true, y_pred),\n",
    "    \"1-MPinL\": lambda y_true, y_pred: 1 - sk_metrics.mean_pinball_loss(y_true, y_pred),\n",
    "    r\"$D^2_{pin}$\": sk_metrics.d2_pinball_score,\n",
    "    r\"$D^2_{abs}$\": sk_metrics.d2_absolute_error_score,\n",
    "}"
   ]
  },
  {
   "cell_type": "code",
   "execution_count": null,
   "metadata": {},
   "outputs": [],
   "source": [
    "for metric_label, metric_fn in metrics.items():\n",
    "\n",
    "    # Calculate the metric\n",
    "    metric = []\n",
    "    for i, model_i in enumerate(results.index):\n",
    "        metric_i = metric_fn(df_test[results.loc[model_i, \"y_col\"]], y_pred[model_i])\n",
    "        metric.append(metric_i)\n",
    "\n",
    "    # Plot\n",
    "    fig = plt.figure(figsize=(6.8 * len(results) / 10, 4.8))\n",
    "    ax = plt.gca()\n",
    "\n",
    "    x = np.arange(len(results))\n",
    "    ax.scatter(\n",
    "        x,\n",
    "        metric,\n",
    "    )\n",
    "\n",
    "    ax.set_xticks(x)\n",
    "    ax.set_xticklabels(results.index, rotation=45, ha=\"right\")\n",
    "    ax.set_ylabel(metric_label)"
   ]
  },
  {
   "cell_type": "markdown",
   "metadata": {},
   "source": [
    "## Many metrics rescaled\n",
    "Back in original units"
   ]
  },
  {
   "cell_type": "code",
   "execution_count": null,
   "metadata": {},
   "outputs": [],
   "source": [
    "y_test = df_eval_copy.loc[df_test.index, \"log_cpy\"]\n",
    "\n",
    "for metric_label, metric_fn in metrics.items():\n",
    "    # Calculate the metric\n",
    "    metric = []\n",
    "    for i, model_i in enumerate(results.index):\n",
    "        metric_i = metric_fn(y_test, y_pred_orig[model_i])\n",
    "        metric.append(metric_i)\n",
    "\n",
    "    # Plot\n",
    "    fig = plt.figure(figsize=(6.8 * len(results) / 10, 4.8))\n",
    "    ax = plt.gca()\n",
    "\n",
    "    x = np.arange(len(results))\n",
    "    ax.scatter(\n",
    "        x,\n",
    "        metric,\n",
    "    )\n",
    "\n",
    "    ax.set_xticks(x)\n",
    "    ax.set_xticklabels(results.index, rotation=45, ha=\"right\")\n",
    "    ax.set_ylabel(metric_label)"
   ]
  },
  {
   "cell_type": "code",
   "execution_count": null,
   "metadata": {},
   "outputs": [],
   "source": []
  }
 ],
 "metadata": {
  "kernelspec": {
   "display_name": "citesim",
   "language": "python",
   "name": "python3"
  },
  "language_info": {
   "codemirror_mode": {
    "name": "ipython",
    "version": 3
   },
   "file_extension": ".py",
   "mimetype": "text/x-python",
   "name": "python",
   "nbconvert_exporter": "python",
   "pygments_lexer": "ipython3",
   "version": "3.12.4"
  }
 },
 "nbformat": 4,
 "nbformat_minor": 2
}
